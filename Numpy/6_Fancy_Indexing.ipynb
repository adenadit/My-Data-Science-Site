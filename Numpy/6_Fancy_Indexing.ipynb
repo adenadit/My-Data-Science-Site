{
  "nbformat": 4,
  "nbformat_minor": 0,
  "metadata": {
    "colab": {
      "provenance": [],
      "authorship_tag": "ABX9TyMUw0vnK0B2hxQDf/a+5K/y",
      "include_colab_link": true
    },
    "kernelspec": {
      "name": "python3",
      "display_name": "Python 3"
    },
    "language_info": {
      "name": "python"
    }
  },
  "cells": [
    {
      "cell_type": "markdown",
      "metadata": {
        "id": "view-in-github",
        "colab_type": "text"
      },
      "source": [
        "<a href=\"https://colab.research.google.com/github/adenadit/My-Data-Science-Site/blob/main/Numpy/Basic/6_Fancy_Indexing.ipynb\" target=\"_parent\"><img src=\"https://colab.research.google.com/assets/colab-badge.svg\" alt=\"Open In Colab\"/></a>"
      ]
    },
    {
      "cell_type": "markdown",
      "source": [
        "# **Exploring Fancy Indexing**"
      ],
      "metadata": {
        "id": "LQWYY7I5-oep"
      }
    },
    {
      "cell_type": "code",
      "source": [
        "import numpy as np"
      ],
      "metadata": {
        "id": "7I54kMFb-LJn"
      },
      "execution_count": 2,
      "outputs": []
    },
    {
      "cell_type": "code",
      "source": [
        "rand = np.random.RandomState(42)"
      ],
      "metadata": {
        "id": "lrW4lnkjE9Pe"
      },
      "execution_count": 16,
      "outputs": []
    },
    {
      "cell_type": "code",
      "source": [
        "x = rand.randint(100, size=10)"
      ],
      "metadata": {
        "id": "dNa-RRPYGPde"
      },
      "execution_count": null,
      "outputs": []
    },
    {
      "cell_type": "code",
      "source": [
        "print(x)"
      ],
      "metadata": {
        "colab": {
          "base_uri": "https://localhost:8080/"
        },
        "id": "tsCOg4xlGiG8",
        "outputId": "05ea8fb1-b2c0-4096-9cae-917b730cae4a"
      },
      "execution_count": null,
      "outputs": [
        {
          "output_type": "stream",
          "name": "stdout",
          "text": [
            "[87 99 23  2 21 52  1 87 29 37]\n"
          ]
        }
      ]
    },
    {
      "cell_type": "markdown",
      "source": [
        ">kemudian kita membentuk array baru dengan nilai yang telah ada sebelumnya"
      ],
      "metadata": {
        "id": "3jg7jnZsG22S"
      }
    },
    {
      "cell_type": "code",
      "source": [
        "[x[2],x[7],x[4]]"
      ],
      "metadata": {
        "colab": {
          "base_uri": "https://localhost:8080/"
        },
        "id": "oYjW8YpPG2Tg",
        "outputId": "ceb1a8e2-79a7-46e9-ca46-ab0e01fd1599"
      },
      "execution_count": null,
      "outputs": [
        {
          "output_type": "execute_result",
          "data": {
            "text/plain": [
              "[23, 87, 21]"
            ]
          },
          "metadata": {},
          "execution_count": 7
        }
      ]
    },
    {
      "cell_type": "markdown",
      "source": [
        ">atau dengan alternative lain seperti"
      ],
      "metadata": {
        "id": "QJaZBcPlHZNk"
      }
    },
    {
      "cell_type": "code",
      "source": [
        "ind = [2,7,4]\n",
        "x[ind]"
      ],
      "metadata": {
        "colab": {
          "base_uri": "https://localhost:8080/"
        },
        "id": "yPUB0irJHebT",
        "outputId": "044a4cd5-5087-42b0-a28b-905366145763"
      },
      "execution_count": null,
      "outputs": [
        {
          "output_type": "execute_result",
          "data": {
            "text/plain": [
              "array([23, 87, 21])"
            ]
          },
          "metadata": {},
          "execution_count": 8
        }
      ]
    },
    {
      "cell_type": "markdown",
      "source": [
        ">atau seandainya kita ingin memasukann ke format 2 dmiensi array"
      ],
      "metadata": {
        "id": "h1VfFfMnImq8"
      }
    },
    {
      "cell_type": "code",
      "source": [
        "ind = np.array([[2,7],[3,7]])\n",
        "x[ind]"
      ],
      "metadata": {
        "colab": {
          "base_uri": "https://localhost:8080/"
        },
        "id": "TzoIBGj1IslR",
        "outputId": "a6f03311-e8d1-4221-cc81-684cfed67935"
      },
      "execution_count": null,
      "outputs": [
        {
          "output_type": "execute_result",
          "data": {
            "text/plain": [
              "array([[23, 87],\n",
              "       [ 2, 87]])"
            ]
          },
          "metadata": {},
          "execution_count": 9
        }
      ]
    },
    {
      "cell_type": "markdown",
      "source": [
        ">fancy indexing memungkinkan kita bekerja dengan multiple dimensi sekalipun"
      ],
      "metadata": {
        "id": "2IOzlZDZJHKd"
      }
    },
    {
      "cell_type": "code",
      "source": [
        "x1 = np.arange(12).reshape((3,4))\n",
        "print(x1)"
      ],
      "metadata": {
        "colab": {
          "base_uri": "https://localhost:8080/"
        },
        "id": "20GiQZkxI9Ex",
        "outputId": "a182eb49-9600-4eca-c82d-8bcb81d0e667"
      },
      "execution_count": null,
      "outputs": [
        {
          "output_type": "stream",
          "name": "stdout",
          "text": [
            "[[ 0  1  2  3]\n",
            " [ 4  5  6  7]\n",
            " [ 8  9 10 11]]\n"
          ]
        }
      ]
    },
    {
      "cell_type": "markdown",
      "source": [
        ">kemudian kita menginginkan untuk membuat lagi array baru berdasarkan array x1 dengan mengambil data pada (0,1),(2,3),dan (2,2).\n",
        "maka dapat dituliskan menjadi"
      ],
      "metadata": {
        "id": "oVYkJN4HKKxr"
      }
    },
    {
      "cell_type": "code",
      "source": [
        "row =np.array([0,2,2])\n",
        "col = np.array([1,3,2])\n",
        "x1[row,col]"
      ],
      "metadata": {
        "colab": {
          "base_uri": "https://localhost:8080/"
        },
        "id": "EbnWts0QKoTC",
        "outputId": "5cb5d162-b58f-492a-d21b-050fc5e4cf41"
      },
      "execution_count": null,
      "outputs": [
        {
          "output_type": "execute_result",
          "data": {
            "text/plain": [
              "array([ 1, 11, 10])"
            ]
          },
          "metadata": {},
          "execution_count": 13
        }
      ]
    },
    {
      "cell_type": "markdown",
      "source": [
        ">kemudian untuk membuat sebuah array dengan acuan colom dengan nilai baru yang terteramerupakan baris dari kolom tersebut"
      ],
      "metadata": {
        "id": "cs-IA2GOL3ph"
      }
    },
    {
      "cell_type": "code",
      "source": [
        "x1[row[:, np.newaxis],col]"
      ],
      "metadata": {
        "colab": {
          "base_uri": "https://localhost:8080/"
        },
        "id": "3Qam839cLC1A",
        "outputId": "97703718-6cdb-4aca-a1f1-4be94fc440cb"
      },
      "execution_count": null,
      "outputs": [
        {
          "output_type": "execute_result",
          "data": {
            "text/plain": [
              "array([[ 1,  3,  2],\n",
              "       [ 9, 11, 10],\n",
              "       [ 9, 11, 10]])"
            ]
          },
          "metadata": {},
          "execution_count": 15
        }
      ]
    },
    {
      "cell_type": "markdown",
      "source": [
        ">ataupun kita ingin menampilkan nilai dari hasil aritmatik antara baris dan colom"
      ],
      "metadata": {
        "id": "CMLchP8NMabc"
      }
    },
    {
      "cell_type": "code",
      "source": [
        "row[:, np.newaxis] * col"
      ],
      "metadata": {
        "colab": {
          "base_uri": "https://localhost:8080/"
        },
        "id": "z6JcnN7qLkbZ",
        "outputId": "9b46f09b-f051-4b12-fa11-1ae5280ceef1"
      },
      "execution_count": null,
      "outputs": [
        {
          "output_type": "execute_result",
          "data": {
            "text/plain": [
              "array([[0, 0, 0],\n",
              "       [2, 6, 4],\n",
              "       [2, 6, 4]])"
            ]
          },
          "metadata": {},
          "execution_count": 16
        }
      ]
    },
    {
      "cell_type": "markdown",
      "source": [
        "# **Combined Indexing**"
      ],
      "metadata": {
        "id": "BxeLxGe9M0BO"
      }
    },
    {
      "cell_type": "markdown",
      "source": [
        ">dengan hal ini memungkinkan kita mengkombinasikan inedx dari suatu array"
      ],
      "metadata": {
        "id": "VKEeoLLKNEC8"
      }
    },
    {
      "cell_type": "code",
      "source": [
        "print(x1)"
      ],
      "metadata": {
        "colab": {
          "base_uri": "https://localhost:8080/"
        },
        "id": "EAYP2GItNKwA",
        "outputId": "14d4c75e-dc6c-4bdc-c313-a2e152fd607e"
      },
      "execution_count": null,
      "outputs": [
        {
          "output_type": "stream",
          "name": "stdout",
          "text": [
            "[[ 0  1  2  3]\n",
            " [ 4  5  6  7]\n",
            " [ 8  9 10 11]]\n"
          ]
        }
      ]
    },
    {
      "cell_type": "code",
      "source": [
        "x1[2,[2,0,1]]     #memanggil index pada (2,2),(2,0) dan (2,1)"
      ],
      "metadata": {
        "colab": {
          "base_uri": "https://localhost:8080/"
        },
        "id": "RLGj_ABkNYHy",
        "outputId": "a458ea99-2f3d-4adf-855a-b3597e6d64bb"
      },
      "execution_count": null,
      "outputs": [
        {
          "output_type": "execute_result",
          "data": {
            "text/plain": [
              "array([10,  8,  9])"
            ]
          },
          "metadata": {},
          "execution_count": 20
        }
      ]
    },
    {
      "cell_type": "markdown",
      "source": [
        ">atau mengabungkan metode dengan slicing"
      ],
      "metadata": {
        "id": "_h8mLuMARIMH"
      }
    },
    {
      "cell_type": "code",
      "source": [
        "x1[1:,[2,0,1]]"
      ],
      "metadata": {
        "colab": {
          "base_uri": "https://localhost:8080/"
        },
        "id": "kBNP68w8RPTG",
        "outputId": "74c960f7-4f37-4917-a196-e2a97f20169a"
      },
      "execution_count": null,
      "outputs": [
        {
          "output_type": "execute_result",
          "data": {
            "text/plain": [
              "array([[ 6,  4,  5],\n",
              "       [10,  8,  9]])"
            ]
          },
          "metadata": {},
          "execution_count": 21
        }
      ]
    },
    {
      "cell_type": "markdown",
      "source": [
        ">dan kita juga dapat mengkombinasikan fancy indexing dengan masking"
      ],
      "metadata": {
        "id": "KvIaFiCLRee0"
      }
    },
    {
      "cell_type": "code",
      "source": [
        "mask = np.array([1,0,1,0],dtype=bool)\n",
        "x1[row[:,np.newaxis],mask]"
      ],
      "metadata": {
        "colab": {
          "base_uri": "https://localhost:8080/"
        },
        "id": "3USxBgJiRl58",
        "outputId": "3814cf37-cd72-4da2-9524-89aa15bd3bba"
      },
      "execution_count": null,
      "outputs": [
        {
          "output_type": "execute_result",
          "data": {
            "text/plain": [
              "array([[ 0,  2],\n",
              "       [ 8, 10],\n",
              "       [ 8, 10]])"
            ]
          },
          "metadata": {},
          "execution_count": 22
        }
      ]
    },
    {
      "cell_type": "markdown",
      "source": [
        "# **Example : Selecting Random Points**"
      ],
      "metadata": {
        "id": "ubkjcMTESEAa"
      }
    },
    {
      "cell_type": "markdown",
      "source": [
        "Salah satu penggunaan umum pengindeksan mewah adalah pemilihan himpunan bagian baris dari suatu matriks.\n",
        "Misalnya, kita mungkin memiliki matriks N kali D yang mewakili N titik dalam dimensi D, seperti titik-titik berikut yang diambil dari distribusi normal dua dimensi:"
      ],
      "metadata": {
        "id": "Jb7AFcQNSewK"
      }
    },
    {
      "cell_type": "code",
      "source": [
        "mean = [0,0]\n",
        "cov = [[1,2],\n",
        "       [2,5]]\n",
        "X = rand.multivariate_normal(mean, cov, 100)\n",
        "X.shape"
      ],
      "metadata": {
        "colab": {
          "base_uri": "https://localhost:8080/"
        },
        "id": "B64rWhssM5ne",
        "outputId": "ed54794d-5462-4aed-973d-72516682eb2d"
      },
      "execution_count": 17,
      "outputs": [
        {
          "output_type": "execute_result",
          "data": {
            "text/plain": [
              "(100, 2)"
            ]
          },
          "metadata": {},
          "execution_count": 17
        }
      ]
    },
    {
      "cell_type": "code",
      "source": [
        "import matplotlib.pyplot as plt\n",
        "import seaborn; seaborn.set()\n",
        "\n",
        "plt.scatter(X[:,0], X[:,1]);"
      ],
      "metadata": {
        "colab": {
          "base_uri": "https://localhost:8080/",
          "height": 434
        },
        "id": "BqCfDwfmTUGH",
        "outputId": "3cf21f38-ca6f-4cd4-e45d-53a24d5da6fd"
      },
      "execution_count": 18,
      "outputs": [
        {
          "output_type": "display_data",
          "data": {
            "text/plain": [
              "<Figure size 640x480 with 1 Axes>"
            ],
            "image/png": "[encoded data removed]"
          },
          "metadata": {}
        }
      ]
    },
    {
      "cell_type": "code",
      "source": [
        "indices = np.random.choice(X.shape[0], 20, replace=False)\n",
        "indices"
      ],
      "metadata": {
        "colab": {
          "base_uri": "https://localhost:8080/"
        },
        "id": "09QoCTRfUO78",
        "outputId": "9ccc9e77-601f-4ad3-dbd5-1b6fbbdc1a10"
      },
      "execution_count": null,
      "outputs": [
        {
          "output_type": "execute_result",
          "data": {
            "text/plain": [
              "array([41, 79, 38, 23, 52,  6,  2, 34, 35, 62, 36, 97,  9, 90, 32, 14,  5,\n",
              "       89, 15, 37])"
            ]
          },
          "metadata": {},
          "execution_count": 29
        }
      ]
    },
    {
      "cell_type": "code",
      "source": [
        "selection = X[indices]        # Fancy Indexing\n",
        "selection.shape"
      ],
      "metadata": {
        "colab": {
          "base_uri": "https://localhost:8080/"
        },
        "id": "OF1k2AvKUuza",
        "outputId": "c9df071c-c65c-49a6-b9cb-351fcd4b725e"
      },
      "execution_count": null,
      "outputs": [
        {
          "output_type": "execute_result",
          "data": {
            "text/plain": [
              "(20, 2)"
            ]
          },
          "metadata": {},
          "execution_count": 30
        }
      ]
    },
    {
      "cell_type": "code",
      "source": [
        "plt.scatter(X[:,0],X[:,1], alpha=0.3)\n",
        "plt.scatter(selection[:,0],selection[:,1],\n",
        "            facecolor='red', s = 200);"
      ],
      "metadata": {
        "colab": {
          "base_uri": "https://localhost:8080/",
          "height": 434
        },
        "id": "lcInKlUlU-bM",
        "outputId": "b6012305-ae05-45a7-9f09-3549bfe97ae8"
      },
      "execution_count": null,
      "outputs": [
        {
          "output_type": "display_data",
          "data": {
            "text/plain": [
              "<Figure size 640x480 with 1 Axes>"
            ],
            "image/png": "[encoded data removed]"
          },
          "metadata": {}
        }
      ]
    },
    {
      "cell_type": "markdown",
      "source": [
        "# **Modifying Values with Fancy Indexing**"
      ],
      "metadata": {
        "id": "xBrEs4-C-01f"
      }
    },
    {
      "cell_type": "code",
      "source": [
        "a = np.arange(10)\n",
        "b = np.array([2, 1, 8, 4])\n",
        "a[b] = 99\n",
        "\n",
        "print(a)"
      ],
      "metadata": {
        "colab": {
          "base_uri": "https://localhost:8080/"
        },
        "id": "jR0MZ08B_GsM",
        "outputId": "e93aa81f-66c4-4da4-8564-f1b5d88f81c9"
      },
      "execution_count": 3,
      "outputs": [
        {
          "output_type": "stream",
          "name": "stdout",
          "text": [
            "[ 0 99 99  3 99  5  6  7 99  9]\n"
          ]
        }
      ]
    },
    {
      "cell_type": "code",
      "source": [
        "a[b] -= 20\n",
        "print(a)"
      ],
      "metadata": {
        "colab": {
          "base_uri": "https://localhost:8080/"
        },
        "id": "5A2J9lqp_-cU",
        "outputId": "d2b1c12f-2108-4d03-b033-5354b9393868"
      },
      "execution_count": 5,
      "outputs": [
        {
          "output_type": "stream",
          "name": "stdout",
          "text": [
            "[ 0 59 59  3 59  5  6  7 59  9]\n"
          ]
        }
      ]
    },
    {
      "cell_type": "code",
      "source": [
        "c = np.zeros(10)\n",
        "c[[0, 0]] = [4, 6]\n",
        "print(c)"
      ],
      "metadata": {
        "colab": {
          "base_uri": "https://localhost:8080/"
        },
        "id": "gWO2CFlEAIae",
        "outputId": "2f7f9664-9bce-4bb3-fb05-14910ffadab1"
      },
      "execution_count": 6,
      "outputs": [
        {
          "output_type": "stream",
          "name": "stdout",
          "text": [
            "[6. 0. 0. 0. 0. 0. 0. 0. 0. 0.]\n"
          ]
        }
      ]
    },
    {
      "cell_type": "code",
      "source": [
        "d = [2, 3, 3, 4, 4, 4]\n",
        "c[d] += 1\n",
        "\n",
        "print(c)"
      ],
      "metadata": {
        "colab": {
          "base_uri": "https://localhost:8080/"
        },
        "id": "e6FBiumlArax",
        "outputId": "7f81d8c3-f9d4-4c0f-8910-af487ebed773"
      },
      "execution_count": 7,
      "outputs": [
        {
          "output_type": "stream",
          "name": "stdout",
          "text": [
            "[6. 0. 1. 1. 1. 0. 0. 0. 0. 0.]\n"
          ]
        }
      ]
    },
    {
      "cell_type": "code",
      "source": [
        "c = np.zeros(10)\n",
        "np.add.at(c, d, 1)\n",
        "print(c)"
      ],
      "metadata": {
        "colab": {
          "base_uri": "https://localhost:8080/"
        },
        "id": "tz-Q9OheA3kR",
        "outputId": "922b1f03-9f81-45e9-97a3-92575dde5d32"
      },
      "execution_count": 9,
      "outputs": [
        {
          "output_type": "stream",
          "name": "stdout",
          "text": [
            "[0. 0. 1. 2. 3. 0. 0. 0. 0. 0.]\n"
          ]
        }
      ]
    },
    {
      "cell_type": "markdown",
      "source": [
        "# **Example : Binning Data**"
      ],
      "metadata": {
        "id": "yMzmWNiZBcvS"
      }
    },
    {
      "cell_type": "code",
      "source": [
        "np.random.seed(42)\n",
        "e = np.random.randn(100)"
      ],
      "metadata": {
        "id": "RmXGQbVTBjbC"
      },
      "execution_count": 10,
      "outputs": []
    },
    {
      "cell_type": "code",
      "source": [
        "# hitung sebuah histogram\n",
        "bins = np.linspace(-5, 5, 20)\n",
        "counts = np.zeros_like(bins)"
      ],
      "metadata": {
        "id": "zYpi6SzMBzr4"
      },
      "execution_count": 11,
      "outputs": []
    },
    {
      "cell_type": "code",
      "source": [
        "# temukan wadah yang sesuai untuk setiap e\n",
        "i = np.searchsorted(bins, e)\n"
      ],
      "metadata": {
        "id": "NJiqGeKPCF08"
      },
      "execution_count": 12,
      "outputs": []
    },
    {
      "cell_type": "code",
      "source": [
        "np.add.at(counts, i, 1)"
      ],
      "metadata": {
        "id": "4xh7-MrfCcF-"
      },
      "execution_count": 13,
      "outputs": []
    },
    {
      "cell_type": "code",
      "source": [
        "# tampilkan plot\n",
        "plt.plot(bins, counts, linestyle='solid');\n"
      ],
      "metadata": {
        "colab": {
          "base_uri": "https://localhost:8080/",
          "height": 434
        },
        "id": "6TDo5j_wCl0y",
        "outputId": "f54173b8-a34c-480e-f258-d61d7eb02dfa"
      },
      "execution_count": 23,
      "outputs": [
        {
          "output_type": "display_data",
          "data": {
            "text/plain": [
              "<Figure size 640x480 with 1 Axes>"
            ],
            "image/png": "[encoded data removed]"
          },
          "metadata": {}
        }
      ]
    },
    {
      "cell_type": "code",
      "source": [
        "plt.hist(e, bins, histtype='step')"
      ],
      "metadata": {
        "colab": {
          "base_uri": "https://localhost:8080/",
          "height": 556
        },
        "id": "74VFGuLZDLAQ",
        "outputId": "8a164366-cbaf-4124-8aa2-8c49da844c6d"
      },
      "execution_count": 24,
      "outputs": [
        {
          "output_type": "execute_result",
          "data": {
            "text/plain": [
              "(array([ 0.,  0.,  0.,  0.,  1.,  3.,  7.,  9., 23., 22., 17., 10.,  7.,\n",
              "         1.,  0.,  0.,  0.,  0.,  0.]),\n",
              " array([-5.        , -4.47368421, -3.94736842, -3.42105263, -2.89473684,\n",
              "        -2.36842105, -1.84210526, -1.31578947, -0.78947368, -0.26315789,\n",
              "         0.26315789,  0.78947368,  1.31578947,  1.84210526,  2.36842105,\n",
              "         2.89473684,  3.42105263,  3.94736842,  4.47368421,  5.        ]),\n",
              " [<matplotlib.patches.Polygon at 0x7e92cb7e3910>])"
            ]
          },
          "metadata": {},
          "execution_count": 24
        },
        {
          "output_type": "display_data",
          "data": {
            "text/plain": [
              "<Figure size 640x480 with 1 Axes>"
            ],
            "image/png": "[encoded data removed]"
          },
          "metadata": {}
        }
      ]
    },
    {
      "cell_type": "code",
      "source": [
        "print(\"Numpy routine : \")\n",
        "%timeit counts, edges = np.histogram(e,bins)"
      ],
      "metadata": {
        "colab": {
          "base_uri": "https://localhost:8080/"
        },
        "id": "7UvPEVSoD7bA",
        "outputId": "bd3019c1-d95d-4daf-bfb4-0468e35b1aa1"
      },
      "execution_count": 27,
      "outputs": [
        {
          "output_type": "stream",
          "name": "stdout",
          "text": [
            "Numpy routine : \n",
            "37 µs ± 9.7 µs per loop (mean ± std. dev. of 7 runs, 10000 loops each)\n"
          ]
        }
      ]
    },
    {
      "cell_type": "code",
      "source": [
        "print(\"Custom routine : \")\n",
        "%timeit np.add.at(counts, np.searchsorted(bins, e), 1)"
      ],
      "metadata": {
        "colab": {
          "base_uri": "https://localhost:8080/"
        },
        "id": "tz3omT1GEHrk",
        "outputId": "54448448-ff4b-4032-b75f-d57b028e0724"
      },
      "execution_count": 29,
      "outputs": [
        {
          "output_type": "stream",
          "name": "stdout",
          "text": [
            "Custom routine : \n",
            "19.2 µs ± 446 ns per loop (mean ± std. dev. of 7 runs, 10000 loops each)\n"
          ]
        }
      ]
    },
    {
      "cell_type": "code",
      "source": [
        "x = np.random.randn(1000000)\n",
        "print(\"NumPy routine:\")\n",
        "%timeit counts, edges = np.histogram(x, bins)\n",
        "print(\"Custom routine:\")\n",
        "%timeit np.add.at(counts, np.searchsorted(bins, x), 1)"
      ],
      "metadata": {
        "colab": {
          "base_uri": "https://localhost:8080/"
        },
        "id": "rXOkGRcWEWT4",
        "outputId": "b4bb03a1-b221-4580-db17-3e6fcb479465"
      },
      "execution_count": 30,
      "outputs": [
        {
          "output_type": "stream",
          "name": "stdout",
          "text": [
            "NumPy routine:\n",
            "85.4 ms ± 773 µs per loop (mean ± std. dev. of 7 runs, 10 loops each)\n",
            "Custom routine:\n",
            "191 ms ± 52.9 ms per loop (mean ± std. dev. of 7 runs, 10 loops each)\n"
          ]
        }
      ]
    }
  ]
}