{
  "nbformat": 4,
  "nbformat_minor": 0,
  "metadata": {
    "colab": {
      "provenance": [],
      "authorship_tag": "ABX9TyP2FEDq5N0t+tsMNfH8txak",
      "include_colab_link": true
    },
    "kernelspec": {
      "name": "python3",
      "display_name": "Python 3"
    },
    "language_info": {
      "name": "python"
    }
  },
  "cells": [
    {
      "cell_type": "markdown",
      "metadata": {
        "id": "view-in-github",
        "colab_type": "text"
      },
      "source": [
        "<a href=\"https://colab.research.google.com/github/adenadit/My-Data-Science-Site/blob/main/Numpy/Basic/4_Computation_on_Arrays_Broadcasting.ipynb\" target=\"_parent\"><img src=\"https://colab.research.google.com/assets/colab-badge.svg\" alt=\"Open In Colab\"/></a>"
      ]
    },
    {
      "cell_type": "markdown",
      "source": [
        "# **Introducing Broadcasting**"
      ],
      "metadata": {
        "id": "S4rAJoHcd_4v"
      }
    },
    {
      "cell_type": "code",
      "execution_count": 1,
      "metadata": {
        "id": "sJXd2yrwd-jQ"
      },
      "outputs": [],
      "source": [
        "import numpy as np"
      ]
    },
    {
      "cell_type": "code",
      "source": [
        "a = np.array([0,1,2])\n",
        "b = np.array([5,5,5])"
      ],
      "metadata": {
        "id": "eD_ZSqFWeUn9"
      },
      "execution_count": 2,
      "outputs": []
    },
    {
      "cell_type": "code",
      "source": [
        "#pengaruh fungsi aritmatika pada array 1-dimensi\n",
        "a+b"
      ],
      "metadata": {
        "colab": {
          "base_uri": "https://localhost:8080/"
        },
        "id": "uZjDSlowehnc",
        "outputId": "5d1f87b6-9ce6-4693-bcfc-977fe3ba5b1b"
      },
      "execution_count": 3,
      "outputs": [
        {
          "output_type": "execute_result",
          "data": {
            "text/plain": [
              "array([5, 6, 7])"
            ]
          },
          "metadata": {},
          "execution_count": 3
        }
      ]
    },
    {
      "cell_type": "code",
      "source": [
        "a + 5"
      ],
      "metadata": {
        "colab": {
          "base_uri": "https://localhost:8080/"
        },
        "id": "P3SbmxyFejhz",
        "outputId": "011e92dc-644b-426a-83f3-74be01b203bb"
      },
      "execution_count": 4,
      "outputs": [
        {
          "output_type": "execute_result",
          "data": {
            "text/plain": [
              "array([5, 6, 7])"
            ]
          },
          "metadata": {},
          "execution_count": 4
        }
      ]
    },
    {
      "cell_type": "code",
      "source": [
        "m = np.ones((3,3))"
      ],
      "metadata": {
        "id": "iJckBcBOepY8"
      },
      "execution_count": 6,
      "outputs": []
    },
    {
      "cell_type": "code",
      "source": [
        "print(m)"
      ],
      "metadata": {
        "colab": {
          "base_uri": "https://localhost:8080/"
        },
        "id": "oWJ9wc6Fe2WD",
        "outputId": "c2e6607a-e4ab-434e-a418-2b18bf4726bf"
      },
      "execution_count": 7,
      "outputs": [
        {
          "output_type": "stream",
          "name": "stdout",
          "text": [
            "[[1. 1. 1.]\n",
            " [1. 1. 1.]\n",
            " [1. 1. 1.]]\n"
          ]
        }
      ]
    },
    {
      "cell_type": "code",
      "source": [
        "#penerapan hitungan matrik pada array 2-dimensi\n",
        "m + a"
      ],
      "metadata": {
        "colab": {
          "base_uri": "https://localhost:8080/"
        },
        "id": "lKHht3nce6FN",
        "outputId": "f2c1bb74-eb93-44a6-eef0-39671248a814"
      },
      "execution_count": 9,
      "outputs": [
        {
          "output_type": "execute_result",
          "data": {
            "text/plain": [
              "array([[1., 2., 3.],\n",
              "       [1., 2., 3.],\n",
              "       [1., 2., 3.]])"
            ]
          },
          "metadata": {},
          "execution_count": 9
        }
      ]
    },
    {
      "cell_type": "code",
      "source": [
        "n = np.arange(3)\n",
        "o = np.arange(3)[:,np.newaxis]\n",
        "\n",
        "print(n)\n",
        "print(o)"
      ],
      "metadata": {
        "colab": {
          "base_uri": "https://localhost:8080/"
        },
        "id": "HLXUD57Je-Zb",
        "outputId": "767a9271-b7b8-4746-9f05-1433880aa99c"
      },
      "execution_count": 10,
      "outputs": [
        {
          "output_type": "stream",
          "name": "stdout",
          "text": [
            "[0 1 2]\n",
            "[[0]\n",
            " [1]\n",
            " [2]]\n"
          ]
        }
      ]
    },
    {
      "cell_type": "code",
      "source": [
        "n + o"
      ],
      "metadata": {
        "colab": {
          "base_uri": "https://localhost:8080/"
        },
        "id": "nnitMdL6f0S2",
        "outputId": "b3dfcc36-c3b6-4ee3-8862-2554d3895310"
      },
      "execution_count": 11,
      "outputs": [
        {
          "output_type": "execute_result",
          "data": {
            "text/plain": [
              "array([[0, 1, 2],\n",
              "       [1, 2, 3],\n",
              "       [2, 3, 4]])"
            ]
          },
          "metadata": {},
          "execution_count": 11
        }
      ]
    },
    {
      "cell_type": "markdown",
      "source": [
        "pemberlakuan numpy broadcasting"
      ],
      "metadata": {
        "id": "2aWXNt6qgDGl"
      }
    },
    {
      "cell_type": "markdown",
      "source": [
        "![image.png](data:image/png;base64,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)"
      ],
      "metadata": {
        "id": "VjlqBRbuf-jR"
      }
    },
    {
      "cell_type": "markdown",
      "source": [
        "# **Rules of Broadcasting**"
      ],
      "metadata": {
        "id": "Z2DJF2hIgJDO"
      }
    },
    {
      "cell_type": "markdown",
      "source": [
        "* Aturan 1: Jika dua larik berbeda jumlah dimensinya, bentuk larik yang dimensinya lebih kecil akan diisi dengan larik di sisi depannya (kiri).\n",
        "* Aturan 2: Jika bentuk kedua larik tidak cocok pada dimensi mana pun, larik dengan bentuk sama dengan 1 - dimensi tersebut diregangkan agar sesuai dengan bentuk lainnya.\n",
        "* Aturan 3: Jika dalam dimensi apa pun ukurannya tidak sama dan tidak ada yang sama dengan 1, maka kesalahan akan muncul."
      ],
      "metadata": {
        "id": "nYFXrp4sgNwD"
      }
    },
    {
      "cell_type": "markdown",
      "source": [
        "> **Broadcasting example 1**"
      ],
      "metadata": {
        "id": "bG1cY7u2hubO"
      }
    },
    {
      "cell_type": "code",
      "source": [
        "M = np.ones((2,3))\n",
        "A = np.arange(3)\n",
        "\n",
        "print(M)\n",
        "print(A)"
      ],
      "metadata": {
        "colab": {
          "base_uri": "https://localhost:8080/"
        },
        "id": "ngBspFtbhPmy",
        "outputId": "6403eb9f-c986-4195-9fca-ed6af877dd9b"
      },
      "execution_count": 14,
      "outputs": [
        {
          "output_type": "stream",
          "name": "stdout",
          "text": [
            "[[1. 1. 1.]\n",
            " [1. 1. 1.]]\n",
            "[0 1 2]\n"
          ]
        }
      ]
    },
    {
      "cell_type": "markdown",
      "source": [
        "* tinjauan\n",
        "\n",
        "```\n",
        "# jika kita lihat di masing masing array berdasarkan shape nya maka:\n",
        "      M.shape = (2 , 3)   ==> (2, 3)\n",
        "      A.shape = (3)       ==> (1, 3)\n",
        "```\n",
        "      \n",
        "\n",
        "```\n",
        "# berdasarkan aturan 2, maka array yang berdimensi 1 akan di regangkan untuk mencocokan\n",
        "      M.shape ==> (2, 3)\n",
        "      A.shape ==> (2, 3)\n",
        "```\n",
        "\n",
        "\n",
        "\n",
        "\n",
        "\n",
        "\n",
        "\n",
        "\n",
        "\n"
      ],
      "metadata": {
        "id": "sSKYBwcbiTIh"
      }
    },
    {
      "cell_type": "code",
      "source": [
        "M + A"
      ],
      "metadata": {
        "colab": {
          "base_uri": "https://localhost:8080/"
        },
        "id": "5KWV5QOmiELL",
        "outputId": "0871087a-59d8-4682-f07c-9839811c95ab"
      },
      "execution_count": 15,
      "outputs": [
        {
          "output_type": "execute_result",
          "data": {
            "text/plain": [
              "array([[1., 2., 3.],\n",
              "       [1., 2., 3.]])"
            ]
          },
          "metadata": {},
          "execution_count": 15
        }
      ]
    },
    {
      "cell_type": "markdown",
      "source": [
        "> **Broadcasting example 2**"
      ],
      "metadata": {
        "id": "k1XwBpHNlQKR"
      }
    }
  ]
}