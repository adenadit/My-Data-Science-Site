{
  "nbformat": 4,
  "nbformat_minor": 0,
  "metadata": {
    "colab": {
      "provenance": [],
      "authorship_tag": "ABX9TyMad70uEJcUYCG/jGMFBP28",
      "include_colab_link": true
    },
    "kernelspec": {
      "name": "python3",
      "display_name": "Python 3"
    },
    "language_info": {
      "name": "python"
    }
  },
  "cells": [
    {
      "cell_type": "markdown",
      "metadata": {
        "id": "view-in-github",
        "colab_type": "text"
      },
      "source": [
        "<a href=\"https://colab.research.google.com/github/adenadit/My-Data-Science-Site/blob/main/Numpy/Basic/8_Structured_Data_NumPy%E2%80%99s_Structured_Arrays.ipynb\" target=\"_parent\"><img src=\"https://colab.research.google.com/assets/colab-badge.svg\" alt=\"Open In Colab\"/></a>"
      ]
    },
    {
      "cell_type": "code",
      "execution_count": 2,
      "metadata": {
        "id": "vRxtZ9gj_HLY"
      },
      "outputs": [],
      "source": [
        "import numpy as np"
      ]
    },
    {
      "cell_type": "code",
      "source": [
        "name = ['Alice', 'Bob', 'Cathy', 'Doug']\n",
        "age = [25, 45, 37, 19]\n",
        "weight = [55.0, 85.5, 68.0, 61.5]"
      ],
      "metadata": {
        "id": "OwNiez2FP8nq"
      },
      "execution_count": 3,
      "outputs": []
    },
    {
      "cell_type": "code",
      "source": [
        "x = np.zeros(4, dtype=int)"
      ],
      "metadata": {
        "id": "ImMXSvC6QdDX"
      },
      "execution_count": 5,
      "outputs": []
    },
    {
      "cell_type": "code",
      "source": [
        "# Use a compound data type for structured arrays\n",
        "data = np.zeros(4, dtype={'names':('name', 'age', 'weight'),\n",
        "                          'formats':('U10', 'i4', 'f8')})\n",
        "print(data.dtype)"
      ],
      "metadata": {
        "colab": {
          "base_uri": "https://localhost:8080/"
        },
        "id": "p3pSnn3CQvg_",
        "outputId": "d2d0fc50-a788-49a0-b5e0-425a16bb05c5"
      },
      "execution_count": 10,
      "outputs": [
        {
          "output_type": "stream",
          "name": "stdout",
          "text": [
            "[('name', '<U10'), ('age', '<i4'), ('weight', '<f8')]\n"
          ]
        }
      ]
    },
    {
      "cell_type": "code",
      "source": [
        "data['name'] = name\n",
        "data['age'] = age\n",
        "data['weight'] = weight\n",
        "print(data)"
      ],
      "metadata": {
        "colab": {
          "base_uri": "https://localhost:8080/"
        },
        "id": "_SsrSAXUSnrL",
        "outputId": "01785708-64ab-4076-c3d8-031ef70755d9"
      },
      "execution_count": 11,
      "outputs": [
        {
          "output_type": "stream",
          "name": "stdout",
          "text": [
            "[('Alice', 25, 55. ) ('Bob', 45, 85.5) ('Cathy', 37, 68. )\n",
            " ('Doug', 19, 61.5)]\n"
          ]
        }
      ]
    },
    {
      "cell_type": "code",
      "source": [
        "#memanggil semua name\n",
        "data['name']"
      ],
      "metadata": {
        "colab": {
          "base_uri": "https://localhost:8080/"
        },
        "id": "pWJCRM8_S9Up",
        "outputId": "ae3f6766-01dd-4bb8-ea66-5096e0269aaa"
      },
      "execution_count": 12,
      "outputs": [
        {
          "output_type": "execute_result",
          "data": {
            "text/plain": [
              "array(['Alice', 'Bob', 'Cathy', 'Doug'], dtype='<U10')"
            ]
          },
          "metadata": {},
          "execution_count": 12
        }
      ]
    },
    {
      "cell_type": "code",
      "source": [
        "#memanggil row pertama\n",
        "data[0]"
      ],
      "metadata": {
        "colab": {
          "base_uri": "https://localhost:8080/"
        },
        "id": "FDC-MOtQTDdH",
        "outputId": "62a55951-80b7-4931-bce0-9718572a195e"
      },
      "execution_count": 14,
      "outputs": [
        {
          "output_type": "execute_result",
          "data": {
            "text/plain": [
              "('Alice', 25, 55.)"
            ]
          },
          "metadata": {},
          "execution_count": 14
        }
      ]
    },
    {
      "cell_type": "code",
      "source": [
        "#memanggil name dari row terakhir\n",
        "data[-1]['name']"
      ],
      "metadata": {
        "colab": {
          "base_uri": "https://localhost:8080/",
          "height": 35
        },
        "id": "Wo0qeTQZTJvO",
        "outputId": "a4b5e6f8-20cc-418e-8610-5bd25a280adc"
      },
      "execution_count": 16,
      "outputs": [
        {
          "output_type": "execute_result",
          "data": {
            "text/plain": [
              "'Doug'"
            ],
            "application/vnd.google.colaboratory.intrinsic+json": {
              "type": "string"
            }
          },
          "metadata": {},
          "execution_count": 16
        }
      ]
    },
    {
      "cell_type": "code",
      "source": [
        "# memanggil name dengan age dibawah 30\n",
        "data[data['age']<30]['name']"
      ],
      "metadata": {
        "colab": {
          "base_uri": "https://localhost:8080/"
        },
        "id": "aIMFURNsTVpd",
        "outputId": "3299cf95-79b8-48ef-a844-196b29a40fa9"
      },
      "execution_count": 17,
      "outputs": [
        {
          "output_type": "execute_result",
          "data": {
            "text/plain": [
              "array(['Alice', 'Doug'], dtype='<U10')"
            ]
          },
          "metadata": {},
          "execution_count": 17
        }
      ]
    },
    {
      "cell_type": "markdown",
      "source": [
        "# **Creating Structured Arrays**"
      ],
      "metadata": {
        "id": "zgJg3WtsTp4X"
      }
    },
    {
      "cell_type": "code",
      "source": [
        "np.dtype({'names':('name', 'age', 'weight'),\n",
        "          'formats':('U10', 'i4', 'f8')})"
      ],
      "metadata": {
        "colab": {
          "base_uri": "https://localhost:8080/"
        },
        "id": "Dyw_JxpXUAQj",
        "outputId": "6a98211e-0cd0-49e6-c673-e36eae31991f"
      },
      "execution_count": 19,
      "outputs": [
        {
          "output_type": "execute_result",
          "data": {
            "text/plain": [
              "dtype([('name', '<U10'), ('age', '<i4'), ('weight', '<f8')])"
            ]
          },
          "metadata": {},
          "execution_count": 19
        }
      ]
    },
    {
      "cell_type": "code",
      "source": [
        "np.dtype({'names':('name', 'age', 'weight'),\n",
        "          'formats':((np.str_, 10), int, np.float32)})"
      ],
      "metadata": {
        "colab": {
          "base_uri": "https://localhost:8080/"
        },
        "id": "dBso4iilUmF8",
        "outputId": "ff38a7ae-f1be-4075-f5ec-2bc42c2b61b3"
      },
      "execution_count": 20,
      "outputs": [
        {
          "output_type": "execute_result",
          "data": {
            "text/plain": [
              "dtype([('name', '<U10'), ('age', '<i8'), ('weight', '<f4')])"
            ]
          },
          "metadata": {},
          "execution_count": 20
        }
      ]
    },
    {
      "cell_type": "code",
      "source": [
        "np.dtype([('name', 'S10'), ('age', 'i4'), ('weight', 'f8')])"
      ],
      "metadata": {
        "colab": {
          "base_uri": "https://localhost:8080/"
        },
        "id": "SdxejUM8U49b",
        "outputId": "ec054158-7882-45dd-b05e-d1318ec5128b"
      },
      "execution_count": 22,
      "outputs": [
        {
          "output_type": "execute_result",
          "data": {
            "text/plain": [
              "dtype([('name', 'S10'), ('age', '<i4'), ('weight', '<f8')])"
            ]
          },
          "metadata": {},
          "execution_count": 22
        }
      ]
    },
    {
      "cell_type": "code",
      "source": [
        "np.dtype('S10, i4, f8')"
      ],
      "metadata": {
        "colab": {
          "base_uri": "https://localhost:8080/"
        },
        "id": "GwTlLs9zU6kl",
        "outputId": "96c32f45-a8e0-4afe-e5fc-46fcae740572"
      },
      "execution_count": 23,
      "outputs": [
        {
          "output_type": "execute_result",
          "data": {
            "text/plain": [
              "dtype([('f0', 'S10'), ('f1', '<i4'), ('f2', '<f8')])"
            ]
          },
          "metadata": {},
          "execution_count": 23
        }
      ]
    },
    {
      "cell_type": "markdown",
      "source": [
        "![image.png](data:image/png;base64,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)"
      ],
      "metadata": {
        "id": "fCxbENNIVWSK"
      }
    },
    {
      "cell_type": "markdown",
      "source": [
        "# **More Advanced Compound Types**"
      ],
      "metadata": {
        "id": "WX9Ve8YnVeOY"
      }
    },
    {
      "cell_type": "code",
      "source": [
        "tp = np.dtype([('id', 'i8'), ('mat', 'f8', (3, 3))])\n",
        "X = np.zeros(1, dtype=tp)\n",
        "print(X[0])\n",
        "print(X['mat'][0])"
      ],
      "metadata": {
        "colab": {
          "base_uri": "https://localhost:8080/"
        },
        "id": "wQcOsKh5Vojd",
        "outputId": "65b35519-2d00-4960-b39f-cd3a691f7779"
      },
      "execution_count": 24,
      "outputs": [
        {
          "output_type": "stream",
          "name": "stdout",
          "text": [
            "(0, [[0., 0., 0.], [0., 0., 0.], [0., 0., 0.]])\n",
            "[[0. 0. 0.]\n",
            " [0. 0. 0.]\n",
            " [0. 0. 0.]]\n"
          ]
        }
      ]
    },
    {
      "cell_type": "markdown",
      "source": [
        "# **RecordArrays: Structured Arrays with a Twist**"
      ],
      "metadata": {
        "id": "cHY31QgvWa1-"
      }
    },
    {
      "cell_type": "code",
      "source": [
        "data['age']"
      ],
      "metadata": {
        "colab": {
          "base_uri": "https://localhost:8080/"
        },
        "id": "94V2kRfFWdQ1",
        "outputId": "32422880-fdf0-415d-d993-7e444bd41fb2"
      },
      "execution_count": 26,
      "outputs": [
        {
          "output_type": "execute_result",
          "data": {
            "text/plain": [
              "array([25, 45, 37, 19], dtype=int32)"
            ]
          },
          "metadata": {},
          "execution_count": 26
        }
      ]
    },
    {
      "cell_type": "code",
      "source": [
        "data_rec = data.view(np.recarray)\n",
        "data_rec.age"
      ],
      "metadata": {
        "colab": {
          "base_uri": "https://localhost:8080/"
        },
        "id": "-313RZInWhDN",
        "outputId": "f18a523d-e1e0-4b61-b915-09a202db5fe6"
      },
      "execution_count": 27,
      "outputs": [
        {
          "output_type": "execute_result",
          "data": {
            "text/plain": [
              "array([25, 45, 37, 19], dtype=int32)"
            ]
          },
          "metadata": {},
          "execution_count": 27
        }
      ]
    },
    {
      "cell_type": "code",
      "source": [
        "%timeit data['age']\n",
        "%timeit data_rec['age']\n",
        "%timeit data_rec.age"
      ],
      "metadata": {
        "colab": {
          "base_uri": "https://localhost:8080/"
        },
        "id": "2PnfA9yqWtTL",
        "outputId": "1762d97e-59a5-4733-e7c1-42b58a803b98"
      },
      "execution_count": 28,
      "outputs": [
        {
          "output_type": "stream",
          "name": "stdout",
          "text": [
            "232 ns ± 70 ns per loop (mean ± std. dev. of 7 runs, 1000000 loops each)\n",
            "2.16 µs ± 378 ns per loop (mean ± std. dev. of 7 runs, 1000000 loops each)\n",
            "3.27 µs ± 59.3 ns per loop (mean ± std. dev. of 7 runs, 100000 loops each)\n"
          ]
        }
      ]
    }
  ]
}