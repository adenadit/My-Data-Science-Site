{
  "nbformat": 4,
  "nbformat_minor": 0,
  "metadata": {
    "colab": {
      "provenance": [],
      "authorship_tag": "ABX9TyPzXX1TBi9xZ7BNhrql7k2i",
      "include_colab_link": true
    },
    "kernelspec": {
      "name": "python3",
      "display_name": "Python 3"
    },
    "language_info": {
      "name": "python"
    }
  },
  "cells": [
    {
      "cell_type": "markdown",
      "metadata": {
        "id": "view-in-github",
        "colab_type": "text"
      },
      "source": [
        "<a href=\"https://colab.research.google.com/github/adenadit/My-Data-Science-Site/blob/main/Numpy/Basic/3_Aggregations_Min%2C_Max%2C_and_Everything_in_Between.ipynb\" target=\"_parent\"><img src=\"https://colab.research.google.com/assets/colab-badge.svg\" alt=\"Open In Colab\"/></a>"
      ]
    },
    {
      "cell_type": "markdown",
      "source": [
        "# **Summing the values in an Array**"
      ],
      "metadata": {
        "id": "62Duonql8qug"
      }
    },
    {
      "cell_type": "code",
      "source": [
        "import numpy as np"
      ],
      "metadata": {
        "id": "0BOEDYCq82jz"
      },
      "execution_count": 1,
      "outputs": []
    },
    {
      "cell_type": "code",
      "source": [
        "a = np.random.random(100)\n",
        "sum(a)"
      ],
      "metadata": {
        "colab": {
          "base_uri": "https://localhost:8080/"
        },
        "id": "DZQ00LgS9BXi",
        "outputId": "7399e7bb-6808-4978-d5c5-cb87692cc703"
      },
      "execution_count": 4,
      "outputs": [
        {
          "output_type": "execute_result",
          "data": {
            "text/plain": [
              "47.20787177813041"
            ]
          },
          "metadata": {},
          "execution_count": 4
        }
      ]
    },
    {
      "cell_type": "code",
      "source": [
        "np.sum(a)"
      ],
      "metadata": {
        "colab": {
          "base_uri": "https://localhost:8080/"
        },
        "id": "YDNEJtR89Une",
        "outputId": "56943a86-6ac9-4ae6-9d1e-dc2326d4c4a7"
      },
      "execution_count": 5,
      "outputs": [
        {
          "output_type": "execute_result",
          "data": {
            "text/plain": [
              "47.207871778130425"
            ]
          },
          "metadata": {},
          "execution_count": 5
        }
      ]
    },
    {
      "cell_type": "code",
      "source": [
        "b = np.random.rand(100000)\n",
        "%timeit sum(b)\n",
        "%timeit np.sum(b)"
      ],
      "metadata": {
        "colab": {
          "base_uri": "https://localhost:8080/"
        },
        "id": "KdtX_Ifg9Z6-",
        "outputId": "253cb3c7-d32f-484a-c7f5-c06f1cd6634e"
      },
      "execution_count": 6,
      "outputs": [
        {
          "output_type": "stream",
          "name": "stdout",
          "text": [
            "11.9 ms ± 3.49 ms per loop (mean ± std. dev. of 7 runs, 100 loops each)\n",
            "38 µs ± 736 ns per loop (mean ± std. dev. of 7 runs, 10000 loops each)\n"
          ]
        }
      ]
    },
    {
      "cell_type": "markdown",
      "source": [
        "perintah sum dan np.sum memiliki fungsi yang sama, namun pembedanya ialah di kecepatan eksekusiny saja"
      ],
      "metadata": {
        "id": "tZh9pdIQ922L"
      }
    },
    {
      "cell_type": "markdown",
      "source": [
        "# **Minimum and Maximum**"
      ],
      "metadata": {
        "id": "AgqThByA-KDt"
      }
    },
    {
      "cell_type": "code",
      "source": [
        "min(b),max(b)"
      ],
      "metadata": {
        "colab": {
          "base_uri": "https://localhost:8080/"
        },
        "id": "6KOFYcmG-uM1",
        "outputId": "86c42e15-e571-4560-bd14-fc3b0548fc60"
      },
      "execution_count": 7,
      "outputs": [
        {
          "output_type": "execute_result",
          "data": {
            "text/plain": [
              "(1.7216472019576656e-05, 0.9999894248158471)"
            ]
          },
          "metadata": {},
          "execution_count": 7
        }
      ]
    },
    {
      "cell_type": "code",
      "source": [
        "np.min(b),np.max(b)"
      ],
      "metadata": {
        "colab": {
          "base_uri": "https://localhost:8080/"
        },
        "id": "C43Eiogv-9jH",
        "outputId": "2384a4db-9963-47d4-9d7c-306b8d0a5ad6"
      },
      "execution_count": 8,
      "outputs": [
        {
          "output_type": "execute_result",
          "data": {
            "text/plain": [
              "(1.7216472019576656e-05, 0.9999894248158471)"
            ]
          },
          "metadata": {},
          "execution_count": 8
        }
      ]
    },
    {
      "cell_type": "code",
      "source": [
        "#perbandingan kecepatan eksekusi\n",
        "%timeit min(b)\n",
        "%timeit np.min(b)"
      ],
      "metadata": {
        "colab": {
          "base_uri": "https://localhost:8080/"
        },
        "id": "34vVK64k_cY3",
        "outputId": "a79f1591-bdb5-4fbf-ea3a-66e106a0c587"
      },
      "execution_count": 10,
      "outputs": [
        {
          "output_type": "stream",
          "name": "stdout",
          "text": [
            "7.62 ms ± 1.56 ms per loop (mean ± std. dev. of 7 runs, 100 loops each)\n",
            "33.9 µs ± 607 ns per loop (mean ± std. dev. of 7 runs, 10000 loops each)\n"
          ]
        }
      ]
    },
    {
      "cell_type": "markdown",
      "source": [
        "> **Multidimensional Aggregates**"
      ],
      "metadata": {
        "id": "NMtKgxtRAP0g"
      }
    },
    {
      "cell_type": "code",
      "source": [
        "c = np.random.random((3, 4))\n",
        "print(c)"
      ],
      "metadata": {
        "colab": {
          "base_uri": "https://localhost:8080/"
        },
        "id": "ilGhWgfaAVpH",
        "outputId": "dd76f363-f9a9-4030-be7a-23b808decd7e"
      },
      "execution_count": 12,
      "outputs": [
        {
          "output_type": "stream",
          "name": "stdout",
          "text": [
            "[[0.00838215 0.15668488 0.81790887 0.96117855]\n",
            " [0.60204504 0.14569609 0.14707292 0.32486555]\n",
            " [0.53653823 0.11769797 0.63846983 0.7639087 ]]\n"
          ]
        }
      ]
    },
    {
      "cell_type": "code",
      "source": [
        "#menampilkan nilai sum\n",
        "c.sum()"
      ],
      "metadata": {
        "colab": {
          "base_uri": "https://localhost:8080/"
        },
        "id": "rdMlSHF4AsuP",
        "outputId": "6d1aa176-bc95-44a6-edc6-77a8f667c3f0"
      },
      "execution_count": 13,
      "outputs": [
        {
          "output_type": "execute_result",
          "data": {
            "text/plain": [
              "5.220448783217374"
            ]
          },
          "metadata": {},
          "execution_count": 13
        }
      ]
    },
    {
      "cell_type": "code",
      "source": [
        "c.min(axis= 0)      # menampilkan min pad axis=0 (x)"
      ],
      "metadata": {
        "colab": {
          "base_uri": "https://localhost:8080/"
        },
        "id": "GbGwYFlZA2OV",
        "outputId": "f3c23e09-e668-4fd8-87d3-fe394f027cbd"
      },
      "execution_count": 14,
      "outputs": [
        {
          "output_type": "execute_result",
          "data": {
            "text/plain": [
              "array([0.00838215, 0.11769797, 0.14707292, 0.32486555])"
            ]
          },
          "metadata": {},
          "execution_count": 14
        }
      ]
    },
    {
      "cell_type": "code",
      "source": [
        "c.min(axis= 1)      # menampilkan min pada axis=1 (y)"
      ],
      "metadata": {
        "colab": {
          "base_uri": "https://localhost:8080/"
        },
        "id": "JcKKCvLTBYVa",
        "outputId": "9e83681c-386f-4585-ce8a-610477770260"
      },
      "execution_count": 15,
      "outputs": [
        {
          "output_type": "execute_result",
          "data": {
            "text/plain": [
              "array([0.00838215, 0.14569609, 0.11769797])"
            ]
          },
          "metadata": {},
          "execution_count": 15
        }
      ]
    },
    {
      "cell_type": "markdown",
      "source": [
        "> **Other aggregation functions**"
      ],
      "metadata": {
        "id": "HysaOWWxBoMp"
      }
    },
    {
      "cell_type": "markdown",
      "source": [
        "![image.png](data:image/png;base64,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)"
      ],
      "metadata": {
        "id": "Jyl8rDp1BwFC"
      }
    },
    {
      "cell_type": "markdown",
      "source": [
        "dalam pengolahan data fungsi aggregat merupakan fungsi yang sering digunakan"
      ],
      "metadata": {
        "id": "g82f2vmXB2dM"
      }
    }
  ]
}