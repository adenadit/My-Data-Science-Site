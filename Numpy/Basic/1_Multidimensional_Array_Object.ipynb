{
  "nbformat": 4,
  "nbformat_minor": 0,
  "metadata": {
    "colab": {
      "provenance": [],
      "authorship_tag": "ABX9TyNqdwRCf27kUPXwaa7rqGT/",
      "include_colab_link": true
    },
    "kernelspec": {
      "name": "python3",
      "display_name": "Python 3"
    },
    "language_info": {
      "name": "python"
    }
  },
  "cells": [
    {
      "cell_type": "markdown",
      "metadata": {
        "id": "view-in-github",
        "colab_type": "text"
      },
      "source": [
        "<a href=\"https://colab.research.google.com/github/adenadit/My-Data-Science-Site/blob/main/Numpy/Basic/1_Multidimensional_Array_Object.ipynb\" target=\"_parent\"><img src=\"https://colab.research.google.com/assets/colab-badge.svg\" alt=\"Open In Colab\"/></a>"
      ]
    },
    {
      "cell_type": "markdown",
      "source": [
        "# **Numpy ndarray : Multidimensional Array Object**"
      ],
      "metadata": {
        "id": "c2ZGF-YDXdfz"
      }
    },
    {
      "cell_type": "code",
      "source": [
        "import numpy as np"
      ],
      "metadata": {
        "id": "y5bojCprXwuA"
      },
      "execution_count": 1,
      "outputs": []
    },
    {
      "cell_type": "code",
      "source": [
        "my_array = np.arange(100)\n",
        "print(my_array)"
      ],
      "metadata": {
        "colab": {
          "base_uri": "https://localhost:8080/"
        },
        "id": "iWAqcWBuYQGY",
        "outputId": "46037ccc-6282-4aa0-98c9-fb8258a479a5"
      },
      "execution_count": 2,
      "outputs": [
        {
          "output_type": "stream",
          "name": "stdout",
          "text": [
            "[ 0  1  2  3  4  5  6  7  8  9 10 11 12 13 14 15 16 17 18 19 20 21 22 23\n",
            " 24 25 26 27 28 29 30 31 32 33 34 35 36 37 38 39 40 41 42 43 44 45 46 47\n",
            " 48 49 50 51 52 53 54 55 56 57 58 59 60 61 62 63 64 65 66 67 68 69 70 71\n",
            " 72 73 74 75 76 77 78 79 80 81 82 83 84 85 86 87 88 89 90 91 92 93 94 95\n",
            " 96 97 98 99]\n"
          ]
        }
      ]
    },
    {
      "cell_type": "markdown",
      "source": [
        ">arange merupakan salahsatu fungsi dari numpy yang berfungsi untuk membuat kan array sebanyak masukan yang kita inginkan\n",
        "\n",
        "\n",
        "\n",
        "\n",
        "\n",
        "\n",
        "\n"
      ],
      "metadata": {
        "id": "JvWKzBxtYlu-"
      }
    },
    {
      "cell_type": "code",
      "source": [
        "my_list = list(range(100))\n",
        "print(my_list)"
      ],
      "metadata": {
        "colab": {
          "base_uri": "https://localhost:8080/"
        },
        "id": "CdkfO5Z_Yu8E",
        "outputId": "523037a8-cba8-4013-d2a5-20b681aaaeb4"
      },
      "execution_count": null,
      "outputs": [
        {
          "output_type": "stream",
          "name": "stdout",
          "text": [
            "[0, 1, 2, 3, 4, 5, 6, 7, 8, 9, 10, 11, 12, 13, 14, 15, 16, 17, 18, 19, 20, 21, 22, 23, 24, 25, 26, 27, 28, 29, 30, 31, 32, 33, 34, 35, 36, 37, 38, 39, 40, 41, 42, 43, 44, 45, 46, 47, 48, 49, 50, 51, 52, 53, 54, 55, 56, 57, 58, 59, 60, 61, 62, 63, 64, 65, 66, 67, 68, 69, 70, 71, 72, 73, 74, 75, 76, 77, 78, 79, 80, 81, 82, 83, 84, 85, 86, 87, 88, 89, 90, 91, 92, 93, 94, 95, 96, 97, 98, 99]\n"
          ]
        }
      ]
    },
    {
      "cell_type": "markdown",
      "source": [
        ">list merupakan fungsi bawaan python yang memiliki fungsi serupa dengan arang namun dalam pengolahan array memiliki perbedaan dari arange"
      ],
      "metadata": {
        "id": "HFU4VEw3Za35"
      }
    },
    {
      "cell_type": "code",
      "source": [
        "my_array2 = my_array * 2\n",
        "print(my_array2)"
      ],
      "metadata": {
        "colab": {
          "base_uri": "https://localhost:8080/"
        },
        "id": "f9zpIk_pZvbJ",
        "outputId": "1a9b0190-f609-4ea7-fa2d-fb1dc99242a8"
      },
      "execution_count": null,
      "outputs": [
        {
          "output_type": "stream",
          "name": "stdout",
          "text": [
            "[  0   2   4   6   8  10  12  14  16  18  20  22  24  26  28  30  32  34\n",
            "  36  38  40  42  44  46  48  50  52  54  56  58  60  62  64  66  68  70\n",
            "  72  74  76  78  80  82  84  86  88  90  92  94  96  98 100 102 104 106\n",
            " 108 110 112 114 116 118 120 122 124 126 128 130 132 134 136 138 140 142\n",
            " 144 146 148 150 152 154 156 158 160 162 164 166 168 170 172 174 176 178\n",
            " 180 182 184 186 188 190 192 194 196 198]\n"
          ]
        }
      ]
    },
    {
      "cell_type": "code",
      "source": [
        "my_list2 = my_list *2\n",
        "print(my_list2)"
      ],
      "metadata": {
        "colab": {
          "base_uri": "https://localhost:8080/"
        },
        "id": "eSGcPxJ_aKLU",
        "outputId": "54a21f82-a170-44a3-b364-c0119b9dde03"
      },
      "execution_count": null,
      "outputs": [
        {
          "output_type": "stream",
          "name": "stdout",
          "text": [
            "[0, 1, 2, 3, 4, 5, 6, 7, 8, 9, 10, 11, 12, 13, 14, 15, 16, 17, 18, 19, 20, 21, 22, 23, 24, 25, 26, 27, 28, 29, 30, 31, 32, 33, 34, 35, 36, 37, 38, 39, 40, 41, 42, 43, 44, 45, 46, 47, 48, 49, 50, 51, 52, 53, 54, 55, 56, 57, 58, 59, 60, 61, 62, 63, 64, 65, 66, 67, 68, 69, 70, 71, 72, 73, 74, 75, 76, 77, 78, 79, 80, 81, 82, 83, 84, 85, 86, 87, 88, 89, 90, 91, 92, 93, 94, 95, 96, 97, 98, 99, 0, 1, 2, 3, 4, 5, 6, 7, 8, 9, 10, 11, 12, 13, 14, 15, 16, 17, 18, 19, 20, 21, 22, 23, 24, 25, 26, 27, 28, 29, 30, 31, 32, 33, 34, 35, 36, 37, 38, 39, 40, 41, 42, 43, 44, 45, 46, 47, 48, 49, 50, 51, 52, 53, 54, 55, 56, 57, 58, 59, 60, 61, 62, 63, 64, 65, 66, 67, 68, 69, 70, 71, 72, 73, 74, 75, 76, 77, 78, 79, 80, 81, 82, 83, 84, 85, 86, 87, 88, 89, 90, 91, 92, 93, 94, 95, 96, 97, 98, 99]\n"
          ]
        }
      ]
    },
    {
      "cell_type": "markdown",
      "source": [
        "> ketika dikalikan dengan angka 2 terlihat perbedaan antara arange dan list"
      ],
      "metadata": {
        "id": "bXJm4g2jahjk"
      }
    },
    {
      "cell_type": "markdown",
      "source": [
        " **1. Numpy ndarray : Multidimensional Array Object**"
      ],
      "metadata": {
        "id": "sK-FZHbcap_e"
      }
    },
    {
      "cell_type": "code",
      "source": [
        "# membuat beberapa random data\n",
        "data = np.random.randn(2,3)               # membuat random data sesuai dimensi yang dimasukan\n",
        "print(data)"
      ],
      "metadata": {
        "colab": {
          "base_uri": "https://localhost:8080/"
        },
        "id": "9TVrxhMra536",
        "outputId": "f805a6b6-6052-45f5-e4dc-0b0e01cb108a"
      },
      "execution_count": null,
      "outputs": [
        {
          "output_type": "stream",
          "name": "stdout",
          "text": [
            "[[ 0.73364396 -0.53037759 -0.65971991]\n",
            " [-0.34523706  1.18883743 -0.69861627]]\n"
          ]
        }
      ]
    },
    {
      "cell_type": "code",
      "source": [
        "# jika di berikan operasi matematika\n",
        "data * 10"
      ],
      "metadata": {
        "colab": {
          "base_uri": "https://localhost:8080/"
        },
        "id": "snZXEPnibqu0",
        "outputId": "8f01b3c0-39ac-45ad-c8b1-a5e4dac8aa70"
      },
      "execution_count": null,
      "outputs": [
        {
          "output_type": "execute_result",
          "data": {
            "text/plain": [
              "array([[ 7.33643961, -5.30377588, -6.59719907],\n",
              "       [-3.45237059, 11.88837434, -6.9861627 ]])"
            ]
          },
          "metadata": {},
          "execution_count": 9
        }
      ]
    },
    {
      "cell_type": "code",
      "source": [
        "data + data"
      ],
      "metadata": {
        "colab": {
          "base_uri": "https://localhost:8080/"
        },
        "id": "Kh60khdgb3_4",
        "outputId": "5b104908-afeb-4d9c-f2ba-7b657ba63b11"
      },
      "execution_count": null,
      "outputs": [
        {
          "output_type": "execute_result",
          "data": {
            "text/plain": [
              "array([[ 1.46728792, -1.06075518, -1.31943981],\n",
              "       [-0.69047412,  2.37767487, -1.39723254]])"
            ]
          },
          "metadata": {},
          "execution_count": 10
        }
      ]
    },
    {
      "cell_type": "markdown",
      "source": [
        ">setiap array pasti memiliki shape , indikasi tuple dan dtype"
      ],
      "metadata": {
        "id": "gzMo7PCqcxRD"
      }
    },
    {
      "cell_type": "code",
      "source": [
        "print(data.shape)"
      ],
      "metadata": {
        "colab": {
          "base_uri": "https://localhost:8080/"
        },
        "id": "QCfsJw3xdBV5",
        "outputId": "52993886-61de-4549-da5c-9e76f6d4d080"
      },
      "execution_count": null,
      "outputs": [
        {
          "output_type": "stream",
          "name": "stdout",
          "text": [
            "(2, 3)\n"
          ]
        }
      ]
    },
    {
      "cell_type": "code",
      "source": [
        "print(data.dtype)"
      ],
      "metadata": {
        "colab": {
          "base_uri": "https://localhost:8080/"
        },
        "id": "BSe2QP2vdZ9B",
        "outputId": "ad993cbb-9e2e-47ca-a4df-de0dbf6a67b4"
      },
      "execution_count": null,
      "outputs": [
        {
          "output_type": "stream",
          "name": "stdout",
          "text": [
            "float64\n"
          ]
        }
      ]
    },
    {
      "cell_type": "markdown",
      "source": [
        "*   **Creating ndarray**\n",
        "\n",
        "\n",
        "\n"
      ],
      "metadata": {
        "id": "-kbnqV_Gd1ns"
      }
    },
    {
      "cell_type": "code",
      "source": [
        "data1 = [1,3,4.7,2,5,6]"
      ],
      "metadata": {
        "id": "i48Inf1OeIXx"
      },
      "execution_count": null,
      "outputs": []
    },
    {
      "cell_type": "code",
      "source": [
        "arr1 = np.array(data1)"
      ],
      "metadata": {
        "id": "migAwirLeVo0"
      },
      "execution_count": null,
      "outputs": []
    },
    {
      "cell_type": "code",
      "source": [
        "arr1"
      ],
      "metadata": {
        "colab": {
          "base_uri": "https://localhost:8080/"
        },
        "id": "zh3m00Mpejuz",
        "outputId": "3f691da7-e81b-406e-8f7c-1c25fa13bb79"
      },
      "execution_count": null,
      "outputs": [
        {
          "output_type": "execute_result",
          "data": {
            "text/plain": [
              "array([1. , 3. , 4.7, 2. , 5. , 6. ])"
            ]
          },
          "metadata": {},
          "execution_count": 16
        }
      ]
    },
    {
      "cell_type": "code",
      "source": [
        "#Multidimensional Array\n",
        "data2 = [[1,2,3,4],[5,6,7,8]]"
      ],
      "metadata": {
        "id": "77KJyb8Me_8X"
      },
      "execution_count": null,
      "outputs": []
    },
    {
      "cell_type": "code",
      "source": [
        "arr2 = np.array(data2)"
      ],
      "metadata": {
        "id": "li92BhL_fTgD"
      },
      "execution_count": null,
      "outputs": []
    },
    {
      "cell_type": "code",
      "source": [
        "arr2"
      ],
      "metadata": {
        "colab": {
          "base_uri": "https://localhost:8080/"
        },
        "id": "Bnvj1rTnfcgM",
        "outputId": "9c3b8468-8872-4445-b739-0697c5c16c83"
      },
      "execution_count": null,
      "outputs": [
        {
          "output_type": "execute_result",
          "data": {
            "text/plain": [
              "array([[1, 2, 3, 4],\n",
              "       [5, 6, 7, 8]])"
            ]
          },
          "metadata": {},
          "execution_count": 19
        }
      ]
    },
    {
      "cell_type": "markdown",
      "source": [
        ">arr2 memiliki 2 dimensi, sehingga dapat ditampilkan dimensi dan shape nya"
      ],
      "metadata": {
        "id": "xsQsLuLxfjs-"
      }
    },
    {
      "cell_type": "code",
      "source": [
        "arr2.ndim"
      ],
      "metadata": {
        "colab": {
          "base_uri": "https://localhost:8080/"
        },
        "id": "SQrhZJgxf3W5",
        "outputId": "60496070-a302-47c2-9e30-15ccabf7ed26"
      },
      "execution_count": null,
      "outputs": [
        {
          "output_type": "execute_result",
          "data": {
            "text/plain": [
              "2"
            ]
          },
          "metadata": {},
          "execution_count": 22
        }
      ]
    },
    {
      "cell_type": "code",
      "source": [
        "arr2.shape"
      ],
      "metadata": {
        "colab": {
          "base_uri": "https://localhost:8080/"
        },
        "id": "r9bQqSbfgDy8",
        "outputId": "12877be9-8f85-47d0-eebe-bf78379de901"
      },
      "execution_count": null,
      "outputs": [
        {
          "output_type": "execute_result",
          "data": {
            "text/plain": [
              "(2, 4)"
            ]
          },
          "metadata": {},
          "execution_count": 23
        }
      ]
    },
    {
      "cell_type": "code",
      "source": [
        "#mengecek type data masing masing\n",
        "arr1.dtype"
      ],
      "metadata": {
        "colab": {
          "base_uri": "https://localhost:8080/"
        },
        "id": "yQyiMW1UgHC8",
        "outputId": "1ee0a942-18ad-40da-dbeb-c31d2ac1f3cb"
      },
      "execution_count": null,
      "outputs": [
        {
          "output_type": "execute_result",
          "data": {
            "text/plain": [
              "dtype('float64')"
            ]
          },
          "metadata": {},
          "execution_count": 24
        }
      ]
    },
    {
      "cell_type": "code",
      "source": [
        "arr2.dtype"
      ],
      "metadata": {
        "colab": {
          "base_uri": "https://localhost:8080/"
        },
        "id": "wZehJLIQgaJA",
        "outputId": "760d69d4-3e30-46b8-e094-a800cece2fc2"
      },
      "execution_count": null,
      "outputs": [
        {
          "output_type": "execute_result",
          "data": {
            "text/plain": [
              "dtype('int64')"
            ]
          },
          "metadata": {},
          "execution_count": 25
        }
      ]
    },
    {
      "cell_type": "markdown",
      "source": [
        ">kemudian kita juga dapat membuat sebuah array zeros dan ones"
      ],
      "metadata": {
        "id": "TW1bjeUBgzBY"
      }
    },
    {
      "cell_type": "code",
      "source": [
        "np.zeros(10)"
      ],
      "metadata": {
        "colab": {
          "base_uri": "https://localhost:8080/"
        },
        "id": "tQkYCXymg9Gm",
        "outputId": "451bb993-6650-4270-9442-b649350fa44d"
      },
      "execution_count": null,
      "outputs": [
        {
          "output_type": "execute_result",
          "data": {
            "text/plain": [
              "array([0., 0., 0., 0., 0., 0., 0., 0., 0., 0.])"
            ]
          },
          "metadata": {},
          "execution_count": 3
        }
      ]
    },
    {
      "cell_type": "code",
      "source": [
        "np.zeros((3,5))"
      ],
      "metadata": {
        "colab": {
          "base_uri": "https://localhost:8080/"
        },
        "id": "gkQFU0lZhIUz",
        "outputId": "e90222aa-d25a-45e4-e777-8c29fb435803"
      },
      "execution_count": null,
      "outputs": [
        {
          "output_type": "execute_result",
          "data": {
            "text/plain": [
              "array([[0., 0., 0., 0., 0.],\n",
              "       [0., 0., 0., 0., 0.],\n",
              "       [0., 0., 0., 0., 0.]])"
            ]
          },
          "metadata": {},
          "execution_count": 6
        }
      ]
    },
    {
      "cell_type": "markdown",
      "source": [
        "* **Data Types for ndarrays**\n",
        "\n"
      ],
      "metadata": {
        "id": "hVj571k3pYmv"
      }
    },
    {
      "cell_type": "code",
      "source": [
        "arr1 = np.array([1,2,3], dtype=np.float64)"
      ],
      "metadata": {
        "id": "oRwqDir8pREc"
      },
      "execution_count": 3,
      "outputs": []
    },
    {
      "cell_type": "code",
      "source": [
        "arr2 = np.array([1,2,3], dtype=np.int32)"
      ],
      "metadata": {
        "id": "7DC8byBeqOVs"
      },
      "execution_count": 5,
      "outputs": []
    },
    {
      "cell_type": "code",
      "source": [
        "print(arr1.dtype)"
      ],
      "metadata": {
        "colab": {
          "base_uri": "https://localhost:8080/"
        },
        "id": "XzzZaOX8qmgl",
        "outputId": "04507bfc-6efb-4504-c879-0357c7b259cd"
      },
      "execution_count": 6,
      "outputs": [
        {
          "output_type": "stream",
          "name": "stdout",
          "text": [
            "float64\n"
          ]
        }
      ]
    },
    {
      "cell_type": "code",
      "source": [
        "print(arr2.dtype)"
      ],
      "metadata": {
        "colab": {
          "base_uri": "https://localhost:8080/"
        },
        "id": "e2qmkbM6qw6M",
        "outputId": "f8794f2b-6484-494a-8551-7c89fa440982"
      },
      "execution_count": 7,
      "outputs": [
        {
          "output_type": "stream",
          "name": "stdout",
          "text": [
            "int32\n"
          ]
        }
      ]
    },
    {
      "cell_type": "markdown",
      "source": [
        ">dalam penerapannya terkadang kita ingin merubah tipe data yang digunakan\n",
        "maka kita dapat menggunakan fungsi astype"
      ],
      "metadata": {
        "id": "fsYUmT0RrLGG"
      }
    },
    {
      "cell_type": "code",
      "source": [
        "arr3 = np.array([2,3,12])"
      ],
      "metadata": {
        "id": "ECr7ooPlraxb"
      },
      "execution_count": 8,
      "outputs": []
    },
    {
      "cell_type": "code",
      "source": [
        "print(arr3.dtype)"
      ],
      "metadata": {
        "colab": {
          "base_uri": "https://localhost:8080/"
        },
        "id": "2BVLXyZxrheK",
        "outputId": "a8d9392a-3df8-4aeb-9c05-b3c4bf921c22"
      },
      "execution_count": 9,
      "outputs": [
        {
          "output_type": "stream",
          "name": "stdout",
          "text": [
            "int64\n"
          ]
        }
      ]
    },
    {
      "cell_type": "code",
      "source": [
        "#mengkonvert tipe data\n",
        "float_arr3 = arr3.astype(np.float64)"
      ],
      "metadata": {
        "id": "OtQfQODyrl3R"
      },
      "execution_count": 10,
      "outputs": []
    },
    {
      "cell_type": "code",
      "source": [
        "print(float_arr3.dtype)\n",
        "print(float_arr3)"
      ],
      "metadata": {
        "colab": {
          "base_uri": "https://localhost:8080/"
        },
        "id": "xbDdUeikr22w",
        "outputId": "aecf565c-8b63-4ad0-8c0b-0f700432552a"
      },
      "execution_count": 11,
      "outputs": [
        {
          "output_type": "stream",
          "name": "stdout",
          "text": [
            "float64\n",
            "[ 2.  3. 12.]\n"
          ]
        }
      ]
    },
    {
      "cell_type": "code",
      "source": [],
      "metadata": {
        "id": "5Av5Jb5hsEUg"
      },
      "execution_count": null,
      "outputs": []
    },
    {
      "cell_type": "markdown",
      "source": [
        ">contoh lain kita ingin mengubah tipe data float ke int"
      ],
      "metadata": {
        "id": "TREDiZinsPTS"
      }
    },
    {
      "cell_type": "code",
      "source": [
        "arr4 = np.array([2.11, 3.14, 9.992, 16.2, 22.3])"
      ],
      "metadata": {
        "id": "F9Fx33gIsVCY"
      },
      "execution_count": 12,
      "outputs": []
    },
    {
      "cell_type": "code",
      "source": [
        "int_arr4 = arr4.astype(np.int32)"
      ],
      "metadata": {
        "id": "xzGi7tpbsnEh"
      },
      "execution_count": 14,
      "outputs": []
    },
    {
      "cell_type": "code",
      "source": [
        "print(int_arr4)\n",
        "print(int_arr4.dtype)"
      ],
      "metadata": {
        "colab": {
          "base_uri": "https://localhost:8080/"
        },
        "id": "yT4LL1aLs6Cw",
        "outputId": "4b0200af-cc14-44fa-f4b9-2fcf0a504175"
      },
      "execution_count": 16,
      "outputs": [
        {
          "output_type": "stream",
          "name": "stdout",
          "text": [
            "[ 2  3  9 16 22]\n",
            "int32\n"
          ]
        }
      ]
    },
    {
      "cell_type": "markdown",
      "source": [
        ">begitupun konversi tipe data lainnya"
      ],
      "metadata": {
        "id": "pr_9KfU5tZOF"
      }
    },
    {
      "cell_type": "markdown",
      "source": [
        "* **Arithmatic with numpy arrays**"
      ],
      "metadata": {
        "id": "BbFLuZr4t7Lc"
      }
    },
    {
      "cell_type": "code",
      "source": [
        "#untuk membuat array dengan beberapa kolom\n",
        "\n",
        "arr5 = np.array([[1,2,3],[4,5,6]])"
      ],
      "metadata": {
        "id": "dzI-wgY0uCHo"
      },
      "execution_count": 18,
      "outputs": []
    },
    {
      "cell_type": "code",
      "source": [
        "print(arr5)"
      ],
      "metadata": {
        "colab": {
          "base_uri": "https://localhost:8080/"
        },
        "id": "giWC-tEzwbqY",
        "outputId": "77a762c7-8229-4b19-c06e-fee689856945"
      },
      "execution_count": 19,
      "outputs": [
        {
          "output_type": "stream",
          "name": "stdout",
          "text": [
            "[[1 2 3]\n",
            " [4 5 6]]\n"
          ]
        }
      ]
    },
    {
      "cell_type": "code",
      "source": [
        "print(arr5*arr5)"
      ],
      "metadata": {
        "colab": {
          "base_uri": "https://localhost:8080/"
        },
        "id": "vQHF7jOxwiul",
        "outputId": "ac0f5298-efa5-4354-b8aa-874826e4e316"
      },
      "execution_count": 21,
      "outputs": [
        {
          "output_type": "stream",
          "name": "stdout",
          "text": [
            "[[ 1  4  9]\n",
            " [16 25 36]]\n"
          ]
        }
      ]
    },
    {
      "cell_type": "code",
      "source": [
        "print(arr5-arr5)"
      ],
      "metadata": {
        "colab": {
          "base_uri": "https://localhost:8080/"
        },
        "id": "Q6p86tTBwn5B",
        "outputId": "881c13b5-41a4-49b6-e44a-6eb55f0097ee"
      },
      "execution_count": 22,
      "outputs": [
        {
          "output_type": "stream",
          "name": "stdout",
          "text": [
            "[[0 0 0]\n",
            " [0 0 0]]\n"
          ]
        }
      ]
    },
    {
      "cell_type": "code",
      "source": [
        "print(1/arr5)"
      ],
      "metadata": {
        "colab": {
          "base_uri": "https://localhost:8080/"
        },
        "id": "wxmv1Fj_wkyy",
        "outputId": "6b043412-f829-4f67-bf05-df9c7567a33f"
      },
      "execution_count": 23,
      "outputs": [
        {
          "output_type": "stream",
          "name": "stdout",
          "text": [
            "[[1.         0.5        0.33333333]\n",
            " [0.25       0.2        0.16666667]]\n"
          ]
        }
      ]
    },
    {
      "cell_type": "code",
      "source": [
        "print(arr5**0.5)"
      ],
      "metadata": {
        "colab": {
          "base_uri": "https://localhost:8080/"
        },
        "id": "q4_WBLVbw9hF",
        "outputId": "cea4604d-e646-4749-fb3d-c92fe9eaf10c"
      },
      "execution_count": 24,
      "outputs": [
        {
          "output_type": "stream",
          "name": "stdout",
          "text": [
            "[[1.         1.41421356 1.73205081]\n",
            " [2.         2.23606798 2.44948974]]\n"
          ]
        }
      ]
    },
    {
      "cell_type": "code",
      "source": [
        "arr6 = np.array([[2,7,1],[5,6,2]])"
      ],
      "metadata": {
        "id": "Ti4Xs5a6xA2o"
      },
      "execution_count": 25,
      "outputs": []
    },
    {
      "cell_type": "code",
      "source": [
        "print(arr5>arr6)"
      ],
      "metadata": {
        "colab": {
          "base_uri": "https://localhost:8080/"
        },
        "id": "OozbPLDMxeJ5",
        "outputId": "3508f103-c2d2-48f7-ebc8-198db0ea70c9"
      },
      "execution_count": 26,
      "outputs": [
        {
          "output_type": "stream",
          "name": "stdout",
          "text": [
            "[[False False  True]\n",
            " [False False  True]]\n"
          ]
        }
      ]
    },
    {
      "cell_type": "markdown",
      "source": [
        "* **Basic indexing and Slicing**"
      ],
      "metadata": {
        "id": "bgpqriKexqbV"
      }
    },
    {
      "cell_type": "markdown",
      "source": [
        ">dengan metode ini memungkinkan kita untuk memanggil nilai tertentu dalam suatu array"
      ],
      "metadata": {
        "id": "ZzyBNocex3Ks"
      }
    },
    {
      "cell_type": "code",
      "source": [
        "arr7 = np.array([12,24,16,67,83,90,25,55,17,24,83,27])"
      ],
      "metadata": {
        "id": "uf2kuAScyAa_"
      },
      "execution_count": 43,
      "outputs": []
    },
    {
      "cell_type": "code",
      "source": [
        "print(arr7[5])"
      ],
      "metadata": {
        "colab": {
          "base_uri": "https://localhost:8080/"
        },
        "id": "tpp2i6s2yQIH",
        "outputId": "7395a86f-e6cb-429d-bd5d-97cdc4bcffba"
      },
      "execution_count": 30,
      "outputs": [
        {
          "output_type": "stream",
          "name": "stdout",
          "text": [
            "90\n"
          ]
        }
      ]
    },
    {
      "cell_type": "code",
      "source": [
        "print(arr7[0])"
      ],
      "metadata": {
        "colab": {
          "base_uri": "https://localhost:8080/"
        },
        "id": "_d49Tsi_yYjf",
        "outputId": "1540a6b3-f097-4072-83b6-51ec2a9a9f9d"
      },
      "execution_count": 31,
      "outputs": [
        {
          "output_type": "stream",
          "name": "stdout",
          "text": [
            "12\n"
          ]
        }
      ]
    },
    {
      "cell_type": "code",
      "source": [
        "print(arr7[5:8])"
      ],
      "metadata": {
        "colab": {
          "base_uri": "https://localhost:8080/"
        },
        "id": "7VOswKt0ymzA",
        "outputId": "7c861b58-e4c6-404c-8a73-7c6f44ce868c"
      },
      "execution_count": 33,
      "outputs": [
        {
          "output_type": "stream",
          "name": "stdout",
          "text": [
            "[90 25 55]\n"
          ]
        }
      ]
    },
    {
      "cell_type": "code",
      "source": [],
      "metadata": {
        "id": "DelKhINly8sY"
      },
      "execution_count": null,
      "outputs": []
    },
    {
      "cell_type": "markdown",
      "source": [
        ">adapun jika kita menginginkan untuk mengganti satu atau beberapa nilai dari dalam suatu array maka dapat dilakukan dengan cara berikut"
      ],
      "metadata": {
        "id": "0AxHuJWNzEVM"
      }
    },
    {
      "cell_type": "code",
      "source": [
        "arr7[2:4]=23"
      ],
      "metadata": {
        "id": "99S1XS7cz6Zn"
      },
      "execution_count": 45,
      "outputs": []
    },
    {
      "cell_type": "code",
      "source": [
        "print(arr7)"
      ],
      "metadata": {
        "colab": {
          "base_uri": "https://localhost:8080/"
        },
        "id": "lgM4S34e0T-R",
        "outputId": "43dc41dd-f0b6-4420-f555-db517380df21"
      },
      "execution_count": 46,
      "outputs": [
        {
          "output_type": "stream",
          "name": "stdout",
          "text": [
            "[12 24 23 23 83 90 25 55 17 24 83 27]\n"
          ]
        }
      ]
    },
    {
      "cell_type": "markdown",
      "source": [
        ">selanjutnya kita mengenal istila slicing\n",
        "dimana memungkinkan kita untu mengambil beberapa nilai dari suatu array dan kita pindahkan ke arrray lain\n"
      ],
      "metadata": {
        "id": "ApPXJEDO0ce7"
      }
    },
    {
      "cell_type": "code",
      "source": [
        "arr_slice = arr7[5:8]"
      ],
      "metadata": {
        "id": "zF56Rmyv0uAP"
      },
      "execution_count": 47,
      "outputs": []
    },
    {
      "cell_type": "code",
      "source": [
        "print(arr_slice)"
      ],
      "metadata": {
        "colab": {
          "base_uri": "https://localhost:8080/"
        },
        "id": "tuPCw8Xj004F",
        "outputId": "baa49f6b-c68d-4f47-8d3d-1d48f60713ee"
      },
      "execution_count": 49,
      "outputs": [
        {
          "output_type": "stream",
          "name": "stdout",
          "text": [
            "[90 25 55]\n"
          ]
        }
      ]
    },
    {
      "cell_type": "markdown",
      "source": [
        ">namun jika menggunakan cara tersebut jika kita mengubah salahsatu nilai pada arr_slice maka nilai yang di ambil pada arr7 juga akan berubah"
      ],
      "metadata": {
        "id": "4cxj7uuA1r1-"
      }
    },
    {
      "cell_type": "code",
      "source": [
        "arr_slice[1]=39"
      ],
      "metadata": {
        "id": "iDk2yMy83H5Q"
      },
      "execution_count": 50,
      "outputs": []
    },
    {
      "cell_type": "code",
      "source": [
        "print(arr7)\n",
        "print(arr_slice)"
      ],
      "metadata": {
        "colab": {
          "base_uri": "https://localhost:8080/"
        },
        "id": "0KOyYIm43Qcy",
        "outputId": "685e13f9-d119-4066-92d4-8a9bcb19d53e"
      },
      "execution_count": 51,
      "outputs": [
        {
          "output_type": "stream",
          "name": "stdout",
          "text": [
            "[12 24 23 23 83 90 39 55 17 24 83 27]\n",
            "[90 39 55]\n"
          ]
        }
      ]
    },
    {
      "cell_type": "markdown",
      "source": [
        ">jika seandainya kita ingin mengambil data dari suatu array namun perubahan yang diberikan pada array baru tidak berdampak pada array lama maka selain menslice perlu tambahan function .copy\n",
        "contoh = arr7[5:8].copy()"
      ],
      "metadata": {
        "id": "7NVEb69g3gRM"
      }
    },
    {
      "cell_type": "markdown",
      "source": [
        ">kita juga bisa membuat suatu array dengan dimensi yang lebih besar"
      ],
      "metadata": {
        "id": "j46S_tfj5YDt"
      }
    },
    {
      "cell_type": "code",
      "source": [
        "#array 2 dimensi\n",
        "arr8 = np.array([[1,2,3],[4,5,6],[7,8,9]])"
      ],
      "metadata": {
        "id": "FrBoFt-H5jeH"
      },
      "execution_count": 52,
      "outputs": []
    },
    {
      "cell_type": "code",
      "source": [
        "print(arr8)"
      ],
      "metadata": {
        "colab": {
          "base_uri": "https://localhost:8080/"
        },
        "id": "DgB3PdZb52l_",
        "outputId": "c5aeb4c8-c65a-46c1-e923-48128f95c7a5"
      },
      "execution_count": 53,
      "outputs": [
        {
          "output_type": "stream",
          "name": "stdout",
          "text": [
            "[[1 2 3]\n",
            " [4 5 6]\n",
            " [7 8 9]]\n"
          ]
        }
      ]
    },
    {
      "cell_type": "code",
      "source": [
        "#pemanggilan nilai dalam suatu array 2d\n",
        "print(arr8[2])"
      ],
      "metadata": {
        "colab": {
          "base_uri": "https://localhost:8080/"
        },
        "id": "981RD-7Z552n",
        "outputId": "73a076ee-db65-4fa9-d5a3-6df5e6ab36ed"
      },
      "execution_count": 54,
      "outputs": [
        {
          "output_type": "stream",
          "name": "stdout",
          "text": [
            "[7 8 9]\n"
          ]
        }
      ]
    },
    {
      "cell_type": "code",
      "source": [
        "print(arr8[0][2])"
      ],
      "metadata": {
        "colab": {
          "base_uri": "https://localhost:8080/"
        },
        "id": "Ljlbgrnd6ayX",
        "outputId": "6e2899d7-1746-40ec-87be-cf6f48186abf"
      },
      "execution_count": 55,
      "outputs": [
        {
          "output_type": "stream",
          "name": "stdout",
          "text": [
            "3\n"
          ]
        }
      ]
    },
    {
      "cell_type": "code",
      "source": [
        "print(arr8[0,2])"
      ],
      "metadata": {
        "colab": {
          "base_uri": "https://localhost:8080/"
        },
        "id": "dAE3fCDS6oLf",
        "outputId": "c19a26ca-e701-4ab1-bcea-a10355f5b1e1"
      },
      "execution_count": 57,
      "outputs": [
        {
          "output_type": "stream",
          "name": "stdout",
          "text": [
            "3\n"
          ]
        }
      ]
    },
    {
      "cell_type": "code",
      "source": [],
      "metadata": {
        "id": "jDuh7fh26sR3"
      },
      "execution_count": null,
      "outputs": []
    }
  ]
}