{
  "nbformat": 4,
  "nbformat_minor": 0,
  "metadata": {
    "colab": {
      "provenance": [],
      "authorship_tag": "ABX9TyNGzxufXdHmPxTwU/3t9dhe",
      "include_colab_link": true
    },
    "kernelspec": {
      "name": "python3",
      "display_name": "Python 3"
    },
    "language_info": {
      "name": "python"
    }
  },
  "cells": [
    {
      "cell_type": "markdown",
      "metadata": {
        "id": "view-in-github",
        "colab_type": "text"
      },
      "source": [
        "<a href=\"https://colab.research.google.com/github/adenadit/My-Data-Science-Site/blob/main/Numpy/Basic/1_Multidimensional_Array_Object.ipynb\" target=\"_parent\"><img src=\"https://colab.research.google.com/assets/colab-badge.svg\" alt=\"Open In Colab\"/></a>"
      ]
    },
    {
      "cell_type": "markdown",
      "source": [
        "# **Numpy ndarray : Multidimensional Array Object**"
      ],
      "metadata": {
        "id": "c2ZGF-YDXdfz"
      }
    },
    {
      "cell_type": "code",
      "source": [
        "import numpy as np"
      ],
      "metadata": {
        "id": "y5bojCprXwuA"
      },
      "execution_count": 2,
      "outputs": []
    },
    {
      "cell_type": "code",
      "source": [
        "my_array = np.arange(100)\n",
        "print(my_array)"
      ],
      "metadata": {
        "colab": {
          "base_uri": "https://localhost:8080/"
        },
        "id": "iWAqcWBuYQGY",
        "outputId": "46037ccc-6282-4aa0-98c9-fb8258a479a5"
      },
      "execution_count": null,
      "outputs": [
        {
          "output_type": "stream",
          "name": "stdout",
          "text": [
            "[ 0  1  2  3  4  5  6  7  8  9 10 11 12 13 14 15 16 17 18 19 20 21 22 23\n",
            " 24 25 26 27 28 29 30 31 32 33 34 35 36 37 38 39 40 41 42 43 44 45 46 47\n",
            " 48 49 50 51 52 53 54 55 56 57 58 59 60 61 62 63 64 65 66 67 68 69 70 71\n",
            " 72 73 74 75 76 77 78 79 80 81 82 83 84 85 86 87 88 89 90 91 92 93 94 95\n",
            " 96 97 98 99]\n"
          ]
        }
      ]
    },
    {
      "cell_type": "markdown",
      "source": [
        ">arange merupakan salahsatu fungsi dari numpy yang berfungsi untuk membuat kan array sebanyak masukan yang kita inginkan\n",
        "\n",
        "\n",
        "\n",
        "\n",
        "\n",
        "\n",
        "\n"
      ],
      "metadata": {
        "id": "JvWKzBxtYlu-"
      }
    },
    {
      "cell_type": "code",
      "source": [
        "my_list = list(range(100))\n",
        "print(my_list)"
      ],
      "metadata": {
        "colab": {
          "base_uri": "https://localhost:8080/"
        },
        "id": "CdkfO5Z_Yu8E",
        "outputId": "523037a8-cba8-4013-d2a5-20b681aaaeb4"
      },
      "execution_count": null,
      "outputs": [
        {
          "output_type": "stream",
          "name": "stdout",
          "text": [
            "[0, 1, 2, 3, 4, 5, 6, 7, 8, 9, 10, 11, 12, 13, 14, 15, 16, 17, 18, 19, 20, 21, 22, 23, 24, 25, 26, 27, 28, 29, 30, 31, 32, 33, 34, 35, 36, 37, 38, 39, 40, 41, 42, 43, 44, 45, 46, 47, 48, 49, 50, 51, 52, 53, 54, 55, 56, 57, 58, 59, 60, 61, 62, 63, 64, 65, 66, 67, 68, 69, 70, 71, 72, 73, 74, 75, 76, 77, 78, 79, 80, 81, 82, 83, 84, 85, 86, 87, 88, 89, 90, 91, 92, 93, 94, 95, 96, 97, 98, 99]\n"
          ]
        }
      ]
    },
    {
      "cell_type": "markdown",
      "source": [
        ">list merupakan fungsi bawaan python yang memiliki fungsi serupa dengan arang namun dalam pengolahan array memiliki perbedaan dari arange"
      ],
      "metadata": {
        "id": "HFU4VEw3Za35"
      }
    },
    {
      "cell_type": "code",
      "source": [
        "my_array2 = my_array * 2\n",
        "print(my_array2)"
      ],
      "metadata": {
        "colab": {
          "base_uri": "https://localhost:8080/"
        },
        "id": "f9zpIk_pZvbJ",
        "outputId": "1a9b0190-f609-4ea7-fa2d-fb1dc99242a8"
      },
      "execution_count": null,
      "outputs": [
        {
          "output_type": "stream",
          "name": "stdout",
          "text": [
            "[  0   2   4   6   8  10  12  14  16  18  20  22  24  26  28  30  32  34\n",
            "  36  38  40  42  44  46  48  50  52  54  56  58  60  62  64  66  68  70\n",
            "  72  74  76  78  80  82  84  86  88  90  92  94  96  98 100 102 104 106\n",
            " 108 110 112 114 116 118 120 122 124 126 128 130 132 134 136 138 140 142\n",
            " 144 146 148 150 152 154 156 158 160 162 164 166 168 170 172 174 176 178\n",
            " 180 182 184 186 188 190 192 194 196 198]\n"
          ]
        }
      ]
    },
    {
      "cell_type": "code",
      "source": [
        "my_list2 = my_list *2\n",
        "print(my_list2)"
      ],
      "metadata": {
        "colab": {
          "base_uri": "https://localhost:8080/"
        },
        "id": "eSGcPxJ_aKLU",
        "outputId": "54a21f82-a170-44a3-b364-c0119b9dde03"
      },
      "execution_count": null,
      "outputs": [
        {
          "output_type": "stream",
          "name": "stdout",
          "text": [
            "[0, 1, 2, 3, 4, 5, 6, 7, 8, 9, 10, 11, 12, 13, 14, 15, 16, 17, 18, 19, 20, 21, 22, 23, 24, 25, 26, 27, 28, 29, 30, 31, 32, 33, 34, 35, 36, 37, 38, 39, 40, 41, 42, 43, 44, 45, 46, 47, 48, 49, 50, 51, 52, 53, 54, 55, 56, 57, 58, 59, 60, 61, 62, 63, 64, 65, 66, 67, 68, 69, 70, 71, 72, 73, 74, 75, 76, 77, 78, 79, 80, 81, 82, 83, 84, 85, 86, 87, 88, 89, 90, 91, 92, 93, 94, 95, 96, 97, 98, 99, 0, 1, 2, 3, 4, 5, 6, 7, 8, 9, 10, 11, 12, 13, 14, 15, 16, 17, 18, 19, 20, 21, 22, 23, 24, 25, 26, 27, 28, 29, 30, 31, 32, 33, 34, 35, 36, 37, 38, 39, 40, 41, 42, 43, 44, 45, 46, 47, 48, 49, 50, 51, 52, 53, 54, 55, 56, 57, 58, 59, 60, 61, 62, 63, 64, 65, 66, 67, 68, 69, 70, 71, 72, 73, 74, 75, 76, 77, 78, 79, 80, 81, 82, 83, 84, 85, 86, 87, 88, 89, 90, 91, 92, 93, 94, 95, 96, 97, 98, 99]\n"
          ]
        }
      ]
    },
    {
      "cell_type": "markdown",
      "source": [
        "> ketika dikalikan dengan angka 2 terlihat perbedaan antara arange dan list"
      ],
      "metadata": {
        "id": "bXJm4g2jahjk"
      }
    },
    {
      "cell_type": "markdown",
      "source": [
        " **1. Numpy ndarray : Multidimensional Array Object**"
      ],
      "metadata": {
        "id": "sK-FZHbcap_e"
      }
    },
    {
      "cell_type": "code",
      "source": [
        "# membuat beberapa random data\n",
        "data = np.random.randn(2,3)               # membuat random data sesuai dimensi yang dimasukan\n",
        "print(data)"
      ],
      "metadata": {
        "colab": {
          "base_uri": "https://localhost:8080/"
        },
        "id": "9TVrxhMra536",
        "outputId": "f805a6b6-6052-45f5-e4dc-0b0e01cb108a"
      },
      "execution_count": null,
      "outputs": [
        {
          "output_type": "stream",
          "name": "stdout",
          "text": [
            "[[ 0.73364396 -0.53037759 -0.65971991]\n",
            " [-0.34523706  1.18883743 -0.69861627]]\n"
          ]
        }
      ]
    },
    {
      "cell_type": "code",
      "source": [
        "# jika di berikan operasi matematika\n",
        "data * 10"
      ],
      "metadata": {
        "colab": {
          "base_uri": "https://localhost:8080/"
        },
        "id": "snZXEPnibqu0",
        "outputId": "8f01b3c0-39ac-45ad-c8b1-a5e4dac8aa70"
      },
      "execution_count": null,
      "outputs": [
        {
          "output_type": "execute_result",
          "data": {
            "text/plain": [
              "array([[ 7.33643961, -5.30377588, -6.59719907],\n",
              "       [-3.45237059, 11.88837434, -6.9861627 ]])"
            ]
          },
          "metadata": {},
          "execution_count": 9
        }
      ]
    },
    {
      "cell_type": "code",
      "source": [
        "data + data"
      ],
      "metadata": {
        "colab": {
          "base_uri": "https://localhost:8080/"
        },
        "id": "Kh60khdgb3_4",
        "outputId": "5b104908-afeb-4d9c-f2ba-7b657ba63b11"
      },
      "execution_count": null,
      "outputs": [
        {
          "output_type": "execute_result",
          "data": {
            "text/plain": [
              "array([[ 1.46728792, -1.06075518, -1.31943981],\n",
              "       [-0.69047412,  2.37767487, -1.39723254]])"
            ]
          },
          "metadata": {},
          "execution_count": 10
        }
      ]
    },
    {
      "cell_type": "markdown",
      "source": [
        ">setiap array pasti memiliki shape , indikasi tuple dan dtype"
      ],
      "metadata": {
        "id": "gzMo7PCqcxRD"
      }
    },
    {
      "cell_type": "code",
      "source": [
        "print(data.shape)"
      ],
      "metadata": {
        "colab": {
          "base_uri": "https://localhost:8080/"
        },
        "id": "QCfsJw3xdBV5",
        "outputId": "52993886-61de-4549-da5c-9e76f6d4d080"
      },
      "execution_count": null,
      "outputs": [
        {
          "output_type": "stream",
          "name": "stdout",
          "text": [
            "(2, 3)\n"
          ]
        }
      ]
    },
    {
      "cell_type": "code",
      "source": [
        "print(data.dtype)"
      ],
      "metadata": {
        "colab": {
          "base_uri": "https://localhost:8080/"
        },
        "id": "BSe2QP2vdZ9B",
        "outputId": "ad993cbb-9e2e-47ca-a4df-de0dbf6a67b4"
      },
      "execution_count": null,
      "outputs": [
        {
          "output_type": "stream",
          "name": "stdout",
          "text": [
            "float64\n"
          ]
        }
      ]
    },
    {
      "cell_type": "markdown",
      "source": [
        "*   **Creating ndarray**\n",
        "\n",
        "\n",
        "\n"
      ],
      "metadata": {
        "id": "-kbnqV_Gd1ns"
      }
    },
    {
      "cell_type": "code",
      "source": [
        "data1 = [1,3,4.7,2,5,6]"
      ],
      "metadata": {
        "id": "i48Inf1OeIXx"
      },
      "execution_count": null,
      "outputs": []
    },
    {
      "cell_type": "code",
      "source": [
        "arr1 = np.array(data1)"
      ],
      "metadata": {
        "id": "migAwirLeVo0"
      },
      "execution_count": null,
      "outputs": []
    },
    {
      "cell_type": "code",
      "source": [
        "arr1"
      ],
      "metadata": {
        "colab": {
          "base_uri": "https://localhost:8080/"
        },
        "id": "zh3m00Mpejuz",
        "outputId": "3f691da7-e81b-406e-8f7c-1c25fa13bb79"
      },
      "execution_count": null,
      "outputs": [
        {
          "output_type": "execute_result",
          "data": {
            "text/plain": [
              "array([1. , 3. , 4.7, 2. , 5. , 6. ])"
            ]
          },
          "metadata": {},
          "execution_count": 16
        }
      ]
    },
    {
      "cell_type": "code",
      "source": [
        "#Multidimensional Array\n",
        "data2 = [[1,2,3,4],[5,6,7,8]]"
      ],
      "metadata": {
        "id": "77KJyb8Me_8X"
      },
      "execution_count": null,
      "outputs": []
    },
    {
      "cell_type": "code",
      "source": [
        "arr2 = np.array(data2)"
      ],
      "metadata": {
        "id": "li92BhL_fTgD"
      },
      "execution_count": null,
      "outputs": []
    },
    {
      "cell_type": "code",
      "source": [
        "arr2"
      ],
      "metadata": {
        "colab": {
          "base_uri": "https://localhost:8080/"
        },
        "id": "Bnvj1rTnfcgM",
        "outputId": "9c3b8468-8872-4445-b739-0697c5c16c83"
      },
      "execution_count": null,
      "outputs": [
        {
          "output_type": "execute_result",
          "data": {
            "text/plain": [
              "array([[1, 2, 3, 4],\n",
              "       [5, 6, 7, 8]])"
            ]
          },
          "metadata": {},
          "execution_count": 19
        }
      ]
    },
    {
      "cell_type": "markdown",
      "source": [
        ">arr2 memiliki 2 dimensi, sehingga dapat ditampilkan dimensi dan shape nya"
      ],
      "metadata": {
        "id": "xsQsLuLxfjs-"
      }
    },
    {
      "cell_type": "code",
      "source": [
        "arr2.ndim"
      ],
      "metadata": {
        "colab": {
          "base_uri": "https://localhost:8080/"
        },
        "id": "SQrhZJgxf3W5",
        "outputId": "60496070-a302-47c2-9e30-15ccabf7ed26"
      },
      "execution_count": null,
      "outputs": [
        {
          "output_type": "execute_result",
          "data": {
            "text/plain": [
              "2"
            ]
          },
          "metadata": {},
          "execution_count": 22
        }
      ]
    },
    {
      "cell_type": "code",
      "source": [
        "arr2.shape"
      ],
      "metadata": {
        "colab": {
          "base_uri": "https://localhost:8080/"
        },
        "id": "r9bQqSbfgDy8",
        "outputId": "12877be9-8f85-47d0-eebe-bf78379de901"
      },
      "execution_count": null,
      "outputs": [
        {
          "output_type": "execute_result",
          "data": {
            "text/plain": [
              "(2, 4)"
            ]
          },
          "metadata": {},
          "execution_count": 23
        }
      ]
    },
    {
      "cell_type": "code",
      "source": [
        "#mengecek type data masing masing\n",
        "arr1.dtype"
      ],
      "metadata": {
        "colab": {
          "base_uri": "https://localhost:8080/"
        },
        "id": "yQyiMW1UgHC8",
        "outputId": "1ee0a942-18ad-40da-dbeb-c31d2ac1f3cb"
      },
      "execution_count": null,
      "outputs": [
        {
          "output_type": "execute_result",
          "data": {
            "text/plain": [
              "dtype('float64')"
            ]
          },
          "metadata": {},
          "execution_count": 24
        }
      ]
    },
    {
      "cell_type": "code",
      "source": [
        "arr2.dtype"
      ],
      "metadata": {
        "colab": {
          "base_uri": "https://localhost:8080/"
        },
        "id": "wZehJLIQgaJA",
        "outputId": "760d69d4-3e30-46b8-e094-a800cece2fc2"
      },
      "execution_count": null,
      "outputs": [
        {
          "output_type": "execute_result",
          "data": {
            "text/plain": [
              "dtype('int64')"
            ]
          },
          "metadata": {},
          "execution_count": 25
        }
      ]
    },
    {
      "cell_type": "markdown",
      "source": [
        ">kemudian kita juga dapat membuat sebuah array zeros dan ones"
      ],
      "metadata": {
        "id": "TW1bjeUBgzBY"
      }
    },
    {
      "cell_type": "code",
      "source": [
        "np.zeros(10)"
      ],
      "metadata": {
        "colab": {
          "base_uri": "https://localhost:8080/"
        },
        "id": "tQkYCXymg9Gm",
        "outputId": "451bb993-6650-4270-9442-b649350fa44d"
      },
      "execution_count": null,
      "outputs": [
        {
          "output_type": "execute_result",
          "data": {
            "text/plain": [
              "array([0., 0., 0., 0., 0., 0., 0., 0., 0., 0.])"
            ]
          },
          "metadata": {},
          "execution_count": 3
        }
      ]
    },
    {
      "cell_type": "code",
      "source": [
        "np.zeros((3,5))"
      ],
      "metadata": {
        "colab": {
          "base_uri": "https://localhost:8080/"
        },
        "id": "gkQFU0lZhIUz",
        "outputId": "e90222aa-d25a-45e4-e777-8c29fb435803"
      },
      "execution_count": null,
      "outputs": [
        {
          "output_type": "execute_result",
          "data": {
            "text/plain": [
              "array([[0., 0., 0., 0., 0.],\n",
              "       [0., 0., 0., 0., 0.],\n",
              "       [0., 0., 0., 0., 0.]])"
            ]
          },
          "metadata": {},
          "execution_count": 6
        }
      ]
    },
    {
      "cell_type": "markdown",
      "source": [
        "* **Data Types for ndarrays**\n",
        "\n"
      ],
      "metadata": {
        "id": "hVj571k3pYmv"
      }
    },
    {
      "cell_type": "code",
      "source": [
        "arr1 = np.array([1,2,3], dtype=np.float64)"
      ],
      "metadata": {
        "id": "oRwqDir8pREc"
      },
      "execution_count": null,
      "outputs": []
    },
    {
      "cell_type": "code",
      "source": [
        "arr2 = np.array([1,2,3], dtype=np.int32)"
      ],
      "metadata": {
        "id": "7DC8byBeqOVs"
      },
      "execution_count": null,
      "outputs": []
    },
    {
      "cell_type": "code",
      "source": [
        "print(arr1.dtype)"
      ],
      "metadata": {
        "colab": {
          "base_uri": "https://localhost:8080/"
        },
        "id": "XzzZaOX8qmgl",
        "outputId": "04507bfc-6efb-4504-c879-0357c7b259cd"
      },
      "execution_count": null,
      "outputs": [
        {
          "output_type": "stream",
          "name": "stdout",
          "text": [
            "float64\n"
          ]
        }
      ]
    },
    {
      "cell_type": "code",
      "source": [
        "print(arr2.dtype)"
      ],
      "metadata": {
        "colab": {
          "base_uri": "https://localhost:8080/"
        },
        "id": "e2qmkbM6qw6M",
        "outputId": "f8794f2b-6484-494a-8551-7c89fa440982"
      },
      "execution_count": null,
      "outputs": [
        {
          "output_type": "stream",
          "name": "stdout",
          "text": [
            "int32\n"
          ]
        }
      ]
    },
    {
      "cell_type": "markdown",
      "source": [
        ">dalam penerapannya terkadang kita ingin merubah tipe data yang digunakan\n",
        "maka kita dapat menggunakan fungsi astype"
      ],
      "metadata": {
        "id": "fsYUmT0RrLGG"
      }
    },
    {
      "cell_type": "code",
      "source": [
        "arr3 = np.array([2,3,12])"
      ],
      "metadata": {
        "id": "ECr7ooPlraxb"
      },
      "execution_count": null,
      "outputs": []
    },
    {
      "cell_type": "code",
      "source": [
        "print(arr3.dtype)"
      ],
      "metadata": {
        "colab": {
          "base_uri": "https://localhost:8080/"
        },
        "id": "2BVLXyZxrheK",
        "outputId": "a8d9392a-3df8-4aeb-9c05-b3c4bf921c22"
      },
      "execution_count": null,
      "outputs": [
        {
          "output_type": "stream",
          "name": "stdout",
          "text": [
            "int64\n"
          ]
        }
      ]
    },
    {
      "cell_type": "code",
      "source": [
        "#mengkonvert tipe data\n",
        "float_arr3 = arr3.astype(np.float64)"
      ],
      "metadata": {
        "id": "OtQfQODyrl3R"
      },
      "execution_count": null,
      "outputs": []
    },
    {
      "cell_type": "code",
      "source": [
        "print(float_arr3.dtype)\n",
        "print(float_arr3)"
      ],
      "metadata": {
        "colab": {
          "base_uri": "https://localhost:8080/"
        },
        "id": "xbDdUeikr22w",
        "outputId": "aecf565c-8b63-4ad0-8c0b-0f700432552a"
      },
      "execution_count": null,
      "outputs": [
        {
          "output_type": "stream",
          "name": "stdout",
          "text": [
            "float64\n",
            "[ 2.  3. 12.]\n"
          ]
        }
      ]
    },
    {
      "cell_type": "code",
      "source": [],
      "metadata": {
        "id": "5Av5Jb5hsEUg"
      },
      "execution_count": null,
      "outputs": []
    },
    {
      "cell_type": "markdown",
      "source": [
        ">contoh lain kita ingin mengubah tipe data float ke int"
      ],
      "metadata": {
        "id": "TREDiZinsPTS"
      }
    },
    {
      "cell_type": "code",
      "source": [
        "arr4 = np.array([2.11, 3.14, 9.992, 16.2, 22.3])"
      ],
      "metadata": {
        "id": "F9Fx33gIsVCY"
      },
      "execution_count": null,
      "outputs": []
    },
    {
      "cell_type": "code",
      "source": [
        "int_arr4 = arr4.astype(np.int32)"
      ],
      "metadata": {
        "id": "xzGi7tpbsnEh"
      },
      "execution_count": null,
      "outputs": []
    },
    {
      "cell_type": "code",
      "source": [
        "print(int_arr4)\n",
        "print(int_arr4.dtype)"
      ],
      "metadata": {
        "colab": {
          "base_uri": "https://localhost:8080/"
        },
        "id": "yT4LL1aLs6Cw",
        "outputId": "4b0200af-cc14-44fa-f4b9-2fcf0a504175"
      },
      "execution_count": null,
      "outputs": [
        {
          "output_type": "stream",
          "name": "stdout",
          "text": [
            "[ 2  3  9 16 22]\n",
            "int32\n"
          ]
        }
      ]
    },
    {
      "cell_type": "markdown",
      "source": [
        ">begitupun konversi tipe data lainnya"
      ],
      "metadata": {
        "id": "pr_9KfU5tZOF"
      }
    },
    {
      "cell_type": "markdown",
      "source": [
        "* **Arithmatic with numpy arrays**"
      ],
      "metadata": {
        "id": "BbFLuZr4t7Lc"
      }
    },
    {
      "cell_type": "code",
      "source": [
        "#untuk membuat array dengan beberapa kolom\n",
        "\n",
        "arr5 = np.array([[1,2,3],[4,5,6]])"
      ],
      "metadata": {
        "id": "dzI-wgY0uCHo"
      },
      "execution_count": null,
      "outputs": []
    },
    {
      "cell_type": "code",
      "source": [
        "print(arr5)"
      ],
      "metadata": {
        "colab": {
          "base_uri": "https://localhost:8080/"
        },
        "id": "giWC-tEzwbqY",
        "outputId": "77a762c7-8229-4b19-c06e-fee689856945"
      },
      "execution_count": null,
      "outputs": [
        {
          "output_type": "stream",
          "name": "stdout",
          "text": [
            "[[1 2 3]\n",
            " [4 5 6]]\n"
          ]
        }
      ]
    },
    {
      "cell_type": "code",
      "source": [
        "print(arr5*arr5)"
      ],
      "metadata": {
        "colab": {
          "base_uri": "https://localhost:8080/"
        },
        "id": "vQHF7jOxwiul",
        "outputId": "ac0f5298-efa5-4354-b8aa-874826e4e316"
      },
      "execution_count": null,
      "outputs": [
        {
          "output_type": "stream",
          "name": "stdout",
          "text": [
            "[[ 1  4  9]\n",
            " [16 25 36]]\n"
          ]
        }
      ]
    },
    {
      "cell_type": "code",
      "source": [
        "print(arr5-arr5)"
      ],
      "metadata": {
        "colab": {
          "base_uri": "https://localhost:8080/"
        },
        "id": "Q6p86tTBwn5B",
        "outputId": "881c13b5-41a4-49b6-e44a-6eb55f0097ee"
      },
      "execution_count": null,
      "outputs": [
        {
          "output_type": "stream",
          "name": "stdout",
          "text": [
            "[[0 0 0]\n",
            " [0 0 0]]\n"
          ]
        }
      ]
    },
    {
      "cell_type": "code",
      "source": [
        "print(1/arr5)"
      ],
      "metadata": {
        "colab": {
          "base_uri": "https://localhost:8080/"
        },
        "id": "wxmv1Fj_wkyy",
        "outputId": "6b043412-f829-4f67-bf05-df9c7567a33f"
      },
      "execution_count": null,
      "outputs": [
        {
          "output_type": "stream",
          "name": "stdout",
          "text": [
            "[[1.         0.5        0.33333333]\n",
            " [0.25       0.2        0.16666667]]\n"
          ]
        }
      ]
    },
    {
      "cell_type": "code",
      "source": [
        "print(arr5**0.5)"
      ],
      "metadata": {
        "colab": {
          "base_uri": "https://localhost:8080/"
        },
        "id": "q4_WBLVbw9hF",
        "outputId": "cea4604d-e646-4749-fb3d-c92fe9eaf10c"
      },
      "execution_count": null,
      "outputs": [
        {
          "output_type": "stream",
          "name": "stdout",
          "text": [
            "[[1.         1.41421356 1.73205081]\n",
            " [2.         2.23606798 2.44948974]]\n"
          ]
        }
      ]
    },
    {
      "cell_type": "code",
      "source": [
        "arr6 = np.array([[2,7,1],[5,6,2]])"
      ],
      "metadata": {
        "id": "Ti4Xs5a6xA2o"
      },
      "execution_count": null,
      "outputs": []
    },
    {
      "cell_type": "code",
      "source": [
        "print(arr5>arr6)"
      ],
      "metadata": {
        "colab": {
          "base_uri": "https://localhost:8080/"
        },
        "id": "OozbPLDMxeJ5",
        "outputId": "3508f103-c2d2-48f7-ebc8-198db0ea70c9"
      },
      "execution_count": null,
      "outputs": [
        {
          "output_type": "stream",
          "name": "stdout",
          "text": [
            "[[False False  True]\n",
            " [False False  True]]\n"
          ]
        }
      ]
    },
    {
      "cell_type": "markdown",
      "source": [
        "* **Basic indexing and Slicing**"
      ],
      "metadata": {
        "id": "bgpqriKexqbV"
      }
    },
    {
      "cell_type": "markdown",
      "source": [
        ">dengan metode ini memungkinkan kita untuk memanggil nilai tertentu dalam suatu array"
      ],
      "metadata": {
        "id": "ZzyBNocex3Ks"
      }
    },
    {
      "cell_type": "code",
      "source": [
        "arr7 = np.array([12,24,16,67,83,90,25,55,17,24,83,27])"
      ],
      "metadata": {
        "id": "uf2kuAScyAa_"
      },
      "execution_count": null,
      "outputs": []
    },
    {
      "cell_type": "code",
      "source": [
        "print(arr7[5])"
      ],
      "metadata": {
        "colab": {
          "base_uri": "https://localhost:8080/"
        },
        "id": "tpp2i6s2yQIH",
        "outputId": "7395a86f-e6cb-429d-bd5d-97cdc4bcffba"
      },
      "execution_count": null,
      "outputs": [
        {
          "output_type": "stream",
          "name": "stdout",
          "text": [
            "90\n"
          ]
        }
      ]
    },
    {
      "cell_type": "code",
      "source": [
        "print(arr7[0])"
      ],
      "metadata": {
        "colab": {
          "base_uri": "https://localhost:8080/"
        },
        "id": "_d49Tsi_yYjf",
        "outputId": "1540a6b3-f097-4072-83b6-51ec2a9a9f9d"
      },
      "execution_count": null,
      "outputs": [
        {
          "output_type": "stream",
          "name": "stdout",
          "text": [
            "12\n"
          ]
        }
      ]
    },
    {
      "cell_type": "code",
      "source": [
        "print(arr7[5:8])"
      ],
      "metadata": {
        "colab": {
          "base_uri": "https://localhost:8080/"
        },
        "id": "7VOswKt0ymzA",
        "outputId": "7c861b58-e4c6-404c-8a73-7c6f44ce868c"
      },
      "execution_count": null,
      "outputs": [
        {
          "output_type": "stream",
          "name": "stdout",
          "text": [
            "[90 25 55]\n"
          ]
        }
      ]
    },
    {
      "cell_type": "code",
      "source": [],
      "metadata": {
        "id": "DelKhINly8sY"
      },
      "execution_count": null,
      "outputs": []
    },
    {
      "cell_type": "markdown",
      "source": [
        ">adapun jika kita menginginkan untuk mengganti satu atau beberapa nilai dari dalam suatu array maka dapat dilakukan dengan cara berikut"
      ],
      "metadata": {
        "id": "0AxHuJWNzEVM"
      }
    },
    {
      "cell_type": "code",
      "source": [
        "arr7[2:4]=23"
      ],
      "metadata": {
        "id": "99S1XS7cz6Zn"
      },
      "execution_count": null,
      "outputs": []
    },
    {
      "cell_type": "code",
      "source": [
        "print(arr7)"
      ],
      "metadata": {
        "colab": {
          "base_uri": "https://localhost:8080/"
        },
        "id": "lgM4S34e0T-R",
        "outputId": "43dc41dd-f0b6-4420-f555-db517380df21"
      },
      "execution_count": null,
      "outputs": [
        {
          "output_type": "stream",
          "name": "stdout",
          "text": [
            "[12 24 23 23 83 90 25 55 17 24 83 27]\n"
          ]
        }
      ]
    },
    {
      "cell_type": "markdown",
      "source": [
        ">selanjutnya kita mengenal istila slicing\n",
        "dimana memungkinkan kita untu mengambil beberapa nilai dari suatu array dan kita pindahkan ke arrray lain\n"
      ],
      "metadata": {
        "id": "ApPXJEDO0ce7"
      }
    },
    {
      "cell_type": "code",
      "source": [
        "arr_slice = arr7[5:8]"
      ],
      "metadata": {
        "id": "zF56Rmyv0uAP"
      },
      "execution_count": null,
      "outputs": []
    },
    {
      "cell_type": "code",
      "source": [
        "print(arr_slice)"
      ],
      "metadata": {
        "colab": {
          "base_uri": "https://localhost:8080/"
        },
        "id": "tuPCw8Xj004F",
        "outputId": "baa49f6b-c68d-4f47-8d3d-1d48f60713ee"
      },
      "execution_count": null,
      "outputs": [
        {
          "output_type": "stream",
          "name": "stdout",
          "text": [
            "[90 25 55]\n"
          ]
        }
      ]
    },
    {
      "cell_type": "markdown",
      "source": [
        ">namun jika menggunakan cara tersebut jika kita mengubah salahsatu nilai pada arr_slice maka nilai yang di ambil pada arr7 juga akan berubah"
      ],
      "metadata": {
        "id": "4cxj7uuA1r1-"
      }
    },
    {
      "cell_type": "code",
      "source": [
        "arr_slice[1]=39"
      ],
      "metadata": {
        "id": "iDk2yMy83H5Q"
      },
      "execution_count": null,
      "outputs": []
    },
    {
      "cell_type": "code",
      "source": [
        "print(arr7)\n",
        "print(arr_slice)"
      ],
      "metadata": {
        "colab": {
          "base_uri": "https://localhost:8080/"
        },
        "id": "0KOyYIm43Qcy",
        "outputId": "685e13f9-d119-4066-92d4-8a9bcb19d53e"
      },
      "execution_count": null,
      "outputs": [
        {
          "output_type": "stream",
          "name": "stdout",
          "text": [
            "[12 24 23 23 83 90 39 55 17 24 83 27]\n",
            "[90 39 55]\n"
          ]
        }
      ]
    },
    {
      "cell_type": "markdown",
      "source": [
        ">jika seandainya kita ingin mengambil data dari suatu array namun perubahan yang diberikan pada array baru tidak berdampak pada array lama maka selain menslice perlu tambahan function .copy\n",
        "contoh = arr7[5:8].copy()"
      ],
      "metadata": {
        "id": "7NVEb69g3gRM"
      }
    },
    {
      "cell_type": "markdown",
      "source": [
        ">kita juga bisa membuat suatu array dengan dimensi yang lebih besar"
      ],
      "metadata": {
        "id": "j46S_tfj5YDt"
      }
    },
    {
      "cell_type": "code",
      "source": [
        "#array 2 dimensi\n",
        "arr8 = np.array([[1,2,3],[4,5,6],[7,8,9]])"
      ],
      "metadata": {
        "id": "FrBoFt-H5jeH"
      },
      "execution_count": null,
      "outputs": []
    },
    {
      "cell_type": "code",
      "source": [
        "print(arr8)"
      ],
      "metadata": {
        "colab": {
          "base_uri": "https://localhost:8080/"
        },
        "id": "DgB3PdZb52l_",
        "outputId": "c5aeb4c8-c65a-46c1-e923-48128f95c7a5"
      },
      "execution_count": null,
      "outputs": [
        {
          "output_type": "stream",
          "name": "stdout",
          "text": [
            "[[1 2 3]\n",
            " [4 5 6]\n",
            " [7 8 9]]\n"
          ]
        }
      ]
    },
    {
      "cell_type": "code",
      "source": [
        "#pemanggilan nilai dalam suatu array 2d\n",
        "print(arr8[2])"
      ],
      "metadata": {
        "colab": {
          "base_uri": "https://localhost:8080/"
        },
        "id": "981RD-7Z552n",
        "outputId": "73a076ee-db65-4fa9-d5a3-6df5e6ab36ed"
      },
      "execution_count": null,
      "outputs": [
        {
          "output_type": "stream",
          "name": "stdout",
          "text": [
            "[7 8 9]\n"
          ]
        }
      ]
    },
    {
      "cell_type": "code",
      "source": [
        "print(arr8[0][2])"
      ],
      "metadata": {
        "colab": {
          "base_uri": "https://localhost:8080/"
        },
        "id": "Ljlbgrnd6ayX",
        "outputId": "6e2899d7-1746-40ec-87be-cf6f48186abf"
      },
      "execution_count": null,
      "outputs": [
        {
          "output_type": "stream",
          "name": "stdout",
          "text": [
            "3\n"
          ]
        }
      ]
    },
    {
      "cell_type": "code",
      "source": [
        "print(arr8[0,2])"
      ],
      "metadata": {
        "colab": {
          "base_uri": "https://localhost:8080/"
        },
        "id": "dAE3fCDS6oLf",
        "outputId": "c19a26ca-e701-4ab1-bcea-a10355f5b1e1"
      },
      "execution_count": null,
      "outputs": [
        {
          "output_type": "stream",
          "name": "stdout",
          "text": [
            "3\n"
          ]
        }
      ]
    },
    {
      "cell_type": "markdown",
      "source": [
        "* **Boolean Indexing**"
      ],
      "metadata": {
        "id": "FQL9Ah42-beD"
      }
    },
    {
      "cell_type": "code",
      "source": [
        "names = np.array(['badu','ani','budi','tono','acep','tatang','adul'])"
      ],
      "metadata": {
        "id": "tDHKLC2L-kkt"
      },
      "execution_count": null,
      "outputs": []
    },
    {
      "cell_type": "code",
      "source": [
        "print(names == 'ani')"
      ],
      "metadata": {
        "colab": {
          "base_uri": "https://localhost:8080/"
        },
        "id": "MKf-5Vbv_7Ah",
        "outputId": "0a454361-b600-49c8-b9cc-fc13fc9a855a"
      },
      "execution_count": null,
      "outputs": [
        {
          "output_type": "stream",
          "name": "stdout",
          "text": [
            "[False  True False False False False False]\n"
          ]
        }
      ]
    },
    {
      "cell_type": "code",
      "source": [
        "data = np.random.randn(7,4)"
      ],
      "metadata": {
        "id": "PGgn0m9GAFzH"
      },
      "execution_count": null,
      "outputs": []
    },
    {
      "cell_type": "code",
      "source": [
        "print(data)"
      ],
      "metadata": {
        "colab": {
          "base_uri": "https://localhost:8080/"
        },
        "id": "G1odVlmxAkYe",
        "outputId": "d8ac9017-5c39-4ed4-96f6-507f0c3a00bd"
      },
      "execution_count": null,
      "outputs": [
        {
          "output_type": "stream",
          "name": "stdout",
          "text": [
            "[[-0.35725852 -0.71747922  0.03883899  1.83856984]\n",
            " [ 2.51080521 -0.44950218 -0.20485143  0.11020469]\n",
            " [-1.21901201 -1.19832524  0.72056005  2.01349751]\n",
            " [-0.05612003  0.05118222  0.2589853  -0.77440265]\n",
            " [ 0.48984114  0.79584069  0.46278094  1.53529156]\n",
            " [-0.91435428  1.27796305  0.43812937  0.36337024]\n",
            " [ 0.59490112 -1.49516025 -0.41084396 -2.91227088]]\n"
          ]
        }
      ]
    },
    {
      "cell_type": "markdown",
      "source": [
        "sekarang kita menginginkan kondisi kolom yang true tampil pada names dengan data"
      ],
      "metadata": {
        "id": "7TUM7XMKAq_s"
      }
    },
    {
      "cell_type": "code",
      "source": [
        "print(data[names == 'ani'])       # menampilkan hanya nilai yang true pada names ke data"
      ],
      "metadata": {
        "colab": {
          "base_uri": "https://localhost:8080/"
        },
        "id": "OEgqfW6WBB02",
        "outputId": "daffcd38-5c4c-4c64-e13f-ec4ad331ad7d"
      },
      "execution_count": null,
      "outputs": [
        {
          "output_type": "stream",
          "name": "stdout",
          "text": [
            "[[ 2.51080521 -0.44950218 -0.20485143  0.11020469]]\n"
          ]
        }
      ]
    },
    {
      "cell_type": "code",
      "source": [
        "print(data[names == 'ani',2])      #menampilkan kolom ke 2"
      ],
      "metadata": {
        "colab": {
          "base_uri": "https://localhost:8080/"
        },
        "id": "ruQ9DnpiBlS2",
        "outputId": "9b0a21ab-dd15-47fb-84f3-79c63d220bef"
      },
      "execution_count": null,
      "outputs": [
        {
          "output_type": "stream",
          "name": "stdout",
          "text": [
            "[-0.20485143]\n"
          ]
        }
      ]
    },
    {
      "cell_type": "code",
      "source": [
        "data[data<0]=0          #mengubah nilai data yang lebih kecil dari nol menjadi nol"
      ],
      "metadata": {
        "id": "cHc77EY6DaL3"
      },
      "execution_count": null,
      "outputs": []
    },
    {
      "cell_type": "code",
      "source": [
        "print(data)"
      ],
      "metadata": {
        "colab": {
          "base_uri": "https://localhost:8080/"
        },
        "id": "IwKTl5wCDvwH",
        "outputId": "7000240e-3d00-409b-c17a-31e1d9650898"
      },
      "execution_count": null,
      "outputs": [
        {
          "output_type": "stream",
          "name": "stdout",
          "text": [
            "[[0.         0.         0.03883899 1.83856984]\n",
            " [2.51080521 0.         0.         0.11020469]\n",
            " [0.         0.         0.72056005 2.01349751]\n",
            " [0.         0.05118222 0.2589853  0.        ]\n",
            " [0.48984114 0.79584069 0.46278094 1.53529156]\n",
            " [0.         1.27796305 0.43812937 0.36337024]\n",
            " [0.59490112 0.         0.         0.        ]]\n"
          ]
        }
      ]
    },
    {
      "cell_type": "code",
      "source": [
        "data[names != 'ani']=23"
      ],
      "metadata": {
        "id": "QRmr04yZEcxf"
      },
      "execution_count": null,
      "outputs": []
    },
    {
      "cell_type": "code",
      "source": [
        "print(data)"
      ],
      "metadata": {
        "colab": {
          "base_uri": "https://localhost:8080/"
        },
        "id": "XOa1-3S5EjTO",
        "outputId": "4ae894b8-9edb-442f-e600-f42351f65c72"
      },
      "execution_count": null,
      "outputs": [
        {
          "output_type": "stream",
          "name": "stdout",
          "text": [
            "[[23.         23.         23.         23.        ]\n",
            " [ 2.51080521  0.          0.          0.11020469]\n",
            " [23.         23.         23.         23.        ]\n",
            " [23.         23.         23.         23.        ]\n",
            " [23.         23.         23.         23.        ]\n",
            " [23.         23.         23.         23.        ]\n",
            " [23.         23.         23.         23.        ]]\n"
          ]
        }
      ]
    },
    {
      "cell_type": "markdown",
      "source": [
        "* **Fancy Indexing**\n",
        "\n"
      ],
      "metadata": {
        "id": "f-ga5HNcE2ag"
      }
    },
    {
      "cell_type": "code",
      "source": [
        "rand = np.random.RandomState(42)"
      ],
      "metadata": {
        "id": "lrW4lnkjE9Pe"
      },
      "execution_count": 3,
      "outputs": []
    },
    {
      "cell_type": "code",
      "source": [
        "x = rand.randint(100, size=10)"
      ],
      "metadata": {
        "id": "dNa-RRPYGPde"
      },
      "execution_count": 5,
      "outputs": []
    },
    {
      "cell_type": "code",
      "source": [
        "print(x)"
      ],
      "metadata": {
        "colab": {
          "base_uri": "https://localhost:8080/"
        },
        "id": "tsCOg4xlGiG8",
        "outputId": "05ea8fb1-b2c0-4096-9cae-917b730cae4a"
      },
      "execution_count": 6,
      "outputs": [
        {
          "output_type": "stream",
          "name": "stdout",
          "text": [
            "[87 99 23  2 21 52  1 87 29 37]\n"
          ]
        }
      ]
    },
    {
      "cell_type": "markdown",
      "source": [
        ">kemudian kita membentuk array baru dengan nilai yang telah ada sebelumnya"
      ],
      "metadata": {
        "id": "3jg7jnZsG22S"
      }
    },
    {
      "cell_type": "code",
      "source": [
        "[x[2],x[7],x[4]]"
      ],
      "metadata": {
        "colab": {
          "base_uri": "https://localhost:8080/"
        },
        "id": "oYjW8YpPG2Tg",
        "outputId": "ceb1a8e2-79a7-46e9-ca46-ab0e01fd1599"
      },
      "execution_count": 7,
      "outputs": [
        {
          "output_type": "execute_result",
          "data": {
            "text/plain": [
              "[23, 87, 21]"
            ]
          },
          "metadata": {},
          "execution_count": 7
        }
      ]
    },
    {
      "cell_type": "markdown",
      "source": [
        ">atau dengan alternative lain seperti"
      ],
      "metadata": {
        "id": "QJaZBcPlHZNk"
      }
    },
    {
      "cell_type": "code",
      "source": [
        "ind = [2,7,4]\n",
        "x[ind]"
      ],
      "metadata": {
        "colab": {
          "base_uri": "https://localhost:8080/"
        },
        "id": "yPUB0irJHebT",
        "outputId": "044a4cd5-5087-42b0-a28b-905366145763"
      },
      "execution_count": 8,
      "outputs": [
        {
          "output_type": "execute_result",
          "data": {
            "text/plain": [
              "array([23, 87, 21])"
            ]
          },
          "metadata": {},
          "execution_count": 8
        }
      ]
    },
    {
      "cell_type": "markdown",
      "source": [
        ">atau seandainya kita ingin memasukann ke format 2 dmiensi array"
      ],
      "metadata": {
        "id": "h1VfFfMnImq8"
      }
    },
    {
      "cell_type": "code",
      "source": [
        "ind = np.array([[2,7],[3,7]])\n",
        "x[ind]"
      ],
      "metadata": {
        "colab": {
          "base_uri": "https://localhost:8080/"
        },
        "id": "TzoIBGj1IslR",
        "outputId": "a6f03311-e8d1-4221-cc81-684cfed67935"
      },
      "execution_count": 9,
      "outputs": [
        {
          "output_type": "execute_result",
          "data": {
            "text/plain": [
              "array([[23, 87],\n",
              "       [ 2, 87]])"
            ]
          },
          "metadata": {},
          "execution_count": 9
        }
      ]
    },
    {
      "cell_type": "markdown",
      "source": [
        ">fancy indexing memungkinkan kita bekerja dengan multiple dimensi sekalipun"
      ],
      "metadata": {
        "id": "2IOzlZDZJHKd"
      }
    },
    {
      "cell_type": "code",
      "source": [
        "x1 = np.arange(12).reshape((3,4))\n",
        "print(x1)"
      ],
      "metadata": {
        "colab": {
          "base_uri": "https://localhost:8080/"
        },
        "id": "20GiQZkxI9Ex",
        "outputId": "a182eb49-9600-4eca-c82d-8bcb81d0e667"
      },
      "execution_count": 10,
      "outputs": [
        {
          "output_type": "stream",
          "name": "stdout",
          "text": [
            "[[ 0  1  2  3]\n",
            " [ 4  5  6  7]\n",
            " [ 8  9 10 11]]\n"
          ]
        }
      ]
    },
    {
      "cell_type": "markdown",
      "source": [
        ">kemudian kita menginginkan untuk membuat lagi array baru berdasarkan array x1 dengan mengambil data pada (0,1),(2,3),dan (2,2).\n",
        "maka dapat dituliskan menjadi"
      ],
      "metadata": {
        "id": "oVYkJN4HKKxr"
      }
    },
    {
      "cell_type": "code",
      "source": [
        "row =np.array([0,2,2])\n",
        "col = np.array([1,3,2])\n",
        "x1[row,col]"
      ],
      "metadata": {
        "colab": {
          "base_uri": "https://localhost:8080/"
        },
        "id": "EbnWts0QKoTC",
        "outputId": "5cb5d162-b58f-492a-d21b-050fc5e4cf41"
      },
      "execution_count": 13,
      "outputs": [
        {
          "output_type": "execute_result",
          "data": {
            "text/plain": [
              "array([ 1, 11, 10])"
            ]
          },
          "metadata": {},
          "execution_count": 13
        }
      ]
    },
    {
      "cell_type": "markdown",
      "source": [
        ">kemudian untuk membuat sebuah array dengan acuan colom dengan nilai baru yang terteramerupakan baris dari kolom tersebut"
      ],
      "metadata": {
        "id": "cs-IA2GOL3ph"
      }
    },
    {
      "cell_type": "code",
      "source": [
        "x1[row[:, np.newaxis],col]"
      ],
      "metadata": {
        "colab": {
          "base_uri": "https://localhost:8080/"
        },
        "id": "3Qam839cLC1A",
        "outputId": "97703718-6cdb-4aca-a1f1-4be94fc440cb"
      },
      "execution_count": 15,
      "outputs": [
        {
          "output_type": "execute_result",
          "data": {
            "text/plain": [
              "array([[ 1,  3,  2],\n",
              "       [ 9, 11, 10],\n",
              "       [ 9, 11, 10]])"
            ]
          },
          "metadata": {},
          "execution_count": 15
        }
      ]
    },
    {
      "cell_type": "markdown",
      "source": [
        ">ataupun kita ingin menampilkan nilai dari hasil aritmatik antara baris dan colom"
      ],
      "metadata": {
        "id": "CMLchP8NMabc"
      }
    },
    {
      "cell_type": "code",
      "source": [
        "row[:, np.newaxis] * col"
      ],
      "metadata": {
        "colab": {
          "base_uri": "https://localhost:8080/"
        },
        "id": "z6JcnN7qLkbZ",
        "outputId": "9b46f09b-f051-4b12-fa11-1ae5280ceef1"
      },
      "execution_count": 16,
      "outputs": [
        {
          "output_type": "execute_result",
          "data": {
            "text/plain": [
              "array([[0, 0, 0],\n",
              "       [2, 6, 4],\n",
              "       [2, 6, 4]])"
            ]
          },
          "metadata": {},
          "execution_count": 16
        }
      ]
    },
    {
      "cell_type": "markdown",
      "source": [
        "* **Combined Indexing**"
      ],
      "metadata": {
        "id": "BxeLxGe9M0BO"
      }
    },
    {
      "cell_type": "markdown",
      "source": [
        ">dengan hal ini memungkinkan kita mengkombinasikan inedx dari suatu array"
      ],
      "metadata": {
        "id": "VKEeoLLKNEC8"
      }
    },
    {
      "cell_type": "code",
      "source": [
        "print(x1)"
      ],
      "metadata": {
        "colab": {
          "base_uri": "https://localhost:8080/"
        },
        "id": "EAYP2GItNKwA",
        "outputId": "14d4c75e-dc6c-4bdc-c313-a2e152fd607e"
      },
      "execution_count": 18,
      "outputs": [
        {
          "output_type": "stream",
          "name": "stdout",
          "text": [
            "[[ 0  1  2  3]\n",
            " [ 4  5  6  7]\n",
            " [ 8  9 10 11]]\n"
          ]
        }
      ]
    },
    {
      "cell_type": "code",
      "source": [
        "x1[2,[2,0,1]]     #memanggil index pada (2,2),(2,0) dan (2,1)"
      ],
      "metadata": {
        "colab": {
          "base_uri": "https://localhost:8080/"
        },
        "id": "RLGj_ABkNYHy",
        "outputId": "a458ea99-2f3d-4adf-855a-b3597e6d64bb"
      },
      "execution_count": 20,
      "outputs": [
        {
          "output_type": "execute_result",
          "data": {
            "text/plain": [
              "array([10,  8,  9])"
            ]
          },
          "metadata": {},
          "execution_count": 20
        }
      ]
    },
    {
      "cell_type": "markdown",
      "source": [
        ">atau mengabungkan metode dengan slicing"
      ],
      "metadata": {
        "id": "_h8mLuMARIMH"
      }
    },
    {
      "cell_type": "code",
      "source": [
        "x1[1:,[2,0,1]]"
      ],
      "metadata": {
        "colab": {
          "base_uri": "https://localhost:8080/"
        },
        "id": "kBNP68w8RPTG",
        "outputId": "74c960f7-4f37-4917-a196-e2a97f20169a"
      },
      "execution_count": 21,
      "outputs": [
        {
          "output_type": "execute_result",
          "data": {
            "text/plain": [
              "array([[ 6,  4,  5],\n",
              "       [10,  8,  9]])"
            ]
          },
          "metadata": {},
          "execution_count": 21
        }
      ]
    },
    {
      "cell_type": "markdown",
      "source": [
        ">dan kita juga dapat mengkombinasikan fancy indexing dengan masking"
      ],
      "metadata": {
        "id": "KvIaFiCLRee0"
      }
    },
    {
      "cell_type": "code",
      "source": [
        "mask = np.array([1,0,1,0],dtype=bool)\n",
        "x1[row[:,np.newaxis],mask]"
      ],
      "metadata": {
        "colab": {
          "base_uri": "https://localhost:8080/"
        },
        "id": "3USxBgJiRl58",
        "outputId": "3814cf37-cd72-4da2-9524-89aa15bd3bba"
      },
      "execution_count": 22,
      "outputs": [
        {
          "output_type": "execute_result",
          "data": {
            "text/plain": [
              "array([[ 0,  2],\n",
              "       [ 8, 10],\n",
              "       [ 8, 10]])"
            ]
          },
          "metadata": {},
          "execution_count": 22
        }
      ]
    },
    {
      "cell_type": "markdown",
      "source": [
        "* **Example : Selecting Random Points**"
      ],
      "metadata": {
        "id": "ubkjcMTESEAa"
      }
    },
    {
      "cell_type": "markdown",
      "source": [
        "Salah satu penggunaan umum pengindeksan mewah adalah pemilihan himpunan bagian baris dari suatu matriks.\n",
        "Misalnya, kita mungkin memiliki matriks N kali D yang mewakili N titik dalam dimensi D, seperti titik-titik berikut yang diambil dari distribusi normal dua dimensi:"
      ],
      "metadata": {
        "id": "Jb7AFcQNSewK"
      }
    },
    {
      "cell_type": "code",
      "source": [
        "mean = [0,0]\n",
        "cov = [[1,2],\n",
        "       [2,5]]\n",
        "X = rand.multivariate_normal(mean, cov, 100)\n",
        "X.shape"
      ],
      "metadata": {
        "colab": {
          "base_uri": "https://localhost:8080/"
        },
        "id": "B64rWhssM5ne",
        "outputId": "bb85c90e-2478-47ea-8ff5-4a368a32f59f"
      },
      "execution_count": 27,
      "outputs": [
        {
          "output_type": "execute_result",
          "data": {
            "text/plain": [
              "(100, 2)"
            ]
          },
          "metadata": {},
          "execution_count": 27
        }
      ]
    },
    {
      "cell_type": "code",
      "source": [
        "import matplotlib.pyplot as plt\n",
        "import seaborn; seaborn.set()\n",
        "\n",
        "plt.scatter(X[:,0], X[:,1]);"
      ],
      "metadata": {
        "colab": {
          "base_uri": "https://localhost:8080/",
          "height": 434
        },
        "id": "BqCfDwfmTUGH",
        "outputId": "af31c19e-2664-4905-8182-325620f1f8f2"
      },
      "execution_count": 28,
      "outputs": [
        {
          "output_type": "display_data",
          "data": {
            "text/plain": [
              "<Figure size 640x480 with 1 Axes>"
            ],
            "image/png": "[encoded data removed]"
          },
          "metadata": {}
        }
      ]
    },
    {
      "cell_type": "code",
      "source": [
        "indices = np.random.choice(X.shape[0], 20, replace=False)\n",
        "indices"
      ],
      "metadata": {
        "colab": {
          "base_uri": "https://localhost:8080/"
        },
        "id": "09QoCTRfUO78",
        "outputId": "9ccc9e77-601f-4ad3-dbd5-1b6fbbdc1a10"
      },
      "execution_count": 29,
      "outputs": [
        {
          "output_type": "execute_result",
          "data": {
            "text/plain": [
              "array([41, 79, 38, 23, 52,  6,  2, 34, 35, 62, 36, 97,  9, 90, 32, 14,  5,\n",
              "       89, 15, 37])"
            ]
          },
          "metadata": {},
          "execution_count": 29
        }
      ]
    },
    {
      "cell_type": "code",
      "source": [
        "selection = X[indices]        # Fancy Indexing\n",
        "selection.shape"
      ],
      "metadata": {
        "colab": {
          "base_uri": "https://localhost:8080/"
        },
        "id": "OF1k2AvKUuza",
        "outputId": "c9df071c-c65c-49a6-b9cb-351fcd4b725e"
      },
      "execution_count": 30,
      "outputs": [
        {
          "output_type": "execute_result",
          "data": {
            "text/plain": [
              "(20, 2)"
            ]
          },
          "metadata": {},
          "execution_count": 30
        }
      ]
    },
    {
      "cell_type": "code",
      "source": [
        "plt.scatter(X[:,0],X[:,1], alpha=0.3)\n",
        "plt.scatter(selection[:,0],selection[:,1],\n",
        "            facecolor='red', s = 200);"
      ],
      "metadata": {
        "colab": {
          "base_uri": "https://localhost:8080/",
          "height": 434
        },
        "id": "lcInKlUlU-bM",
        "outputId": "b6012305-ae05-45a7-9f09-3549bfe97ae8"
      },
      "execution_count": 45,
      "outputs": [
        {
          "output_type": "display_data",
          "data": {
            "text/plain": [
              "<Figure size 640x480 with 1 Axes>"
            ],
            "image/png": "[encoded data removed]"
          },
          "metadata": {}
        }
      ]
    }
  ]
}