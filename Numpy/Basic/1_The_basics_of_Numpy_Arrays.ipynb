{
  "nbformat": 4,
  "nbformat_minor": 0,
  "metadata": {
    "colab": {
      "provenance": [],
      "authorship_tag": "ABX9TyNprdnENicgbuQQa9tgNVzR",
      "include_colab_link": true
    },
    "kernelspec": {
      "name": "python3",
      "display_name": "Python 3"
    },
    "language_info": {
      "name": "python"
    }
  },
  "cells": [
    {
      "cell_type": "markdown",
      "metadata": {
        "id": "view-in-github",
        "colab_type": "text"
      },
      "source": [
        "<a href=\"https://colab.research.google.com/github/adenadit/My-Data-Science-Site/blob/main/Numpy/Basic/1_The_basics_of_Numpy_Arrays.ipynb\" target=\"_parent\"><img src=\"https://colab.research.google.com/assets/colab-badge.svg\" alt=\"Open In Colab\"/></a>"
      ]
    },
    {
      "cell_type": "markdown",
      "source": [
        "# **Numpy Arrays Attributes**"
      ],
      "metadata": {
        "id": "cb_6H3y2DN-w"
      }
    },
    {
      "cell_type": "code",
      "execution_count": 2,
      "metadata": {
        "id": "J6EuNOS9Ccgn"
      },
      "outputs": [],
      "source": [
        "import numpy as np"
      ]
    },
    {
      "cell_type": "code",
      "source": [
        "x1 = np.random.randint(10, size=6)        #one-dimensional array\n",
        "print(x1)"
      ],
      "metadata": {
        "colab": {
          "base_uri": "https://localhost:8080/"
        },
        "id": "RS8LM5m7Dkh3",
        "outputId": "6845093a-2bf6-435b-d023-8aab414c550f"
      },
      "execution_count": null,
      "outputs": [
        {
          "output_type": "stream",
          "name": "stdout",
          "text": [
            "[3 5 2 4 7 6]\n"
          ]
        }
      ]
    },
    {
      "cell_type": "code",
      "source": [
        "x2 = np.random.randint(10, size=(3,4))\n",
        "print(x2)"
      ],
      "metadata": {
        "colab": {
          "base_uri": "https://localhost:8080/"
        },
        "id": "XOm9WRGnEORS",
        "outputId": "25a9793e-d162-449e-d812-cc76c919bfd4"
      },
      "execution_count": 3,
      "outputs": [
        {
          "output_type": "stream",
          "name": "stdout",
          "text": [
            "[[3 2 0 8]\n",
            " [5 7 2 6]\n",
            " [9 9 5 8]]\n"
          ]
        }
      ]
    },
    {
      "cell_type": "code",
      "source": [
        "x3 = np.random.randint(10, size=(3,4,5))\n",
        "print(x3)"
      ],
      "metadata": {
        "colab": {
          "base_uri": "https://localhost:8080/"
        },
        "id": "jWwh0zQOEfYD",
        "outputId": "1c13d061-9a42-46ed-972d-63bd0be5cd26"
      },
      "execution_count": null,
      "outputs": [
        {
          "output_type": "stream",
          "name": "stdout",
          "text": [
            "[[[1 2 4 2 0]\n",
            "  [3 2 0 7 5]\n",
            "  [9 0 2 7 2]\n",
            "  [9 2 3 3 2]]\n",
            "\n",
            " [[3 4 1 2 9]\n",
            "  [1 4 6 8 2]\n",
            "  [3 0 0 6 0]\n",
            "  [6 3 3 8 8]]\n",
            "\n",
            " [[8 2 3 2 0]\n",
            "  [8 8 3 8 2]\n",
            "  [8 4 3 0 4]\n",
            "  [3 6 9 8 0]]]\n"
          ]
        }
      ]
    },
    {
      "cell_type": "code",
      "source": [
        "print(\"x3 ndim : \", x3.ndim)      #the number of dimension\n",
        "print(\"x3 shape : \", x3.shape)    #the size of dimension\n",
        "print(\"x3 size : \", x3.size)      #the total size of the array"
      ],
      "metadata": {
        "colab": {
          "base_uri": "https://localhost:8080/"
        },
        "id": "a5HtckE6E6C8",
        "outputId": "7c0ca83e-d4b1-4627-d518-766a1deb4d55"
      },
      "execution_count": null,
      "outputs": [
        {
          "output_type": "stream",
          "name": "stdout",
          "text": [
            "x3 ndim :  3\n",
            "x3 shape :  (3, 4, 5)\n",
            "x3 size :  60\n"
          ]
        }
      ]
    },
    {
      "cell_type": "code",
      "source": [
        "print(\"dtype : \", x3.dtype)       # the type of dimension"
      ],
      "metadata": {
        "colab": {
          "base_uri": "https://localhost:8080/"
        },
        "id": "-zIe5eVhGD4G",
        "outputId": "a921b76b-d291-4b17-b677-a53284f69236"
      },
      "execution_count": null,
      "outputs": [
        {
          "output_type": "stream",
          "name": "stdout",
          "text": [
            "dtype :  int64\n"
          ]
        }
      ]
    },
    {
      "cell_type": "code",
      "source": [
        "print(\"item size : \", x3.itemsize, \"bytes\")       #list the size (in bytes)\n",
        "print(\"nbytes : \", x3.nbytes, \"bytes\")            #total size (in bytes)"
      ],
      "metadata": {
        "colab": {
          "base_uri": "https://localhost:8080/"
        },
        "id": "N3ImiKxBGXS6",
        "outputId": "af91c47c-b183-4d0f-f284-9575124e5435"
      },
      "execution_count": null,
      "outputs": [
        {
          "output_type": "stream",
          "name": "stdout",
          "text": [
            "item size :  8 bytes\n",
            "nbytes :  480 bytes\n"
          ]
        }
      ]
    },
    {
      "cell_type": "markdown",
      "source": [
        "# **Array Indexing : Accessing Single Elements**"
      ],
      "metadata": {
        "id": "TiUw8FE2HU3Q"
      }
    },
    {
      "cell_type": "markdown",
      "source": [
        ">**One-Dimensional List**"
      ],
      "metadata": {
        "id": "Q5zB_XFbIF_b"
      }
    },
    {
      "cell_type": "code",
      "source": [
        "print(x1)"
      ],
      "metadata": {
        "colab": {
          "base_uri": "https://localhost:8080/"
        },
        "id": "brFyDqYQHcJE",
        "outputId": "1fac6406-142a-4364-e797-bfa2b0f068b8"
      },
      "execution_count": null,
      "outputs": [
        {
          "output_type": "stream",
          "name": "stdout",
          "text": [
            "[3 5 2 4 7 6]\n"
          ]
        }
      ]
    },
    {
      "cell_type": "code",
      "source": [
        "x1[0]"
      ],
      "metadata": {
        "colab": {
          "base_uri": "https://localhost:8080/"
        },
        "id": "fdARjuLvHlyc",
        "outputId": "6bb1f524-e084-41bd-ca32-4fe359789434"
      },
      "execution_count": null,
      "outputs": [
        {
          "output_type": "execute_result",
          "data": {
            "text/plain": [
              "3"
            ]
          },
          "metadata": {},
          "execution_count": 18
        }
      ]
    },
    {
      "cell_type": "code",
      "source": [
        "x1[5]"
      ],
      "metadata": {
        "colab": {
          "base_uri": "https://localhost:8080/"
        },
        "id": "syldITn2Hpyc",
        "outputId": "371fdd24-415f-49eb-e012-31c61a956641"
      },
      "execution_count": null,
      "outputs": [
        {
          "output_type": "execute_result",
          "data": {
            "text/plain": [
              "6"
            ]
          },
          "metadata": {},
          "execution_count": 19
        }
      ]
    },
    {
      "cell_type": "code",
      "source": [
        "x1[-1]"
      ],
      "metadata": {
        "colab": {
          "base_uri": "https://localhost:8080/"
        },
        "id": "Y85FGfcUHs5U",
        "outputId": "4442c602-5eff-4d58-c430-90a24ec8f19b"
      },
      "execution_count": null,
      "outputs": [
        {
          "output_type": "execute_result",
          "data": {
            "text/plain": [
              "6"
            ]
          },
          "metadata": {},
          "execution_count": 20
        }
      ]
    },
    {
      "cell_type": "code",
      "source": [
        "x1[-3]"
      ],
      "metadata": {
        "colab": {
          "base_uri": "https://localhost:8080/"
        },
        "id": "6jAuKwKrH5UU",
        "outputId": "bcd6c449-40b3-4e6a-b30a-19c52510098a"
      },
      "execution_count": null,
      "outputs": [
        {
          "output_type": "execute_result",
          "data": {
            "text/plain": [
              "4"
            ]
          },
          "metadata": {},
          "execution_count": 21
        }
      ]
    },
    {
      "cell_type": "markdown",
      "source": [
        ">**Multi-Dimensional Listing**\n",
        "\n",
        "\n"
      ],
      "metadata": {
        "id": "rRMNkKuUIOM6"
      }
    },
    {
      "cell_type": "code",
      "source": [
        "print(x2)"
      ],
      "metadata": {
        "colab": {
          "base_uri": "https://localhost:8080/"
        },
        "id": "HXWRdEXyH8fL",
        "outputId": "91be5976-8d61-4f9c-f88d-9844f9a0eedc"
      },
      "execution_count": null,
      "outputs": [
        {
          "output_type": "stream",
          "name": "stdout",
          "text": [
            "[[4 3 0 3]\n",
            " [5 0 2 3]\n",
            " [8 1 3 3]]\n"
          ]
        }
      ]
    },
    {
      "cell_type": "code",
      "source": [
        "x2[0,0]"
      ],
      "metadata": {
        "colab": {
          "base_uri": "https://localhost:8080/"
        },
        "id": "zfBDGzX3IXEk",
        "outputId": "55d9e829-f8c8-4175-9b22-0a10781c3a94"
      },
      "execution_count": null,
      "outputs": [
        {
          "output_type": "execute_result",
          "data": {
            "text/plain": [
              "4"
            ]
          },
          "metadata": {},
          "execution_count": 24
        }
      ]
    },
    {
      "cell_type": "code",
      "source": [
        "x2[1,2]"
      ],
      "metadata": {
        "colab": {
          "base_uri": "https://localhost:8080/"
        },
        "id": "UqcuGQ_4IcC0",
        "outputId": "a59bb32c-93c6-498d-b75d-72341eac9b3e"
      },
      "execution_count": null,
      "outputs": [
        {
          "output_type": "execute_result",
          "data": {
            "text/plain": [
              "2"
            ]
          },
          "metadata": {},
          "execution_count": 25
        }
      ]
    },
    {
      "cell_type": "code",
      "source": [
        "x2[2,2]"
      ],
      "metadata": {
        "colab": {
          "base_uri": "https://localhost:8080/"
        },
        "id": "chdgC6BPIg-M",
        "outputId": "8fe6bf8a-e1a7-4512-d212-6cd23605697f"
      },
      "execution_count": null,
      "outputs": [
        {
          "output_type": "execute_result",
          "data": {
            "text/plain": [
              "3"
            ]
          },
          "metadata": {},
          "execution_count": 27
        }
      ]
    },
    {
      "cell_type": "markdown",
      "source": [
        ">**modify Value**"
      ],
      "metadata": {
        "id": "f_BavQl2Iudd"
      }
    },
    {
      "cell_type": "code",
      "source": [
        "x2[0,0]=23"
      ],
      "metadata": {
        "id": "34vkjOohIjh0"
      },
      "execution_count": null,
      "outputs": []
    },
    {
      "cell_type": "code",
      "source": [
        "print(x2)"
      ],
      "metadata": {
        "colab": {
          "base_uri": "https://localhost:8080/"
        },
        "id": "WgZ1z5btI4dZ",
        "outputId": "fa8384f3-a541-451a-f4ba-30245a7d7980"
      },
      "execution_count": null,
      "outputs": [
        {
          "output_type": "stream",
          "name": "stdout",
          "text": [
            "[[23  3  0  3]\n",
            " [ 5  0  2  3]\n",
            " [ 8  1  3  3]]\n"
          ]
        }
      ]
    },
    {
      "cell_type": "markdown",
      "source": [
        "namun perlu di perhatikan dalam modify value, Nilai yang diganti dengan nilai sebelumnya harus memiliki type data yang sama"
      ],
      "metadata": {
        "id": "qXRGkqhrJD43"
      }
    },
    {
      "cell_type": "markdown",
      "source": [
        "# **Arrays Slicing : Accessing Subarrays**\n",
        "\n"
      ],
      "metadata": {
        "id": "CTb7AbkIJuqv"
      }
    },
    {
      "cell_type": "markdown",
      "source": [
        "\n",
        "\n",
        "```\n",
        "# the Formula   x[start,stop,step]\n",
        "```\n",
        "\n"
      ],
      "metadata": {
        "id": "DeSQLrTTKJqD"
      }
    },
    {
      "cell_type": "markdown",
      "source": [
        ">**One-Dimensional subarrays**"
      ],
      "metadata": {
        "id": "leh67iUlNlis"
      }
    },
    {
      "cell_type": "code",
      "source": [
        "x = np.arange(10)\n",
        "print(x)"
      ],
      "metadata": {
        "id": "4jInK-hOKJPj"
      },
      "execution_count": null,
      "outputs": []
    },
    {
      "cell_type": "code",
      "source": [
        "x[:5]           #menampilkan 5 element pertama"
      ],
      "metadata": {
        "colab": {
          "base_uri": "https://localhost:8080/"
        },
        "id": "uwZfsQ__KqBk",
        "outputId": "38567fcd-a8ad-437f-ad85-440f6266fe5d"
      },
      "execution_count": null,
      "outputs": [
        {
          "output_type": "execute_result",
          "data": {
            "text/plain": [
              "array([0, 1, 2, 3, 4])"
            ]
          },
          "metadata": {},
          "execution_count": 34
        }
      ]
    },
    {
      "cell_type": "code",
      "source": [
        "x[5:]           #menampilkan 5 element terakhir"
      ],
      "metadata": {
        "colab": {
          "base_uri": "https://localhost:8080/"
        },
        "id": "7OUXOUfQKzhN",
        "outputId": "b477f773-33c7-4f8c-961d-8fbbfd240192"
      },
      "execution_count": null,
      "outputs": [
        {
          "output_type": "execute_result",
          "data": {
            "text/plain": [
              "array([5, 6, 7, 8, 9])"
            ]
          },
          "metadata": {},
          "execution_count": 35
        }
      ]
    },
    {
      "cell_type": "code",
      "source": [
        "x[4:7]          #menampilkan elemen antara"
      ],
      "metadata": {
        "colab": {
          "base_uri": "https://localhost:8080/"
        },
        "id": "f9etRdBsI6ME",
        "outputId": "b62666f1-4595-424e-b030-12c2b9972c82"
      },
      "execution_count": null,
      "outputs": [
        {
          "output_type": "execute_result",
          "data": {
            "text/plain": [
              "array([4, 5, 6])"
            ]
          },
          "metadata": {},
          "execution_count": 36
        }
      ]
    },
    {
      "cell_type": "code",
      "source": [
        "x[::2]          #menampilkan elemen setiap nilai kelipatan"
      ],
      "metadata": {
        "colab": {
          "base_uri": "https://localhost:8080/"
        },
        "id": "NiQZOY2UPL9J",
        "outputId": "fdf96819-ffc6-4910-9417-a082ff7d145d"
      },
      "execution_count": null,
      "outputs": [
        {
          "output_type": "execute_result",
          "data": {
            "text/plain": [
              "array([0, 2, 4, 6, 8])"
            ]
          },
          "metadata": {},
          "execution_count": 40
        }
      ]
    },
    {
      "cell_type": "code",
      "source": [
        "x[1::2]         #menampilkan elemen setiap nilai kelipatan, dimulai dari elemen 1"
      ],
      "metadata": {
        "colab": {
          "base_uri": "https://localhost:8080/"
        },
        "id": "zBTIHyArPZ2t",
        "outputId": "8fb0562b-08cc-44a6-91b4-04dbb16e210c"
      },
      "execution_count": null,
      "outputs": [
        {
          "output_type": "execute_result",
          "data": {
            "text/plain": [
              "array([1, 3, 5, 7, 9])"
            ]
          },
          "metadata": {},
          "execution_count": 41
        }
      ]
    },
    {
      "cell_type": "code",
      "source": [
        "x[::-1]         #mereverse semua element"
      ],
      "metadata": {
        "colab": {
          "base_uri": "https://localhost:8080/"
        },
        "id": "tt-S8IeyPcj-",
        "outputId": "6442fe72-c113-405a-da7c-104893fc2a5d"
      },
      "execution_count": null,
      "outputs": [
        {
          "output_type": "execute_result",
          "data": {
            "text/plain": [
              "array([9, 8, 7, 6, 5, 4, 3, 2, 1, 0])"
            ]
          },
          "metadata": {},
          "execution_count": 42
        }
      ]
    },
    {
      "cell_type": "code",
      "source": [
        "x[5::-2]        #reverse kelipatan dengan index 5"
      ],
      "metadata": {
        "colab": {
          "base_uri": "https://localhost:8080/"
        },
        "id": "J49j3Db5QE3C",
        "outputId": "28b18b7e-259c-4381-81fe-0c2f032abafb"
      },
      "execution_count": null,
      "outputs": [
        {
          "output_type": "execute_result",
          "data": {
            "text/plain": [
              "array([5, 3, 1])"
            ]
          },
          "metadata": {},
          "execution_count": 44
        }
      ]
    },
    {
      "cell_type": "markdown",
      "source": [
        ">**Multi-Dimensional subarrays**"
      ],
      "metadata": {
        "id": "qDdYcM1-Qjq1"
      }
    },
    {
      "cell_type": "code",
      "source": [
        "print(x2)"
      ],
      "metadata": {
        "colab": {
          "base_uri": "https://localhost:8080/"
        },
        "id": "y_LdE5h1QwKk",
        "outputId": "d232632f-ff5b-4c5f-9249-2b377cea5f20"
      },
      "execution_count": null,
      "outputs": [
        {
          "output_type": "stream",
          "name": "stdout",
          "text": [
            "[[23  3  0  3]\n",
            " [ 5  0  2  3]\n",
            " [ 8  1  3  3]]\n"
          ]
        }
      ]
    },
    {
      "cell_type": "code",
      "source": [
        "x2[:2,:3]           #2 row,3 column"
      ],
      "metadata": {
        "colab": {
          "base_uri": "https://localhost:8080/"
        },
        "id": "nGXgNBWzQycX",
        "outputId": "18628865-de95-45e1-da36-91329186f5d7"
      },
      "execution_count": null,
      "outputs": [
        {
          "output_type": "execute_result",
          "data": {
            "text/plain": [
              "array([[23,  3,  0],\n",
              "       [ 5,  0,  2]])"
            ]
          },
          "metadata": {},
          "execution_count": 46
        }
      ]
    },
    {
      "cell_type": "code",
      "source": [
        "x2[:3,::2]          #menampilkan semua row, pada coloumn kelipatan 2"
      ],
      "metadata": {
        "colab": {
          "base_uri": "https://localhost:8080/"
        },
        "id": "0pGUG5DGSE6M",
        "outputId": "79e16e5b-b8b3-48f2-bb74-3a950537d2b7"
      },
      "execution_count": null,
      "outputs": [
        {
          "output_type": "execute_result",
          "data": {
            "text/plain": [
              "array([[23,  0],\n",
              "       [ 5,  2],\n",
              "       [ 8,  3]])"
            ]
          },
          "metadata": {},
          "execution_count": 47
        }
      ]
    },
    {
      "cell_type": "code",
      "source": [
        "x2[::-1,::-1]       #reverse row dan coloumn"
      ],
      "metadata": {
        "colab": {
          "base_uri": "https://localhost:8080/"
        },
        "id": "yMwCQFRbSV1S",
        "outputId": "bb78270b-d07e-43a8-ed14-dfeada28739b"
      },
      "execution_count": null,
      "outputs": [
        {
          "output_type": "execute_result",
          "data": {
            "text/plain": [
              "array([[ 3,  3,  1,  8],\n",
              "       [ 3,  2,  0,  5],\n",
              "       [ 3,  0,  3, 23]])"
            ]
          },
          "metadata": {},
          "execution_count": 48
        }
      ]
    },
    {
      "cell_type": "markdown",
      "source": [
        ">**Accessing array rows and columns**\n"
      ],
      "metadata": {
        "id": "YyEBmOOYSnK9"
      }
    },
    {
      "cell_type": "code",
      "source": [
        "print(x2[0,:])      #menampilkan semua pada row 2"
      ],
      "metadata": {
        "colab": {
          "base_uri": "https://localhost:8080/"
        },
        "id": "FjfYwhzLAk5h",
        "outputId": "309388de-4bdf-4a01-9602-3ab3d6b173e3"
      },
      "execution_count": 4,
      "outputs": [
        {
          "output_type": "stream",
          "name": "stdout",
          "text": [
            "[3 2 0 8]\n"
          ]
        }
      ]
    },
    {
      "cell_type": "code",
      "source": [
        "print(x2[0])        #bentuk lainnya"
      ],
      "metadata": {
        "id": "JL48pslhBVLe"
      },
      "execution_count": null,
      "outputs": []
    },
    {
      "cell_type": "markdown",
      "source": [
        "> **Subarrays as no-copy views**"
      ],
      "metadata": {
        "id": "JhqTFIBjBsNP"
      }
    },
    {
      "cell_type": "code",
      "source": [
        "print(x2)"
      ],
      "metadata": {
        "colab": {
          "base_uri": "https://localhost:8080/"
        },
        "id": "UReifu5wB0l7",
        "outputId": "402010d1-0858-4d14-8e90-fee8320e5045"
      },
      "execution_count": 5,
      "outputs": [
        {
          "output_type": "stream",
          "name": "stdout",
          "text": [
            "[[3 2 0 8]\n",
            " [5 7 2 6]\n",
            " [9 9 5 8]]\n"
          ]
        }
      ]
    },
    {
      "cell_type": "code",
      "source": [
        "x2_sub = x2[:2,:2]      #ekstrak x2 ke array 2x2\n",
        "print(sub_x2)"
      ],
      "metadata": {
        "colab": {
          "base_uri": "https://localhost:8080/"
        },
        "id": "bVPaLbdOB3RU",
        "outputId": "ef3f747e-734c-4016-b6c0-2a1ef305374e"
      },
      "execution_count": 7,
      "outputs": [
        {
          "output_type": "stream",
          "name": "stdout",
          "text": [
            "[[3 2]\n",
            " [5 7]]\n"
          ]
        }
      ]
    },
    {
      "cell_type": "code",
      "source": [
        "x2_sub[0,0] = 99         #modifikasi subarray\n",
        "print(x2_sub)            # namun nilai dari array sumber juga ikut berubah"
      ],
      "metadata": {
        "colab": {
          "base_uri": "https://localhost:8080/"
        },
        "id": "g_SYTsd7CGf1",
        "outputId": "7d9fb97d-55b3-467f-e7ca-47d3709b5d70"
      },
      "execution_count": 9,
      "outputs": [
        {
          "output_type": "stream",
          "name": "stdout",
          "text": [
            "[[99  2]\n",
            " [ 5  7]]\n"
          ]
        }
      ]
    },
    {
      "cell_type": "markdown",
      "source": [
        "> **Creating copies of arrays**"
      ],
      "metadata": {
        "id": "R5o40EkcC2oS"
      }
    },
    {
      "cell_type": "code",
      "source": [
        "x2_sub_copy = x2[:2,:2].copy()\n",
        "print(x2_sub_copy)"
      ],
      "metadata": {
        "colab": {
          "base_uri": "https://localhost:8080/"
        },
        "id": "kSrkPa4UC7g7",
        "outputId": "e0cd669e-bfcc-4a8f-f025-36db70497b4e"
      },
      "execution_count": 10,
      "outputs": [
        {
          "output_type": "stream",
          "name": "stdout",
          "text": [
            "[[99  2]\n",
            " [ 5  7]]\n"
          ]
        }
      ]
    },
    {
      "cell_type": "code",
      "source": [
        "x2_sub_copy[0,0]=23\n",
        "print(x2_sub_copy)"
      ],
      "metadata": {
        "colab": {
          "base_uri": "https://localhost:8080/"
        },
        "id": "az3JrJTlDTeS",
        "outputId": "1d6e0e0a-8d67-451f-9080-ae8aba896435"
      },
      "execution_count": 11,
      "outputs": [
        {
          "output_type": "stream",
          "name": "stdout",
          "text": [
            "[[23  2]\n",
            " [ 5  7]]\n"
          ]
        }
      ]
    }
  ]
}