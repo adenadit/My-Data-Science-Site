{
  "nbformat": 4,
  "nbformat_minor": 0,
  "metadata": {
    "colab": {
      "provenance": [],
      "authorship_tag": "ABX9TyM5ruNIpL2gl3uDpKaAP/y5",
      "include_colab_link": true
    },
    "kernelspec": {
      "name": "python3",
      "display_name": "Python 3"
    },
    "language_info": {
      "name": "python"
    }
  },
  "cells": [
    {
      "cell_type": "markdown",
      "metadata": {
        "id": "view-in-github",
        "colab_type": "text"
      },
      "source": [
        "<a href=\"https://colab.research.google.com/github/adenadit/My-Data-Science-Site/blob/main/Numpy/Basic/2_Computation_on_NumPy_Arrays_Universal_Functions.ipynb\" target=\"_parent\"><img src=\"https://colab.research.google.com/assets/colab-badge.svg\" alt=\"Open In Colab\"/></a>"
      ]
    },
    {
      "cell_type": "markdown",
      "source": [
        "# **The Slowness of loops**"
      ],
      "metadata": {
        "id": "WzzZiSHRJE-E"
      }
    },
    {
      "cell_type": "code",
      "source": [
        "import numpy as np\n",
        "np.random.seed(0)"
      ],
      "metadata": {
        "id": "StI3Gj0DdTze"
      },
      "execution_count": 1,
      "outputs": []
    },
    {
      "cell_type": "code",
      "source": [
        "def compute_reciprocals(values):\n",
        "  output = np.empty(len(values))\n",
        "  for i in range(len(values)):\n",
        "    output[i] = 1.0/values[i]\n",
        "    return output\n",
        "\n"
      ],
      "metadata": {
        "id": "CRudGodLCIlv"
      },
      "execution_count": null,
      "outputs": []
    },
    {
      "cell_type": "code",
      "source": [
        "values = np.random.randint(1,10,size = 5)\n",
        "compute_reciprocals(values)"
      ],
      "metadata": {
        "colab": {
          "base_uri": "https://localhost:8080/"
        },
        "id": "sB5XfdtLCxQG",
        "outputId": "3adc8b3d-c77f-4a0a-a4f2-054501c7ac0b"
      },
      "execution_count": null,
      "outputs": [
        {
          "output_type": "execute_result",
          "data": {
            "text/plain": [
              "array([0.16666667, 1.        , 1.        , 1.        , 1.        ])"
            ]
          },
          "metadata": {},
          "execution_count": 5
        }
      ]
    },
    {
      "cell_type": "code",
      "source": [
        "big_array = np.random.randint(1, 100, size = 1000000)\n",
        "%timeit compute_reciprocals(big_array)"
      ],
      "metadata": {
        "colab": {
          "base_uri": "https://localhost:8080/"
        },
        "id": "jW-bN50hG-QC",
        "outputId": "fa26c13f-0e36-4137-ca7d-9af66cc32550"
      },
      "execution_count": null,
      "outputs": [
        {
          "output_type": "stream",
          "name": "stdout",
          "text": [
            "3.04 µs ± 68.7 ns per loop (mean ± std. dev. of 7 runs, 100000 loops each)\n"
          ]
        }
      ]
    },
    {
      "cell_type": "markdown",
      "source": [
        "# **Introducing UFuncs**"
      ],
      "metadata": {
        "id": "ZW7sPJAKJfvK"
      }
    },
    {
      "cell_type": "code",
      "source": [
        "%timeit (1.0 / big_array)"
      ],
      "metadata": {
        "colab": {
          "base_uri": "https://localhost:8080/"
        },
        "id": "bvDl3sNcHx8S",
        "outputId": "7bc59ba5-4a3a-4eba-aa8b-cf484c5766d7"
      },
      "execution_count": null,
      "outputs": [
        {
          "output_type": "stream",
          "name": "stdout",
          "text": [
            "2.02 ms ± 196 µs per loop (mean ± std. dev. of 7 runs, 1000 loops each)\n"
          ]
        }
      ]
    },
    {
      "cell_type": "code",
      "source": [
        "np.arange(5) / np.arange(1, 6)"
      ],
      "metadata": {
        "colab": {
          "base_uri": "https://localhost:8080/"
        },
        "id": "mwOkEEWuGWND",
        "outputId": "acecc58e-a5a4-4d59-e9f1-639e92ac737c"
      },
      "execution_count": null,
      "outputs": [
        {
          "output_type": "execute_result",
          "data": {
            "text/plain": [
              "array([0.        , 0.5       , 0.66666667, 0.75      , 0.8       ])"
            ]
          },
          "metadata": {},
          "execution_count": 8
        }
      ]
    },
    {
      "cell_type": "code",
      "source": [
        "e = np.arange(9).reshape((3, 3))\n",
        "print(2**e)"
      ],
      "metadata": {
        "colab": {
          "base_uri": "https://localhost:8080/"
        },
        "id": "KsIUZ3XXGcJv",
        "outputId": "e9895132-105d-41ea-d933-3eac2508f42e"
      },
      "execution_count": null,
      "outputs": [
        {
          "output_type": "stream",
          "name": "stdout",
          "text": [
            "[[  1   2   4]\n",
            " [  8  16  32]\n",
            " [ 64 128 256]]\n"
          ]
        }
      ]
    },
    {
      "cell_type": "markdown",
      "source": [
        "# **Exploring NumPy’s UFuncs**"
      ],
      "metadata": {
        "id": "QIls5p3rUEFj"
      }
    },
    {
      "cell_type": "markdown",
      "source": [
        "> **Array arithmetic**"
      ],
      "metadata": {
        "id": "KUY0mKQTUEIF"
      }
    },
    {
      "cell_type": "code",
      "source": [
        "import numpy as np"
      ],
      "metadata": {
        "id": "AccIqtjSUSj0"
      },
      "execution_count": null,
      "outputs": []
    },
    {
      "cell_type": "code",
      "source": [
        "x = np.arange(4)"
      ],
      "metadata": {
        "id": "d9zuGyOkUVlj"
      },
      "execution_count": null,
      "outputs": []
    },
    {
      "cell_type": "code",
      "source": [
        "print(\"x = \",x)\n",
        "print(\"x + 5 =\", x + 5)\n",
        "print(\"x - 5 =\",x - 5)\n",
        "print(\"x * 2 =\",x * 2)\n",
        "print(\"x / 2 =\",x / 2)\n",
        "print(\"x // 2=\",x // 2)"
      ],
      "metadata": {
        "colab": {
          "base_uri": "https://localhost:8080/"
        },
        "id": "Scn1upZmUYlt",
        "outputId": "9f209b16-aea7-42a5-89a5-48afd5b62ddb"
      },
      "execution_count": null,
      "outputs": [
        {
          "output_type": "stream",
          "name": "stdout",
          "text": [
            "x =  [0 1 2 3]\n",
            "x + 5 = [5 6 7 8]\n",
            "x - 5 = [-5 -4 -3 -2]\n",
            "x * 2 = [0 2 4 6]\n",
            "x / 2 = [0.  0.5 1.  1.5]\n",
            "x // 2= [0 0 1 1]\n"
          ]
        }
      ]
    },
    {
      "cell_type": "code",
      "source": [
        "print(\" -x =\",-x)\n",
        "print(\" x**2=\",x**2)\n",
        "print(\"x % 2=\",x%2)"
      ],
      "metadata": {
        "colab": {
          "base_uri": "https://localhost:8080/"
        },
        "id": "OLhkK6O-VO4X",
        "outputId": "e0fc3bdb-c1cd-4939-e583-4af1ea8a659a"
      },
      "execution_count": null,
      "outputs": [
        {
          "output_type": "stream",
          "name": "stdout",
          "text": [
            " -x = [ 0 -1 -2 -3]\n",
            " x**2= [0 1 4 9]\n",
            "x % 2= [0 1 0 1]\n"
          ]
        }
      ]
    },
    {
      "cell_type": "code",
      "source": [
        "-(0.5*x + 1)**2"
      ],
      "metadata": {
        "colab": {
          "base_uri": "https://localhost:8080/"
        },
        "id": "aOOizFtIVhXj",
        "outputId": "7246c651-e7cb-4178-a524-df83fee7cdb4"
      },
      "execution_count": null,
      "outputs": [
        {
          "output_type": "execute_result",
          "data": {
            "text/plain": [
              "array([-1.  , -2.25, -4.  , -6.25])"
            ]
          },
          "metadata": {},
          "execution_count": 10
        }
      ]
    },
    {
      "cell_type": "code",
      "source": [
        "# atau kita bisa juga menggunakan perintah\n",
        "np.add(x, 2)"
      ],
      "metadata": {
        "colab": {
          "base_uri": "https://localhost:8080/"
        },
        "id": "I77tVaegVwyN",
        "outputId": "319a0ebb-b534-40ba-a349-a7b8f1d1557d"
      },
      "execution_count": null,
      "outputs": [
        {
          "output_type": "execute_result",
          "data": {
            "text/plain": [
              "array([2, 3, 4, 5])"
            ]
          },
          "metadata": {},
          "execution_count": 11
        }
      ]
    },
    {
      "cell_type": "markdown",
      "source": [
        "> arithmatic operation"
      ],
      "metadata": {
        "id": "zIE6nwVqWHbB"
      }
    },
    {
      "cell_type": "markdown",
      "source": [
        "![image.png](data:image/png;base64,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)"
      ],
      "metadata": {
        "id": "VLSudNLhV7ga"
      }
    },
    {
      "cell_type": "markdown",
      "source": [
        "> **Absolute Value**"
      ],
      "metadata": {
        "id": "McFAFqJvWPyg"
      }
    },
    {
      "cell_type": "code",
      "source": [
        "y = np.array([-2, -1, 0, 1, 2])"
      ],
      "metadata": {
        "id": "hazkz4tcWFvq"
      },
      "execution_count": null,
      "outputs": []
    },
    {
      "cell_type": "code",
      "source": [
        "#menjalankan perintah python biasa\n",
        "abs(y)"
      ],
      "metadata": {
        "colab": {
          "base_uri": "https://localhost:8080/"
        },
        "id": "OPH0ZJ_xWpJz",
        "outputId": "894c588f-75d0-4ad2-9c44-95ac65fbbdb4"
      },
      "execution_count": null,
      "outputs": [
        {
          "output_type": "execute_result",
          "data": {
            "text/plain": [
              "array([2, 1, 0, 1, 2])"
            ]
          },
          "metadata": {},
          "execution_count": 14
        }
      ]
    },
    {
      "cell_type": "code",
      "source": [
        "#perintah absolute dengan numpy\n",
        "np.absolute(y)"
      ],
      "metadata": {
        "colab": {
          "base_uri": "https://localhost:8080/"
        },
        "id": "2Vc9If4BW28V",
        "outputId": "a7e24e64-ba5a-4194-e0bf-d080dc339b91"
      },
      "execution_count": null,
      "outputs": [
        {
          "output_type": "execute_result",
          "data": {
            "text/plain": [
              "array([2, 1, 0, 1, 2])"
            ]
          },
          "metadata": {},
          "execution_count": 16
        }
      ]
    },
    {
      "cell_type": "code",
      "source": [
        "#bisa juga dengan\n",
        "np.abs(y)"
      ],
      "metadata": {
        "colab": {
          "base_uri": "https://localhost:8080/"
        },
        "id": "_0pHkrJQW9Pz",
        "outputId": "23ef81cd-4541-4c79-eea0-731c7bfdd638"
      },
      "execution_count": null,
      "outputs": [
        {
          "output_type": "execute_result",
          "data": {
            "text/plain": [
              "array([2, 1, 0, 1, 2])"
            ]
          },
          "metadata": {},
          "execution_count": 18
        }
      ]
    },
    {
      "cell_type": "code",
      "source": [
        "# kemudian untuk mengubah bilangan kompleks ke absolute dapat dengan menggunakan perintah ini\n",
        "z = np.array([3-4j, 4-3j, 2+0j, 0+1j])\n",
        "print(np.abs(z))"
      ],
      "metadata": {
        "colab": {
          "base_uri": "https://localhost:8080/"
        },
        "id": "wcEQbQpxXHrU",
        "outputId": "84247b8c-723f-44a3-a844-32f237d9b536"
      },
      "execution_count": null,
      "outputs": [
        {
          "output_type": "stream",
          "name": "stdout",
          "text": [
            "[5. 5. 2. 1.]\n"
          ]
        }
      ]
    },
    {
      "cell_type": "markdown",
      "source": [
        "> **Trigonometric Function**"
      ],
      "metadata": {
        "id": "fEk8xaHsXymJ"
      }
    },
    {
      "cell_type": "code",
      "source": [
        "theta = np.linspace(0,np.pi,3)"
      ],
      "metadata": {
        "id": "Qk35jzVDX3bt"
      },
      "execution_count": null,
      "outputs": []
    },
    {
      "cell_type": "code",
      "source": [
        "print(\"theta : \",theta)\n",
        "print(\"sin(theta) :)\",np.sin(theta))\n",
        "print(\"cos(theta) :\",np.cos(theta))\n",
        "print(\"tan(theta) :\",np.tan(theta))"
      ],
      "metadata": {
        "colab": {
          "base_uri": "https://localhost:8080/"
        },
        "id": "_N_U3NIHYCzi",
        "outputId": "22c6c674-4dcf-44ed-941f-491ca5621502"
      },
      "execution_count": null,
      "outputs": [
        {
          "output_type": "stream",
          "name": "stdout",
          "text": [
            "theta :  [0.         1.57079633 3.14159265]\n",
            "sin(theta) :) [0.0000000e+00 1.0000000e+00 1.2246468e-16]\n",
            "cos(theta) : [ 1.000000e+00  6.123234e-17 -1.000000e+00]\n",
            "tan(theta) : [ 0.00000000e+00  1.63312394e+16 -1.22464680e-16]\n"
          ]
        }
      ]
    },
    {
      "cell_type": "code",
      "source": [
        "a = [-1, 0, 1]\n",
        "print(\"a =\",a)\n",
        "print(\"arcsin(a) =\",np.arcsin(a))\n",
        "print(\"arccos(a) =\",np.arccos(a))\n",
        "print(\"arctan(a) =\",np.arctan(a))"
      ],
      "metadata": {
        "colab": {
          "base_uri": "https://localhost:8080/"
        },
        "id": "laWRBfAeYzjc",
        "outputId": "4435ed7e-bc5d-4ab4-b97c-94a9e17103b4"
      },
      "execution_count": null,
      "outputs": [
        {
          "output_type": "stream",
          "name": "stdout",
          "text": [
            "a = [-1, 0, 1]\n",
            "arcsin(a) = [-1.57079633  0.          1.57079633]\n",
            "arccos(a) = [3.14159265 1.57079633 0.        ]\n",
            "arctan(a) = [-0.78539816  0.          0.78539816]\n"
          ]
        }
      ]
    },
    {
      "cell_type": "markdown",
      "source": [
        "> **Exponent and logarithms**"
      ],
      "metadata": {
        "id": "gp9_Z9fVZhLR"
      }
    },
    {
      "cell_type": "code",
      "source": [
        "# Exponent\n",
        "b = [1, 2, 3]"
      ],
      "metadata": {
        "id": "Fk8QdQFxZnbc"
      },
      "execution_count": null,
      "outputs": []
    },
    {
      "cell_type": "code",
      "source": [
        "print(\"b =\",b)\n",
        "print(\"e^b =\",np.exp(b))\n",
        "print(\"2^b =\",np.exp2(b))\n",
        "print(\"3^b =\",np.power(3, b))"
      ],
      "metadata": {
        "colab": {
          "base_uri": "https://localhost:8080/"
        },
        "id": "dRJQQZjUZrx5",
        "outputId": "6b196bb7-a7b8-4495-805e-78b83194cdc3"
      },
      "execution_count": null,
      "outputs": [
        {
          "output_type": "stream",
          "name": "stdout",
          "text": [
            "b = [1, 2, 3]\n",
            "e^b = [ 2.71828183  7.3890561  20.08553692]\n",
            "2^b = [2. 4. 8.]\n",
            "3^b = [ 3  9 27]\n"
          ]
        }
      ]
    },
    {
      "cell_type": "code",
      "source": [
        "# Logarithms\n",
        "c = [1, 2, 4, 10]"
      ],
      "metadata": {
        "id": "omPIufg9abuT"
      },
      "execution_count": null,
      "outputs": []
    },
    {
      "cell_type": "code",
      "source": [
        "print(\"c =\",c)\n",
        "print(\"ln(c) =\",np.log(c))\n",
        "print(\"log2(c) = \",np.log2(c))\n",
        "print(\"log10(c) =\",np.log10(c))"
      ],
      "metadata": {
        "colab": {
          "base_uri": "https://localhost:8080/"
        },
        "id": "4EJdzmNLatuU",
        "outputId": "d1b95227-274c-4e02-8bcd-598b30af99a3"
      },
      "execution_count": null,
      "outputs": [
        {
          "output_type": "stream",
          "name": "stdout",
          "text": [
            "c = [1, 2, 4, 10]\n",
            "ln(c) = [0.         0.69314718 1.38629436 2.30258509]\n",
            "log2(c) =  [0.         1.         2.         3.32192809]\n",
            "log10(c) = [0.         0.30103    0.60205999 1.        ]\n"
          ]
        }
      ]
    },
    {
      "cell_type": "code",
      "source": [
        "# adapun shortcut menjalankan perintah sederhana lain\n",
        "d = [0, 0.001, 0.01, 0.1]\n",
        "\n",
        "print(\"exp(d) - 1 =\",np.expm1(d))\n",
        "print(\"log(1+d) =\",np.log1p(d))"
      ],
      "metadata": {
        "colab": {
          "base_uri": "https://localhost:8080/"
        },
        "id": "xIhy7GwRbt3x",
        "outputId": "3538afb0-6160-44b1-cdbf-8a3b329bddef"
      },
      "execution_count": null,
      "outputs": [
        {
          "output_type": "stream",
          "name": "stdout",
          "text": [
            "exp(d) - 1 = [0.         0.0010005  0.01005017 0.10517092]\n",
            "log(1+d) = [0.         0.0009995  0.00995033 0.09531018]\n"
          ]
        }
      ]
    },
    {
      "cell_type": "markdown",
      "source": [
        "# **Advanced Ufunc Features**"
      ],
      "metadata": {
        "id": "gD7jMFEudOgN"
      }
    },
    {
      "cell_type": "markdown",
      "source": [
        "> **Specifying output**"
      ],
      "metadata": {
        "id": "s23JnmT6LJjB"
      }
    },
    {
      "cell_type": "code",
      "source": [
        "f = np.arange(5)\n",
        "g = np.empty(5)\n",
        "np.multiply(f, 10, out=g)\n",
        "print(g)"
      ],
      "metadata": {
        "id": "X4eulkAAG0rJ",
        "colab": {
          "base_uri": "https://localhost:8080/"
        },
        "outputId": "ccb28d60-842a-4dd6-d83a-814b3a85fa64"
      },
      "execution_count": 2,
      "outputs": [
        {
          "output_type": "stream",
          "name": "stdout",
          "text": [
            "[ 0. 10. 20. 30. 40.]\n"
          ]
        }
      ]
    },
    {
      "cell_type": "code",
      "source": [
        "g = np.zeros(10)\n",
        "np.power(2, f, out=g[::2])\n",
        "print(g)"
      ],
      "metadata": {
        "colab": {
          "base_uri": "https://localhost:8080/"
        },
        "id": "xnx4voqH2W1-",
        "outputId": "e2bd524e-c7b3-44a8-a6de-ad046a6aa524"
      },
      "execution_count": 3,
      "outputs": [
        {
          "output_type": "stream",
          "name": "stdout",
          "text": [
            "[ 1.  0.  2.  0.  4.  0.  8.  0. 16.  0.]\n"
          ]
        }
      ]
    },
    {
      "cell_type": "markdown",
      "source": [
        "> **Aggregates**"
      ],
      "metadata": {
        "id": "S6vaQphD23z0"
      }
    },
    {
      "cell_type": "code",
      "source": [
        "# menjumlahkan semua angka di dalam array\n",
        "f = np.arange(1, 7)\n",
        "print(f)\n",
        "np.add.reduce(f)"
      ],
      "metadata": {
        "colab": {
          "base_uri": "https://localhost:8080/"
        },
        "id": "2KW0u1za27ky",
        "outputId": "e66175d5-784e-4858-c026-f712c6c0bb69"
      },
      "execution_count": 7,
      "outputs": [
        {
          "output_type": "stream",
          "name": "stdout",
          "text": [
            "[1 2 3 4 5 6]\n"
          ]
        },
        {
          "output_type": "execute_result",
          "data": {
            "text/plain": [
              "21"
            ]
          },
          "metadata": {},
          "execution_count": 7
        }
      ]
    },
    {
      "cell_type": "code",
      "source": [
        "#mengalikan semua angka di dalam array\n",
        "print(f)\n",
        "np.multiply.reduce(f)\n"
      ],
      "metadata": {
        "colab": {
          "base_uri": "https://localhost:8080/"
        },
        "id": "F9CF_xgQ3qHA",
        "outputId": "1447d0af-5436-49cf-9f83-53f4a61cdcb7"
      },
      "execution_count": 8,
      "outputs": [
        {
          "output_type": "stream",
          "name": "stdout",
          "text": [
            "[1 2 3 4 5 6]\n"
          ]
        },
        {
          "output_type": "execute_result",
          "data": {
            "text/plain": [
              "720"
            ]
          },
          "metadata": {},
          "execution_count": 8
        }
      ]
    },
    {
      "cell_type": "code",
      "source": [
        "#menampilkan hasil array per setiap penjumlahan seluruh nilai dari pertiap nilai sebelumnya\n",
        "print(f)\n",
        "np.add.accumulate(f)"
      ],
      "metadata": {
        "colab": {
          "base_uri": "https://localhost:8080/"
        },
        "id": "0MsVZTIX4aRe",
        "outputId": "dbfadff1-f9dd-47f0-d1b6-9b0335dbb042"
      },
      "execution_count": 9,
      "outputs": [
        {
          "output_type": "stream",
          "name": "stdout",
          "text": [
            "[1 2 3 4 5 6]\n"
          ]
        },
        {
          "output_type": "execute_result",
          "data": {
            "text/plain": [
              "array([ 1,  3,  6, 10, 15, 21])"
            ]
          },
          "metadata": {},
          "execution_count": 9
        }
      ]
    },
    {
      "cell_type": "code",
      "source": [
        "#menampilkan hasil array per setiap perkalian seluruh nilai dari pertiap nilai sebelumnya\n",
        "print(f)\n",
        "np.multiply.accumulate(f)"
      ],
      "metadata": {
        "colab": {
          "base_uri": "https://localhost:8080/"
        },
        "id": "t-pwof536YZu",
        "outputId": "36023520-43e6-4e76-b808-2913cdddcd2c"
      },
      "execution_count": 10,
      "outputs": [
        {
          "output_type": "stream",
          "name": "stdout",
          "text": [
            "[1 2 3 4 5 6]\n"
          ]
        },
        {
          "output_type": "execute_result",
          "data": {
            "text/plain": [
              "array([  1,   2,   6,  24, 120, 720])"
            ]
          },
          "metadata": {},
          "execution_count": 10
        }
      ]
    },
    {
      "cell_type": "markdown",
      "source": [
        "> **Outer Product**"
      ],
      "metadata": {
        "id": "LK1IssDX620x"
      }
    },
    {
      "cell_type": "code",
      "source": [
        "h = np.arange(1, 6)\n",
        "np.multiply.outer(h, h)"
      ],
      "metadata": {
        "colab": {
          "base_uri": "https://localhost:8080/"
        },
        "id": "qy3W8-PQ61D3",
        "outputId": "58b4f069-910f-42eb-df63-9b40b954b735"
      },
      "execution_count": 13,
      "outputs": [
        {
          "output_type": "execute_result",
          "data": {
            "text/plain": [
              "array([[ 1,  2,  3,  4,  5],\n",
              "       [ 2,  4,  6,  8, 10],\n",
              "       [ 3,  6,  9, 12, 15],\n",
              "       [ 4,  8, 12, 16, 20],\n",
              "       [ 5, 10, 15, 20, 25]])"
            ]
          },
          "metadata": {},
          "execution_count": 13
        }
      ]
    }
  ]
}