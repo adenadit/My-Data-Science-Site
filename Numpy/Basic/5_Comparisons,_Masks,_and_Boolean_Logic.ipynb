{
  "nbformat": 4,
  "nbformat_minor": 0,
  "metadata": {
    "colab": {
      "provenance": [],
      "authorship_tag": "ABX9TyMGdgRG/xiwmCeQdN2v8zpf",
      "include_colab_link": true
    },
    "kernelspec": {
      "name": "python3",
      "display_name": "Python 3"
    },
    "language_info": {
      "name": "python"
    }
  },
  "cells": [
    {
      "cell_type": "markdown",
      "metadata": {
        "id": "view-in-github",
        "colab_type": "text"
      },
      "source": [
        "<a href=\"https://colab.research.google.com/github/adenadit/My-Data-Science-Site/blob/main/Numpy/Basic/5_Comparisons%2C_Masks%2C_and_Boolean_Logic.ipynb\" target=\"_parent\"><img src=\"https://colab.research.google.com/assets/colab-badge.svg\" alt=\"Open In Colab\"/></a>"
      ]
    },
    {
      "cell_type": "markdown",
      "source": [
        "# **Example : Counting Rainy Days**"
      ],
      "metadata": {
        "id": "HHd1mzsBxJQT"
      }
    },
    {
      "cell_type": "markdown",
      "source": [
        "# **Comparison Operators as ufuncs**"
      ],
      "metadata": {
        "id": "VSotaTb1wJEG"
      }
    },
    {
      "cell_type": "code",
      "execution_count": 1,
      "metadata": {
        "id": "s178Xg8Ot3LA"
      },
      "outputs": [],
      "source": [
        "import numpy as np"
      ]
    },
    {
      "cell_type": "code",
      "source": [
        "a = np.array([1, 2, 3, 4, 5])"
      ],
      "metadata": {
        "id": "K8JPB7Tcwc6r"
      },
      "execution_count": 2,
      "outputs": []
    },
    {
      "cell_type": "code",
      "source": [
        "a < 3"
      ],
      "metadata": {
        "colab": {
          "base_uri": "https://localhost:8080/"
        },
        "id": "u6J0T2aUwFr9",
        "outputId": "196692c1-f2a6-4b70-80ef-ad7157a8cce4"
      },
      "execution_count": 4,
      "outputs": [
        {
          "output_type": "execute_result",
          "data": {
            "text/plain": [
              "array([ True,  True, False, False, False])"
            ]
          },
          "metadata": {},
          "execution_count": 4
        }
      ]
    },
    {
      "cell_type": "code",
      "source": [
        "a > 3"
      ],
      "metadata": {
        "colab": {
          "base_uri": "https://localhost:8080/"
        },
        "id": "uXvz1J_9xJhe",
        "outputId": "6b9c6e6f-f8d6-4dff-deca-0c7086e5dfb7"
      },
      "execution_count": 5,
      "outputs": [
        {
          "output_type": "execute_result",
          "data": {
            "text/plain": [
              "array([False, False, False,  True,  True])"
            ]
          },
          "metadata": {},
          "execution_count": 5
        }
      ]
    },
    {
      "cell_type": "code",
      "source": [
        "a <= 3"
      ],
      "metadata": {
        "colab": {
          "base_uri": "https://localhost:8080/"
        },
        "id": "A7IWNaQ5xL_O",
        "outputId": "6b31980b-d78a-452c-fc1a-0422c8816da6"
      },
      "execution_count": 6,
      "outputs": [
        {
          "output_type": "execute_result",
          "data": {
            "text/plain": [
              "array([ True,  True,  True, False, False])"
            ]
          },
          "metadata": {},
          "execution_count": 6
        }
      ]
    },
    {
      "cell_type": "code",
      "source": [
        "a >= 3"
      ],
      "metadata": {
        "colab": {
          "base_uri": "https://localhost:8080/"
        },
        "id": "lFUcg85WxOn3",
        "outputId": "5c7bcdf8-cd0b-41fe-eaa7-1eecf84f3959"
      },
      "execution_count": 7,
      "outputs": [
        {
          "output_type": "execute_result",
          "data": {
            "text/plain": [
              "array([False, False,  True,  True,  True])"
            ]
          },
          "metadata": {},
          "execution_count": 7
        }
      ]
    },
    {
      "cell_type": "code",
      "source": [
        "a != 3"
      ],
      "metadata": {
        "colab": {
          "base_uri": "https://localhost:8080/"
        },
        "id": "-ONE1kxdxR7m",
        "outputId": "494b7609-b4e3-4b08-a725-cb6a4a359702"
      },
      "execution_count": 8,
      "outputs": [
        {
          "output_type": "execute_result",
          "data": {
            "text/plain": [
              "array([ True,  True, False,  True,  True])"
            ]
          },
          "metadata": {},
          "execution_count": 8
        }
      ]
    },
    {
      "cell_type": "code",
      "source": [
        "a == 3"
      ],
      "metadata": {
        "colab": {
          "base_uri": "https://localhost:8080/"
        },
        "id": "mOXcqfKnxVf2",
        "outputId": "08c833e7-45db-4a71-be49-87d63f5553b5"
      },
      "execution_count": 9,
      "outputs": [
        {
          "output_type": "execute_result",
          "data": {
            "text/plain": [
              "array([False, False,  True, False, False])"
            ]
          },
          "metadata": {},
          "execution_count": 9
        }
      ]
    },
    {
      "cell_type": "code",
      "source": [
        "# kita juga dapat mengcompare elemen dari aray 2 dimensi\n",
        "(2*a) == (a**2)"
      ],
      "metadata": {
        "colab": {
          "base_uri": "https://localhost:8080/"
        },
        "id": "pkQdLVEMxbom",
        "outputId": "918759ac-dd7a-4338-ecbd-2536e6418d50"
      },
      "execution_count": 11,
      "outputs": [
        {
          "output_type": "execute_result",
          "data": {
            "text/plain": [
              "array([False,  True, False, False, False])"
            ]
          },
          "metadata": {},
          "execution_count": 11
        }
      ]
    },
    {
      "cell_type": "markdown",
      "source": [
        "![image.png](data:image/png;base64,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)"
      ],
      "metadata": {
        "id": "KWtphp7Nx_NW"
      }
    },
    {
      "cell_type": "code",
      "source": [
        "b = np.random.RandomState(0)\n",
        "c = b.randint(10, size=(3,4))\n",
        "print(c)"
      ],
      "metadata": {
        "colab": {
          "base_uri": "https://localhost:8080/"
        },
        "id": "5ZqziRggyRGx",
        "outputId": "a1191c38-4c73-4431-e5b6-5742468b6ccd"
      },
      "execution_count": 14,
      "outputs": [
        {
          "output_type": "stream",
          "name": "stdout",
          "text": [
            "[[5 0 3 3]\n",
            " [7 9 3 5]\n",
            " [2 4 7 6]]\n"
          ]
        }
      ]
    },
    {
      "cell_type": "code",
      "source": [
        "c < 6"
      ],
      "metadata": {
        "colab": {
          "base_uri": "https://localhost:8080/"
        },
        "id": "QS0nsbfcyoA2",
        "outputId": "a8903efc-9526-4b51-f22b-c08fee368ba8"
      },
      "execution_count": 15,
      "outputs": [
        {
          "output_type": "execute_result",
          "data": {
            "text/plain": [
              "array([[ True,  True,  True,  True],\n",
              "       [False, False,  True,  True],\n",
              "       [ True,  True, False, False]])"
            ]
          },
          "metadata": {},
          "execution_count": 15
        }
      ]
    },
    {
      "cell_type": "markdown",
      "source": [
        "# **Working with Boolean Arrays**"
      ],
      "metadata": {
        "id": "cw727r21y4wS"
      }
    },
    {
      "cell_type": "code",
      "source": [
        "print(c)"
      ],
      "metadata": {
        "colab": {
          "base_uri": "https://localhost:8080/"
        },
        "id": "KHznDUHjy-r5",
        "outputId": "b876ff36-9692-4e6b-86cd-557b25f951f1"
      },
      "execution_count": 17,
      "outputs": [
        {
          "output_type": "stream",
          "name": "stdout",
          "text": [
            "[[5 0 3 3]\n",
            " [7 9 3 5]\n",
            " [2 4 7 6]]\n"
          ]
        }
      ]
    },
    {
      "cell_type": "markdown",
      "source": [
        "> **Counting entries**\n"
      ],
      "metadata": {
        "id": "Cu3sNDJgzHi0"
      }
    },
    {
      "cell_type": "code",
      "source": [
        "# berapa banyak nilai yang lebih kecil dari 6\n",
        "np.count_nonzero(c < 6)"
      ],
      "metadata": {
        "colab": {
          "base_uri": "https://localhost:8080/"
        },
        "id": "h1p6s66DzGUJ",
        "outputId": "f56a95fd-591f-460c-9ba8-6ba6fe344a32"
      },
      "execution_count": 18,
      "outputs": [
        {
          "output_type": "execute_result",
          "data": {
            "text/plain": [
              "8"
            ]
          },
          "metadata": {},
          "execution_count": 18
        }
      ]
    },
    {
      "cell_type": "code",
      "source": [
        "# atau menggunakan sum\n",
        "np.sum(c < 6)"
      ],
      "metadata": {
        "colab": {
          "base_uri": "https://localhost:8080/"
        },
        "id": "RsDeG-onzp6W",
        "outputId": "45791762-d99a-4cc7-fd40-d72311bd2d98"
      },
      "execution_count": 20,
      "outputs": [
        {
          "output_type": "execute_result",
          "data": {
            "text/plain": [
              "8"
            ]
          },
          "metadata": {},
          "execution_count": 20
        }
      ]
    },
    {
      "cell_type": "code",
      "source": [
        "# keuntungan menggunakan sum() kita jugadapat melihat kondisinya pada masing masing row / col\n",
        "np.sum(c < 6, axis=1)"
      ],
      "metadata": {
        "colab": {
          "base_uri": "https://localhost:8080/"
        },
        "id": "5Kn_yMhAzvWg",
        "outputId": "b419ce67-346e-4135-8879-cb028ee3797e"
      },
      "execution_count": 21,
      "outputs": [
        {
          "output_type": "execute_result",
          "data": {
            "text/plain": [
              "array([4, 2, 2])"
            ]
          },
          "metadata": {},
          "execution_count": 21
        }
      ]
    },
    {
      "cell_type": "code",
      "source": [
        "# atau kita menginginkan pemeriksaan lebih cepat, kita dapat menggunakan np.any() atau np.all()\n",
        "\n",
        "#mengecek apakah dalam array c ada yang bernilai lebih besar dri 8\n",
        "np.any(c > 8)"
      ],
      "metadata": {
        "colab": {
          "base_uri": "https://localhost:8080/"
        },
        "id": "ZNKL2knf3eR2",
        "outputId": "31faf47f-5a97-4110-f758-2d5369cdee6d"
      },
      "execution_count": 25,
      "outputs": [
        {
          "output_type": "execute_result",
          "data": {
            "text/plain": [
              "True"
            ]
          },
          "metadata": {},
          "execution_count": 25
        }
      ]
    },
    {
      "cell_type": "code",
      "source": [
        "#mengecek apakah dalam array c ada yang bernilai lebih kecil dri 0\n",
        "np.any(c < 0)"
      ],
      "metadata": {
        "colab": {
          "base_uri": "https://localhost:8080/"
        },
        "id": "X3MlkdAv4KNf",
        "outputId": "75282d4c-49ac-4a88-8acc-c27c10e4fd54"
      },
      "execution_count": 26,
      "outputs": [
        {
          "output_type": "execute_result",
          "data": {
            "text/plain": [
              "False"
            ]
          },
          "metadata": {},
          "execution_count": 26
        }
      ]
    },
    {
      "cell_type": "code",
      "source": [
        "# apakah semua nilailebih kecil dari 10\n",
        "np.all(c < 10)"
      ],
      "metadata": {
        "colab": {
          "base_uri": "https://localhost:8080/"
        },
        "id": "3Nqj4xRv4PzI",
        "outputId": "ab4ebc47-ca85-4e8b-add4-24113c34ed21"
      },
      "execution_count": 28,
      "outputs": [
        {
          "output_type": "execute_result",
          "data": {
            "text/plain": [
              "True"
            ]
          },
          "metadata": {},
          "execution_count": 28
        }
      ]
    },
    {
      "cell_type": "code",
      "source": [
        "# apakah semua value bernilai 6\n",
        "np.all(c == 6)"
      ],
      "metadata": {
        "colab": {
          "base_uri": "https://localhost:8080/"
        },
        "id": "kUFe67XK4tQW",
        "outputId": "cb3813bc-10c3-4b86-be41-cb8a213e1390"
      },
      "execution_count": 29,
      "outputs": [
        {
          "output_type": "execute_result",
          "data": {
            "text/plain": [
              "False"
            ]
          },
          "metadata": {},
          "execution_count": 29
        }
      ]
    },
    {
      "cell_type": "markdown",
      "source": [
        "np.any dan np. all juga dapat digunakan pada kondisi axis tertentu"
      ],
      "metadata": {
        "id": "EJ3hZOgq47c_"
      }
    },
    {
      "cell_type": "code",
      "source": [
        "# apakah pada setiap baris lebih kecil dari 8\n",
        "np.all(c < 8, axis=1)"
      ],
      "metadata": {
        "colab": {
          "base_uri": "https://localhost:8080/"
        },
        "id": "UU1CUDN35Hhb",
        "outputId": "d836fc6a-41dd-4bd5-9bca-7a9263aa9273"
      },
      "execution_count": 31,
      "outputs": [
        {
          "output_type": "execute_result",
          "data": {
            "text/plain": [
              "array([ True, False,  True])"
            ]
          },
          "metadata": {},
          "execution_count": 31
        }
      ]
    },
    {
      "cell_type": "markdown",
      "source": [
        "> **Boolean Operator**"
      ],
      "metadata": {
        "id": "DvOujZ0-6RZy"
      }
    },
    {
      "cell_type": "markdown",
      "source": [
        "![image.png](data:image/png;base64,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)"
      ],
      "metadata": {
        "id": "O4AY8sxg6le9"
      }
    },
    {
      "cell_type": "markdown",
      "source": [
        "# **Boolean Arrays as Mask**"
      ],
      "metadata": {
        "id": "k2L0LS0p6vkG"
      }
    },
    {
      "cell_type": "code",
      "source": [
        "c"
      ],
      "metadata": {
        "colab": {
          "base_uri": "https://localhost:8080/"
        },
        "id": "S2TRQOEx6969",
        "outputId": "ff406456-aee5-412d-af5a-b69847b3ea4d"
      },
      "execution_count": 33,
      "outputs": [
        {
          "output_type": "execute_result",
          "data": {
            "text/plain": [
              "array([[5, 0, 3, 3],\n",
              "       [7, 9, 3, 5],\n",
              "       [2, 4, 7, 6]])"
            ]
          },
          "metadata": {},
          "execution_count": 33
        }
      ]
    },
    {
      "cell_type": "code",
      "source": [
        "c < 5"
      ],
      "metadata": {
        "colab": {
          "base_uri": "https://localhost:8080/"
        },
        "id": "0gRk8Hg07GYl",
        "outputId": "7357f6a4-2b7e-4799-c19a-b53faf73ce18"
      },
      "execution_count": 35,
      "outputs": [
        {
          "output_type": "execute_result",
          "data": {
            "text/plain": [
              "array([[False,  True,  True,  True],\n",
              "       [False, False,  True, False],\n",
              "       [ True,  True, False, False]])"
            ]
          },
          "metadata": {},
          "execution_count": 35
        }
      ]
    },
    {
      "cell_type": "code",
      "source": [
        "# kemudian kita tampilkan value yang bernilai true\n",
        "c[c < 5]"
      ],
      "metadata": {
        "colab": {
          "base_uri": "https://localhost:8080/"
        },
        "id": "1IDNMsaE7K73",
        "outputId": "87e15544-1b98-4f5a-dffa-82031c7b13b3"
      },
      "execution_count": 36,
      "outputs": [
        {
          "output_type": "execute_result",
          "data": {
            "text/plain": [
              "array([0, 3, 3, 3, 2, 4])"
            ]
          },
          "metadata": {},
          "execution_count": 36
        }
      ]
    }
  ]
}