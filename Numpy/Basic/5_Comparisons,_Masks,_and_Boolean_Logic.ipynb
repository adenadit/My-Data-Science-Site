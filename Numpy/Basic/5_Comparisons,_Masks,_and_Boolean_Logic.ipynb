{
  "nbformat": 4,
  "nbformat_minor": 0,
  "metadata": {
    "colab": {
      "provenance": [],
      "authorship_tag": "ABX9TyNTrX18Lh/XlIP1CVIdgwp8",
      "include_colab_link": true
    },
    "kernelspec": {
      "name": "python3",
      "display_name": "Python 3"
    },
    "language_info": {
      "name": "python"
    }
  },
  "cells": [
    {
      "cell_type": "markdown",
      "metadata": {
        "id": "view-in-github",
        "colab_type": "text"
      },
      "source": [
        "<a href=\"https://colab.research.google.com/github/adenadit/My-Data-Science-Site/blob/main/Numpy/Basic/5_Comparisons%2C_Masks%2C_and_Boolean_Logic.ipynb\" target=\"_parent\"><img src=\"https://colab.research.google.com/assets/colab-badge.svg\" alt=\"Open In Colab\"/></a>"
      ]
    },
    {
      "cell_type": "markdown",
      "source": [
        "# **Example : Counting Rainy Days**"
      ],
      "metadata": {
        "id": "HHd1mzsBxJQT"
      }
    },
    {
      "cell_type": "markdown",
      "source": [
        "# **Comparison Operators as ufuncs**"
      ],
      "metadata": {
        "id": "VSotaTb1wJEG"
      }
    },
    {
      "cell_type": "code",
      "execution_count": 1,
      "metadata": {
        "id": "s178Xg8Ot3LA"
      },
      "outputs": [],
      "source": [
        "import numpy as np"
      ]
    },
    {
      "cell_type": "code",
      "source": [
        "a = np.array([1, 2, 3, 4, 5])"
      ],
      "metadata": {
        "id": "K8JPB7Tcwc6r"
      },
      "execution_count": 2,
      "outputs": []
    },
    {
      "cell_type": "code",
      "source": [
        "a < 3"
      ],
      "metadata": {
        "colab": {
          "base_uri": "https://localhost:8080/"
        },
        "id": "u6J0T2aUwFr9",
        "outputId": "196692c1-f2a6-4b70-80ef-ad7157a8cce4"
      },
      "execution_count": 4,
      "outputs": [
        {
          "output_type": "execute_result",
          "data": {
            "text/plain": [
              "array([ True,  True, False, False, False])"
            ]
          },
          "metadata": {},
          "execution_count": 4
        }
      ]
    },
    {
      "cell_type": "code",
      "source": [
        "a > 3"
      ],
      "metadata": {
        "colab": {
          "base_uri": "https://localhost:8080/"
        },
        "id": "uXvz1J_9xJhe",
        "outputId": "6b9c6e6f-f8d6-4dff-deca-0c7086e5dfb7"
      },
      "execution_count": 5,
      "outputs": [
        {
          "output_type": "execute_result",
          "data": {
            "text/plain": [
              "array([False, False, False,  True,  True])"
            ]
          },
          "metadata": {},
          "execution_count": 5
        }
      ]
    },
    {
      "cell_type": "code",
      "source": [
        "a <= 3"
      ],
      "metadata": {
        "colab": {
          "base_uri": "https://localhost:8080/"
        },
        "id": "A7IWNaQ5xL_O",
        "outputId": "6b31980b-d78a-452c-fc1a-0422c8816da6"
      },
      "execution_count": 6,
      "outputs": [
        {
          "output_type": "execute_result",
          "data": {
            "text/plain": [
              "array([ True,  True,  True, False, False])"
            ]
          },
          "metadata": {},
          "execution_count": 6
        }
      ]
    },
    {
      "cell_type": "code",
      "source": [
        "a >= 3"
      ],
      "metadata": {
        "colab": {
          "base_uri": "https://localhost:8080/"
        },
        "id": "lFUcg85WxOn3",
        "outputId": "5c7bcdf8-cd0b-41fe-eaa7-1eecf84f3959"
      },
      "execution_count": 7,
      "outputs": [
        {
          "output_type": "execute_result",
          "data": {
            "text/plain": [
              "array([False, False,  True,  True,  True])"
            ]
          },
          "metadata": {},
          "execution_count": 7
        }
      ]
    },
    {
      "cell_type": "code",
      "source": [
        "a != 3"
      ],
      "metadata": {
        "colab": {
          "base_uri": "https://localhost:8080/"
        },
        "id": "-ONE1kxdxR7m",
        "outputId": "494b7609-b4e3-4b08-a725-cb6a4a359702"
      },
      "execution_count": 8,
      "outputs": [
        {
          "output_type": "execute_result",
          "data": {
            "text/plain": [
              "array([ True,  True, False,  True,  True])"
            ]
          },
          "metadata": {},
          "execution_count": 8
        }
      ]
    },
    {
      "cell_type": "code",
      "source": [
        "a == 3"
      ],
      "metadata": {
        "colab": {
          "base_uri": "https://localhost:8080/"
        },
        "id": "mOXcqfKnxVf2",
        "outputId": "08c833e7-45db-4a71-be49-87d63f5553b5"
      },
      "execution_count": 9,
      "outputs": [
        {
          "output_type": "execute_result",
          "data": {
            "text/plain": [
              "array([False, False,  True, False, False])"
            ]
          },
          "metadata": {},
          "execution_count": 9
        }
      ]
    },
    {
      "cell_type": "code",
      "source": [
        "# kita juga dapat mengcompare elemen dari aray 2 dimensi\n",
        "(2*a) == (a**2)"
      ],
      "metadata": {
        "colab": {
          "base_uri": "https://localhost:8080/"
        },
        "id": "pkQdLVEMxbom",
        "outputId": "918759ac-dd7a-4338-ecbd-2536e6418d50"
      },
      "execution_count": 11,
      "outputs": [
        {
          "output_type": "execute_result",
          "data": {
            "text/plain": [
              "array([False,  True, False, False, False])"
            ]
          },
          "metadata": {},
          "execution_count": 11
        }
      ]
    },
    {
      "cell_type": "markdown",
      "source": [
        "![image.png](data:image/png;base64,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)"
      ],
      "metadata": {
        "id": "KWtphp7Nx_NW"
      }
    },
    {
      "cell_type": "code",
      "source": [
        "b = np.random.RandomState(0)\n",
        "c = b.randint(10, size=(3,4))\n",
        "print(c)"
      ],
      "metadata": {
        "colab": {
          "base_uri": "https://localhost:8080/"
        },
        "id": "5ZqziRggyRGx",
        "outputId": "a1191c38-4c73-4431-e5b6-5742468b6ccd"
      },
      "execution_count": 14,
      "outputs": [
        {
          "output_type": "stream",
          "name": "stdout",
          "text": [
            "[[5 0 3 3]\n",
            " [7 9 3 5]\n",
            " [2 4 7 6]]\n"
          ]
        }
      ]
    },
    {
      "cell_type": "code",
      "source": [
        "c < 6"
      ],
      "metadata": {
        "colab": {
          "base_uri": "https://localhost:8080/"
        },
        "id": "QS0nsbfcyoA2",
        "outputId": "a8903efc-9526-4b51-f22b-c08fee368ba8"
      },
      "execution_count": 15,
      "outputs": [
        {
          "output_type": "execute_result",
          "data": {
            "text/plain": [
              "array([[ True,  True,  True,  True],\n",
              "       [False, False,  True,  True],\n",
              "       [ True,  True, False, False]])"
            ]
          },
          "metadata": {},
          "execution_count": 15
        }
      ]
    },
    {
      "cell_type": "markdown",
      "source": [
        "# **Working with Boolean Arrays**"
      ],
      "metadata": {
        "id": "cw727r21y4wS"
      }
    },
    {
      "cell_type": "code",
      "source": [
        "print(c)"
      ],
      "metadata": {
        "colab": {
          "base_uri": "https://localhost:8080/"
        },
        "id": "KHznDUHjy-r5",
        "outputId": "b876ff36-9692-4e6b-86cd-557b25f951f1"
      },
      "execution_count": 17,
      "outputs": [
        {
          "output_type": "stream",
          "name": "stdout",
          "text": [
            "[[5 0 3 3]\n",
            " [7 9 3 5]\n",
            " [2 4 7 6]]\n"
          ]
        }
      ]
    },
    {
      "cell_type": "markdown",
      "source": [
        "> **Counting entries**\n"
      ],
      "metadata": {
        "id": "Cu3sNDJgzHi0"
      }
    },
    {
      "cell_type": "code",
      "source": [
        "# berapa banyak nilai yang lebih kecil dari 6\n",
        "np.count_nonzero(c < 6)"
      ],
      "metadata": {
        "colab": {
          "base_uri": "https://localhost:8080/"
        },
        "id": "h1p6s66DzGUJ",
        "outputId": "f56a95fd-591f-460c-9ba8-6ba6fe344a32"
      },
      "execution_count": 18,
      "outputs": [
        {
          "output_type": "execute_result",
          "data": {
            "text/plain": [
              "8"
            ]
          },
          "metadata": {},
          "execution_count": 18
        }
      ]
    },
    {
      "cell_type": "code",
      "source": [
        "# atau menggunakan sum\n",
        "np.sum(c < 6)"
      ],
      "metadata": {
        "colab": {
          "base_uri": "https://localhost:8080/"
        },
        "id": "RsDeG-onzp6W",
        "outputId": "45791762-d99a-4cc7-fd40-d72311bd2d98"
      },
      "execution_count": 20,
      "outputs": [
        {
          "output_type": "execute_result",
          "data": {
            "text/plain": [
              "8"
            ]
          },
          "metadata": {},
          "execution_count": 20
        }
      ]
    },
    {
      "cell_type": "code",
      "source": [
        "# keuntungan menggunakan sum() kita jugadapat melihat kondisinya pada masing masing row / col\n",
        "np.sum(c < 6, axis=1)"
      ],
      "metadata": {
        "colab": {
          "base_uri": "https://localhost:8080/"
        },
        "id": "5Kn_yMhAzvWg",
        "outputId": "b419ce67-346e-4135-8879-cb028ee3797e"
      },
      "execution_count": 21,
      "outputs": [
        {
          "output_type": "execute_result",
          "data": {
            "text/plain": [
              "array([4, 2, 2])"
            ]
          },
          "metadata": {},
          "execution_count": 21
        }
      ]
    }
  ]
}